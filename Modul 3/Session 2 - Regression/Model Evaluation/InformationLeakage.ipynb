{
 "cells": [
  {
   "cell_type": "code",
   "execution_count": 16,
   "metadata": {},
   "outputs": [],
   "source": [
    "import pandas as pd\n",
    "import numpy as np\n",
    "import seaborn as sns\n",
    "import matplotlib.pyplot as plt\n",
    "from sklearn.pipeline import Pipeline, make_pipeline\n",
    "from sklearn.compose import ColumnTransformer\n",
    "from sklearn.datasets import make_regression\n",
    "from sklearn.preprocessing import MinMaxScaler\n",
    "from sklearn.linear_model import LinearRegression\n",
    "from sklearn.model_selection import train_test_split\n",
    "from sklearn.metrics import root_mean_squared_log_error, mean_absolute_error, mean_absolute_percentage_error, mean_squared_error, root_mean_squared_error"
   ]
  },
  {
   "cell_type": "code",
   "execution_count": 17,
   "metadata": {},
   "outputs": [],
   "source": [
    "X, y = make_regression(n_samples=100, n_features=10, n_informative=10, n_targets=1, random_state=42)"
   ]
  },
  {
   "cell_type": "markdown",
   "metadata": {},
   "source": [
    "Trial 1: Training with Information Leakage"
   ]
  },
  {
   "cell_type": "code",
   "execution_count": 18,
   "metadata": {},
   "outputs": [
    {
     "name": "stdout",
     "output_type": "stream",
     "text": [
      "Model MAPE: 3.624578643737469e-15 RMSE: 3.8764748147738736e-13\n"
     ]
    }
   ],
   "source": [
    "X_leak = MinMaxScaler().fit_transform(X)\n",
    "X_train, X_test, y_train, y_test = train_test_split(X_leak, y, test_size=0.2, shuffle=True, random_state=42)\n",
    "LR_model = LinearRegression().fit(X_train, y_train)\n",
    "\n",
    "y_pred = LR_model.predict(X_test)\n",
    "print(f'Model MAPE: {mean_absolute_percentage_error(y_true=y_test, y_pred=y_pred)} RMSE: {root_mean_squared_error(y_true=y_test, y_pred=y_pred)}')"
   ]
  },
  {
   "cell_type": "code",
   "execution_count": 19,
   "metadata": {},
   "outputs": [
    {
     "name": "stdout",
     "output_type": "stream",
     "text": [
      "Model Score: 1.0\n"
     ]
    }
   ],
   "source": [
    "print(f'Model Score: {LR_model.score(X_test, y_test)}')"
   ]
  },
  {
   "cell_type": "markdown",
   "metadata": {},
   "source": [
    "Trial 2: Trainin with Proper Treatment"
   ]
  },
  {
   "cell_type": "code",
   "execution_count": 24,
   "metadata": {},
   "outputs": [],
   "source": [
    "X_train, X_test, y_train, y_test = train_test_split(X, y, test_size=0.2, shuffle=True, random_state=42)"
   ]
  },
  {
   "cell_type": "code",
   "execution_count": 25,
   "metadata": {},
   "outputs": [
    {
     "name": "stdout",
     "output_type": "stream",
     "text": [
      "Model MAPE: 1.6865738161762969 RMSE: 28.277255882592982\n"
     ]
    }
   ],
   "source": [
    "good_scaler = MinMaxScaler().fit(X_train)\n",
    "X_train = good_scaler.transform(X_train)\n",
    "X_test = good_scaler.transform(X_test)\n",
    "\n",
    "LR_model_clean = LinearRegression().fit(X_train, y_train)\n",
    "y_pred = LR_model.predict(X_test)\n",
    "print(f'Model MAPE: {mean_absolute_percentage_error(y_true=y_test, y_pred=y_pred)} RMSE: {root_mean_squared_error(y_true=y_test, y_pred=y_pred)}')"
   ]
  }
 ],
 "metadata": {
  "kernelspec": {
   "display_name": "base",
   "language": "python",
   "name": "python3"
  },
  "language_info": {
   "codemirror_mode": {
    "name": "ipython",
    "version": 3
   },
   "file_extension": ".py",
   "mimetype": "text/x-python",
   "name": "python",
   "nbconvert_exporter": "python",
   "pygments_lexer": "ipython3",
   "version": "3.12.4"
  }
 },
 "nbformat": 4,
 "nbformat_minor": 2
}
