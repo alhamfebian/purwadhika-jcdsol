{
 "cells": [
  {
   "cell_type": "code",
   "execution_count": 6,
   "metadata": {},
   "outputs": [],
   "source": [
    "import pandas as pd\n",
    "import numpy as np\n",
    "from sklearn.metrics.pairwise import cosine_similarity"
   ]
  },
  {
   "cell_type": "code",
   "execution_count": 9,
   "metadata": {},
   "outputs": [],
   "source": [
    "df = pd.DataFrame(\n",
    "    data=[[1,1,1,1], [1,1,1,0], [1,0,0,0]],\n",
    "    columns=['comedy', 'action', 'scifi', 'romantic'],\n",
    "    index=['antmant2', 'gotgvol2', '3idiots']\n",
    ")"
   ]
  },
  {
   "cell_type": "code",
   "execution_count": 8,
   "metadata": {},
   "outputs": [
    {
     "data": {
      "text/plain": [
       "0.8660254037844387"
      ]
     },
     "execution_count": 8,
     "metadata": {},
     "output_type": "execute_result"
    }
   ],
   "source": [
    "# Menhitung Cossine Similarity\n",
    "\n",
    "def cosine_similarity(x, y):\n",
    "    pembilang = 0\n",
    "    penyebut = 0\n",
    "    if len(x) == len(y):\n",
    "        for i in range(0, len(x)):\n",
    "            pembilang = pembilang+(x[i]*y[i])\n",
    "        penyebut = np.sqrt(np.sum(np.apply_along_axis(lambda k: k**2,axis=0, arr=x)))*np.sqrt(np.sum(np.apply_along_axis(lambda k: k**2,axis=0, arr=y)))\n",
    "        return(pembilang/penyebut)\n",
    "    else:\n",
    "        return(pembilang/penyebut)\n",
    "    \n",
    "cosine_similarity(df.loc['antmant2'], df.loc['gotgvol2'])"
   ]
  },
  {
   "cell_type": "code",
   "execution_count": 10,
   "metadata": {},
   "outputs": [
    {
     "data": {
      "text/plain": [
       "0.5"
      ]
     },
     "execution_count": 10,
     "metadata": {},
     "output_type": "execute_result"
    }
   ],
   "source": [
    "cosine_similarity(df.loc['antmant2'], df.loc['3idiots'])"
   ]
  },
  {
   "cell_type": "markdown",
   "metadata": {},
   "source": [
    "Menggunakan Data White Wine"
   ]
  },
  {
   "cell_type": "markdown",
   "metadata": {},
   "source": []
  }
 ],
 "metadata": {
  "kernelspec": {
   "display_name": "base",
   "language": "python",
   "name": "python3"
  },
  "language_info": {
   "codemirror_mode": {
    "name": "ipython",
    "version": 3
   },
   "file_extension": ".py",
   "mimetype": "text/x-python",
   "name": "python",
   "nbconvert_exporter": "python",
   "pygments_lexer": "ipython3",
   "version": "3.12.4"
  }
 },
 "nbformat": 4,
 "nbformat_minor": 2
}
