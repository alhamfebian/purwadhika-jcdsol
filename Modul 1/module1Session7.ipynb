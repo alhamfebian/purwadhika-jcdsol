{
 "cells": [
  {
   "cell_type": "code",
   "execution_count": null,
   "metadata": {},
   "outputs": [],
   "source": [
    "# Contoh cara buat function tanpa input dan output\n",
    "def first_function():\n",
    "    print('ini fungsi pertama saya')\n",
    "\n",
    "# Cara memanggil function\n",
    "first_function()"
   ]
  },
  {
   "cell_type": "code",
   "execution_count": null,
   "metadata": {},
   "outputs": [],
   "source": [
    "# Contoh cara buat function dengan input tapi tanpa output\n",
    "def function_with_input_but_without_output(nama, usia):\n",
    "    print(f'nama: {nama}, usia: {usia}')\n",
    "\n",
    "# Cara manggil function\n",
    "function_with_input_but_without_output('Alham', 25)"
   ]
  },
  {
   "cell_type": "code",
   "execution_count": null,
   "metadata": {},
   "outputs": [],
   "source": [
    "# Contoh function dengan default value\n",
    "def function_with_default_value(nama = 'Aldy', usia = 17):\n",
    "    print(f'nama: {nama}, usia: {usia}')\n",
    "\n",
    "# Cara manggil functionnya\n",
    "function_with_default_value()"
   ]
  },
  {
   "cell_type": "code",
   "execution_count": null,
   "metadata": {},
   "outputs": [],
   "source": [
    "# Contoh function yang ada input validation\n",
    "def function_with_validation(nama = 'Aldy', umur = 10):\n",
    "    if type(nama) is not str or type(umur) is not int:\n",
    "        raise TypeError ('Wrong Input')\n",
    "    else: print(f'nama: {nama}, umur: {umur}')\n",
    "\n",
    "# Cara manggil functionnya\n",
    "function_with_validation()"
   ]
  },
  {
   "cell_type": "code",
   "execution_count": null,
   "metadata": {},
   "outputs": [],
   "source": [
    "# Contoh function yang ada input dan output\n",
    "def function_with_input_and_output(angka1, angka2):\n",
    "    return angka1 + angka2\n",
    "\n",
    "function_with_input_and_output(1,2)"
   ]
  },
  {
   "cell_type": "code",
   "execution_count": null,
   "metadata": {},
   "outputs": [],
   "source": [
    "# Variable Local dan Global Variable\n",
    "def coba():\n",
    "    return x + 3\n",
    "\n",
    "x = 5\n",
    "print(coba(), x)"
   ]
  },
  {
   "cell_type": "code",
   "execution_count": null,
   "metadata": {},
   "outputs": [],
   "source": [
    "# Contoh Variable Global\n",
    "def coba():\n",
    "    x + 3\n",
    "    return x\n",
    "\n",
    "x = 8\n",
    "print(coba(), x)"
   ]
  },
  {
   "cell_type": "code",
   "execution_count": null,
   "metadata": {},
   "outputs": [],
   "source": [
    "# Contoh function yang error karena global dan local variable\n",
    "def coba():\n",
    "    x += 3\n",
    "    return x + 3\n",
    "\n",
    "x = 5\n",
    "print(coba(), x)\n",
    "\n",
    "# error karena x yang di dalam function belum terdefine, jadinya si python bingung"
   ]
  },
  {
   "cell_type": "code",
   "execution_count": null,
   "metadata": {},
   "outputs": [],
   "source": [
    "# Contoh lambda function\n",
    "temp_variable = lambda x: x**2\n",
    "\n",
    "print(temp_variable(10))"
   ]
  },
  {
   "cell_type": "markdown",
   "metadata": {},
   "source": [
    "Module 1 Session 7: Python Function"
   ]
  },
  {
   "cell_type": "code",
   "execution_count": null,
   "metadata": {},
   "outputs": [],
   "source": [
    "# Contoh function Recursive\n",
    "\n",
    "def hitungMundur(counter):\n",
    "    print(counter)\n",
    "    counter -= 1\n",
    "\n",
    "    if (counter > 0):\n",
    "        hitungMundur(counter)\n",
    "\n",
    "hitungMundur(3)"
   ]
  },
  {
   "cell_type": "code",
   "execution_count": null,
   "metadata": {},
   "outputs": [],
   "source": [
    "# Contoh function map\n",
    "list_contoh = [x for x in range(1, 10)]\n",
    "\n",
    "list_output = map(lambda x:x**2, list_contoh)\n",
    "\n",
    "print(list(list_output))"
   ]
  },
  {
   "cell_type": "code",
   "execution_count": null,
   "metadata": {},
   "outputs": [],
   "source": [
    "# Contoh function map 2\n",
    "list_contoh_nama = ['John', 'Stipen']\n",
    "\n",
    "list_temp = map(lambda nama: print(f'nama: {nama}'), list_contoh_nama)\n",
    "\n",
    "list_output = list(list_temp)\n",
    "\n",
    "print(list_output)"
   ]
  },
  {
   "cell_type": "code",
   "execution_count": null,
   "metadata": {},
   "outputs": [],
   "source": [
    "# Contoh filter function\n",
    "list1 = [1,2,3,4,5]\n",
    "\n",
    "def angkaGenap(angka):\n",
    "    return angka % 2 == 0\n",
    "\n",
    "hasilFilter = list(filter(angkaGenap, list1))\n",
    "\n",
    "print(hasilFilter)"
   ]
  },
  {
   "cell_type": "code",
   "execution_count": null,
   "metadata": {},
   "outputs": [],
   "source": [
    "# Map Excercise\n",
    "list1 = [1,3,4,5]\n",
    "list2 = [22, 17, 19, 20, 14]\n",
    "list3 = [2,4,6]\n",
    "list4 = [1,3,5]\n",
    "\n",
    "def ganjilGenap(angka):\n",
    "    if angka % 2 == 0:\n",
    "        return 'Genap'\n",
    "    else:\n",
    "        return 'Ganjil'\n",
    "    \n",
    "hasilGanjilGenapList1 = list(map(ganjilGenap, list1))\n",
    "hasilGanjilGenapList2 = list(map(ganjilGenap, list2))\n",
    "hasilGanjilGenapList3 = list(map(ganjilGenap, list3))\n",
    "hasilGanjilGenapList4 = list(map(ganjilGenap, list4))\n",
    "\n",
    "print(hasilGanjilGenapList1)\n",
    "print(hasilGanjilGenapList2)\n",
    "print(hasilGanjilGenapList3)\n",
    "print(hasilGanjilGenapList4)"
   ]
  },
  {
   "cell_type": "code",
   "execution_count": 3,
   "metadata": {},
   "outputs": [
    {
     "name": "stdout",
     "output_type": "stream",
     "text": [
      "[9800000, 9500000, 10300000]\n"
     ]
    }
   ],
   "source": [
    "# Filter Excercise\n",
    "def filter_duit(duit):\n",
    "    return duit - (duit * 0.05) > 9000000\n",
    "\n",
    "list_filter = [9100000, 9800000, 9500000, 10300000, 9300000]\n",
    "\n",
    "list_result = list(filter(filter_duit, list_filter))\n",
    "\n",
    "print(list_result)"
   ]
  }
 ],
 "metadata": {
  "kernelspec": {
   "display_name": "base",
   "language": "python",
   "name": "python3"
  },
  "language_info": {
   "codemirror_mode": {
    "name": "ipython",
    "version": 3
   },
   "file_extension": ".py",
   "mimetype": "text/x-python",
   "name": "python",
   "nbconvert_exporter": "python",
   "pygments_lexer": "ipython3",
   "version": "3.12.4"
  }
 },
 "nbformat": 4,
 "nbformat_minor": 2
}
