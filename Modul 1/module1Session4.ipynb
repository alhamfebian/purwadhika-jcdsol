{
 "cells": [
  {
   "cell_type": "markdown",
   "metadata": {},
   "source": [
    "Module 1 Session 4: Python Conditional Statements"
   ]
  },
  {
   "cell_type": "code",
   "execution_count": 3,
   "metadata": {},
   "outputs": [
    {
     "name": "stdout",
     "output_type": "stream",
     "text": [
      "True\n",
      "False\n",
      "True\n"
     ]
    }
   ],
   "source": [
    "# Boolean memiliki 2 value: True dan False\n",
    "# True = 1 dan False = 0\n",
    "\n",
    "# Comparison Operator\n",
    "# > : Greater Than\n",
    "# < : Less Than\n",
    "# >= : Greater Than or Equal To\n",
    "# <= : Less Than or Equal To\n",
    "# != : Not Equals\n",
    "# == : Equals\n",
    "\n",
    "# Logical Operators\n",
    "# and -> If both expression are true, result True\n",
    "# or -> If one of the expression is true, result True\n",
    "# not -> reverse boolean value, kalau True jadi False dan vice versa\n",
    "# 5 > 3 : True\n",
    "# 5 < 3 : False\n",
    "# 5 < 5 : False\n",
    "# 5 <= 5 : True\n",
    "\n",
    "print(5 > 3)\n",
    "print(5 < 3)\n",
    "print(5 <= 5) "
   ]
  },
  {
   "cell_type": "code",
   "execution_count": 6,
   "metadata": {},
   "outputs": [
    {
     "name": "stdout",
     "output_type": "stream",
     "text": [
      "False\n"
     ]
    }
   ],
   "source": [
    "# Conditional Statements\n",
    "nilai = 70\n",
    "if nilai >= 80:\n",
    "    print('A')\n",
    "elif nilai >= 70 and nilai < 80:\n",
    "    print('B')\n",
    "elif nilai >= 60 and nilai < 70:\n",
    "    print('C')\n",
    "else:\n",
    "    print('Pinter Banget')"
   ]
  },
  {
   "cell_type": "code",
   "execution_count": 17,
   "metadata": {},
   "outputs": [
    {
     "name": "stdout",
     "output_type": "stream",
     "text": [
      "Angaka 13 tergolong bilangan GANJIL!\n"
     ]
    }
   ],
   "source": [
    "# Excercise Session 4: Soal 1\n",
    "inputUser = int(input(' Masukkan Angka : '))\n",
    "if inputUser % 2 == 0:\n",
    "    print(f'Angka {inputUser} tergolong bilangan GENAP!')\n",
    "else:\n",
    "    print(f'Angaka {inputUser} tergolong bilangan GANJIL!')"
   ]
  },
  {
   "cell_type": "code",
   "execution_count": 24,
   "metadata": {},
   "outputs": [
    {
     "name": "stdout",
     "output_type": "stream",
     "text": [
      "IMT = 88.88888888888889, OBESITAS!\n"
     ]
    }
   ],
   "source": [
    "# Excercise Session 4: Soal 2\n",
    "massa = int(input(\"Masukan Massa (kg): \"))\n",
    "tinggi = int(input(\"Masukan Tinggi (cm): \"))\n",
    "IMT = massa / (tinggi / 100) ** 2\n",
    "if IMT < 18.5:\n",
    "    print(f'Massa {massa} kg dan tinggi {tinggi / 100} m')\n",
    "    print(f'IMT = {IMT}, BERAT BADAN KURANG!')\n",
    "elif IMT >= 18.5 and IMT <= 24.9:\n",
    "    print(f'Massa {massa} kg dan tinggi {tinggi / 100} m')\n",
    "    print(f'IMT = {IMT}, BERAT BADAN IDEAL!')\n",
    "elif IMT >= 25 and IMT <= 29.9:\n",
    "    print(f'Massa {massa} kg dan tinggi {tinggi / 100} m')\n",
    "    print(f'IMT = {IMT}, BERAT BADAN BERLEBIH!')\n",
    "elif IMT >= 30 and IMT <= 39.9:\n",
    "    print(f'Massa {massa} kg dan tinggi {tinggi / 100} m')\n",
    "    print(f'IMT = {IMT}, BERAT BADAN SANGAT BERLEBIH!')\n",
    "else:\n",
    "    print(f'IMT = {IMT}, OBESITAS!')"
   ]
  },
  {
   "cell_type": "code",
   "execution_count": 4,
   "metadata": {},
   "outputs": [
    {
     "name": "stdout",
     "output_type": "stream",
     "text": [
      "\n",
      "Detail Belanja\n",
      "\n",
      "Apel : 5 x 10000 = 50000\n",
      "\n",
      "Jeruk : 5 x 15000 = 75000\n",
      "\n",
      "Anggur : 5 x 20000 = 100000\n",
      "\n",
      "Total Belanja : Rp225000\n",
      "Uang anda sebesar: 225000\n",
      "Terima Kasih\n"
     ]
    }
   ],
   "source": [
    "# Excercise Session 4: Soal 3\n",
    "hargaApel = 10000\n",
    "hargaJeruk = 15000\n",
    "hargaAnggur = 20000\n",
    "\n",
    "jumlahApel = int(input(\"Masukan Jumlah Apel : \"))\n",
    "jumlahJeruk = int(input(\"Masukan Jumlah Jeruk : \"))\n",
    "jumlahAnggur = int(input(\"Masukan Jumlah Anggur : \"))\n",
    "\n",
    "print('\\nDetail Belanja\\n')\n",
    "\n",
    "totalBelanjaApel = jumlahApel * hargaApel\n",
    "totalBelanjaJeruk = jumlahJeruk * hargaJeruk\n",
    "totalBelanjaAnggur = jumlahAnggur * hargaAnggur\n",
    "totalSeluruhBelanja = totalBelanjaApel + totalBelanjaJeruk + totalBelanjaAnggur\n",
    "\n",
    "print(f'Apel : {jumlahApel} x {hargaApel} = {jumlahApel * hargaApel}\\n')\n",
    "print(f'Jeruk : {jumlahJeruk} x {hargaJeruk} = {jumlahJeruk * hargaJeruk}\\n')\n",
    "print(f'Anggur : {jumlahAnggur} x {hargaAnggur} = {jumlahAnggur * hargaAnggur}\\n')\n",
    "\n",
    "print(\"Total Belanja : Rp{totalBelanja}\".format(totalBelanja = totalSeluruhBelanja)) \n",
    "\n",
    "inputUangUser = int(input('Masuk Jumlah Uang: '))\n",
    "\n",
    "print(f'Uang anda sebesar: {inputUangUser}')\n",
    "\n",
    "if (inputUangUser - totalSeluruhBelanja) < 0:\n",
    "    print(f'Transaksi anda dibatalkan\\nuangnya kurang sebesar Rp{abs(inputUangUser - totalSeluruhBelanja)}')\n",
    "elif (inputUangUser - totalSeluruhBelanja) > 0:\n",
    "    print(f'Terima Kasih\\nUang Kembali anda : Rp{inputUangUser - totalSeluruhBelanja}')\n",
    "else:\n",
    "    print('Terima Kasih')"
   ]
  }
 ],
 "metadata": {
  "kernelspec": {
   "display_name": "base",
   "language": "python",
   "name": "python3"
  },
  "language_info": {
   "codemirror_mode": {
    "name": "ipython",
    "version": 3
   },
   "file_extension": ".py",
   "mimetype": "text/x-python",
   "name": "python",
   "nbconvert_exporter": "python",
   "pygments_lexer": "ipython3",
   "version": "3.12.4"
  }
 },
 "nbformat": 4,
 "nbformat_minor": 2
}
