{
 "cells": [
  {
   "cell_type": "code",
   "execution_count": null,
   "metadata": {},
   "outputs": [],
   "source": [
    "import numpy as np\n",
    "import pandas as pd"
   ]
  },
  {
   "cell_type": "code",
   "execution_count": null,
   "metadata": {},
   "outputs": [],
   "source": [
    "df = pd.read_csv(\n",
    "    filepath_or_buffer='Transjakarta.csv'\n",
    ")\n",
    "\n",
    "print(df.head())"
   ]
  },
  {
   "cell_type": "code",
   "execution_count": null,
   "metadata": {},
   "outputs": [],
   "source": [
    "df.duplicated() "
   ]
  },
  {
   "cell_type": "markdown",
   "metadata": {},
   "source": [
    "Objective: Cleansing the data with reduction less than 10%"
   ]
  },
  {
   "cell_type": "code",
   "execution_count": null,
   "metadata": {},
   "outputs": [],
   "source": [
    "# Cara 1: Menghapus semua baris yang kolomnya kosong\n",
    "# Gagal, karena tidak memenuhi objective cleansing kurang dari 10%\n",
    "df_drop_na = df.dropna(how='any', axis=0)\n",
    "len(df_drop_na)"
   ]
  },
  {
   "cell_type": "code",
   "execution_count": null,
   "metadata": {},
   "outputs": [],
   "source": [
    "(len(df)-len(df_drop_na))/len(df)*100"
   ]
  },
  {
   "cell_type": "code",
   "execution_count": null,
   "metadata": {},
   "outputs": [],
   "source": [
    "# Cara 2: Mengisi baris2 yang kosong\n",
    "# Kalau baris di kolom tapOutStopsnya kosong, kolom payAmount kita isi 20.000\n",
    "# Jadi hanya mengisi baris payAmount & tapOutStops yang keduanya kosong\n",
    "\n",
    "\n",
    "df['payAmount_copy'] = df['tapOutStops'].apply(lambda x: 20000 if x is np.nan else np.nan)\n",
    "\n",
    "df['payAmount'] = df['payAmount'].fillna(value=df['payAmount_copy'])\n"
   ]
  },
  {
   "cell_type": "code",
   "execution_count": null,
   "metadata": {},
   "outputs": [],
   "source": [
    "# Cara 3: Mengisi baris2 yang kosong untuk kolom corridorID dan corridorName\n",
    "\n",
    "# Copy dulu kolom corridorID dan corridorName\n",
    "df_corridorId_corridorName_copy = df[['corridorID', 'corridorName']].copy()\n",
    "\n"
   ]
  },
  {
   "cell_type": "code",
   "execution_count": null,
   "metadata": {},
   "outputs": [],
   "source": [
    "# Ngecek berapa baris yang corridorID dan corridorNamenya kosong\n",
    "df_corridorId_corridorName_copy[df_corridorId_corridorName_copy['corridorID'].isna() & df_corridorId_corridorName_copy['corridorName'].isna()]"
   ]
  },
  {
   "cell_type": "code",
   "execution_count": null,
   "metadata": {},
   "outputs": [],
   "source": [
    "# Delete baris yang corridorID dan corridorNamenya kosong\n",
    "df_corridorId_corridorName_copy.dropna(how='all', subset=['corridorID', 'corridorName'], inplace=True)"
   ]
  },
  {
   "cell_type": "code",
   "execution_count": null,
   "metadata": {},
   "outputs": [],
   "source": [
    "# Cara mengisi kolom corridorName yang kosong berdasarkan corridorID\n",
    "\n",
    "corridorID_corridorName_dictionary = {}\n",
    "\n",
    "for item in df_corridorId_corridorName_copy.iterrows():\n",
    "    if (type(item[1]['corridorID']) == float or type(item[1]['corridorName']) == float):\n",
    "        continue\n",
    "    else:\n",
    "        corridorID_corridorName_dictionary[f'{item[1]['corridorID']}'] = item[1]['corridorName']\n",
    "        \n",
    "\n",
    "print(corridorID_corridorName_dictionary)"
   ]
  },
  {
   "cell_type": "code",
   "execution_count": null,
   "metadata": {},
   "outputs": [],
   "source": [
    "def findKey(value):\n",
    "    for key, valueDict in corridorID_corridorName_dictionary.items():\n",
    "        if value == valueDict:\n",
    "            return key \n",
    "\n",
    "for item in df_corridorId_corridorName_copy.iterrows():\n",
    "    if type(item[1]['corridorID']) == float:\n",
    "        df_corridorId_corridorName_copy.loc[item[0], 'corridorID'] = findKey(item[1]['corridorName'])\n",
    "\n",
    "for item in df_corridorId_corridorName_copy.iterrows():\n",
    "    if type(item[1]['corridorName']) == float:\n",
    "        df_corridorId_corridorName_copy.loc[item[0], 'corridorName'] = corridorID_corridorName_dictionary[f'{item[1]['corridorID']}'] \n",
    "\n",
    "df_corridorId_corridorName_copy"
   ]
  },
  {
   "cell_type": "code",
   "execution_count": null,
   "metadata": {},
   "outputs": [],
   "source": [
    "my_list = [\n",
    "    ['5m','Depok'],\n",
    "    ['6z','Depok'],\n",
    "    ['6z','Depok'],\n",
    "    ['3a','Bandung'],\n",
    "    ['4c','Jogja']\n",
    "]\n",
    "\n",
    "df_test = pd.DataFrame(\n",
    "    data=my_list,\n",
    "    columns='corridorID corridorName'.split()\n",
    ")\n",
    "\n",
    "for item in df_corridorId_corridorName_copy.iterrows():\n",
    "    if item[1]['corridorID'] == 'M5':\n",
    "        df_corridorId_corridorName_copy.loc[item[0], 'corridorID'] = '5'\n",
    "\n",
    "df_corridorId_corridorName_copy\n",
    "\n",
    "\n",
    "# temp_dictionary = {}\n",
    "\n",
    "# for item in df_corridorId_corridorName_copy.iterrows():\n",
    "#     if item[1]['corridorName'] in temp_dictionary:\n",
    "#         temp_dictionary[f'{item[1]['corridorName']}'].update({\n",
    "#              f'{item[1]['corridorID']}' : item[0]\n",
    "#         })\n",
    "#     else:\n",
    "#         temp_dictionary[f'{item[1]['corridorName']}'] = {\n",
    "#             f'{item[1]['corridorID']}' : item[0]\n",
    "#         }\n",
    "\n",
    "# for item in df_corridorId_corridorName_copy.iterrows():\n",
    "#     temp_dictionary[f'{item[1]['corridorName']}'] = {\n",
    "#             f'{item[1]['corridorID']}' : item[0]\n",
    "#         }\n",
    "        \n",
    "\n",
    "\n",
    "# print(temp_dictionary)   \n",
    "\n",
    "\n",
    "\n",
    "# for key1, val1 in temp_dictionary.items():\n",
    "#     for key2, val2 in val1.items():\n",
    "#         if len(temp_dictionary[key1]) > 1:\n",
    "#             print(f'{key1}: {key2}')\n",
    "#             df['corridorID'] = df['corridorName'].apply(lambda x: 5 if x is key1 else 10)\n",
    "    \n",
    "# df_corridorId_corridorName_copy[df_corridorId_corridorName_copy['corridorID'] == 'M5']['corridorID'] = '5'\n",
    "    "
   ]
  }
 ],
 "metadata": {
  "kernelspec": {
   "display_name": "base",
   "language": "python",
   "name": "python3"
  },
  "language_info": {
   "codemirror_mode": {
    "name": "ipython",
    "version": 3
   },
   "file_extension": ".py",
   "mimetype": "text/x-python",
   "name": "python",
   "nbconvert_exporter": "python",
   "pygments_lexer": "ipython3",
   "version": "3.12.4"
  }
 },
 "nbformat": 4,
 "nbformat_minor": 2
}
