{
 "cells": [
  {
   "cell_type": "code",
   "execution_count": 1,
   "metadata": {},
   "outputs": [],
   "source": [
    "import re"
   ]
  },
  {
   "cell_type": "code",
   "execution_count": 2,
   "metadata": {},
   "outputs": [],
   "source": [
    "contoh_kalimat = 'graygreygriygruygroy'"
   ]
  },
  {
   "cell_type": "code",
   "execution_count": 4,
   "metadata": {},
   "outputs": [
    {
     "name": "stdout",
     "output_type": "stream",
     "text": [
      "['gray', 'grey']\n"
     ]
    }
   ],
   "source": [
    "hasil_pencarian = re.findall(pattern=r\"gr[ea]y\", string=contoh_kalimat)\n",
    "print(hasil_pencarian)"
   ]
  },
  {
   "cell_type": "code",
   "execution_count": null,
   "metadata": {},
   "outputs": [],
   "source": [
    "# (?i)[a-z0-9A-Z]+\n",
    "# [A-Z0-9]+\n",
    "# [A-Z]{1,2} \\d+ [A-Z]{1,3} -> buat case plat nomor: AB 1234 CAD, B 1111 SUT\n",
    "# [^n]og -> huruf selain n akan masuk, contoh: bog, dog, pog, hog, dll\n",
    "# o{2,}ps, oo+ps, o+.ps regex untuk: oops, oooops tapi ops tidak ikutan\n",
    "# (abc)+ -> exact hurufnya harus abc\n",
    "# [abc]+ -> ga harus exact abc, cba, bca juga masuk"
   ]
  }
 ],
 "metadata": {
  "kernelspec": {
   "display_name": "base",
   "language": "python",
   "name": "python3"
  },
  "language_info": {
   "codemirror_mode": {
    "name": "ipython",
    "version": 3
   },
   "file_extension": ".py",
   "mimetype": "text/x-python",
   "name": "python",
   "nbconvert_exporter": "python",
   "pygments_lexer": "ipython3",
   "version": "3.12.4"
  }
 },
 "nbformat": 4,
 "nbformat_minor": 2
}
