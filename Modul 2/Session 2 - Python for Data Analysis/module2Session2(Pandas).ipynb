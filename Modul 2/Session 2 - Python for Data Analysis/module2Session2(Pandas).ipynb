{
 "cells": [
  {
   "cell_type": "markdown",
   "metadata": {},
   "source": [
    "Pandas: Series and DataFrame"
   ]
  },
  {
   "cell_type": "code",
   "execution_count": 1,
   "metadata": {},
   "outputs": [],
   "source": [
    "import numpy as np\n",
    "import pandas as pd"
   ]
  },
  {
   "cell_type": "code",
   "execution_count": null,
   "metadata": {},
   "outputs": [],
   "source": [
    "# Di Pandas ada 2 jenis data: Series atau DataFrame\n",
    "# Series itu sama seperti array 1 dimensi\n",
    "# DataFrame itu sama seperti array 2 dimensi"
   ]
  },
  {
   "cell_type": "code",
   "execution_count": 6,
   "metadata": {},
   "outputs": [
    {
     "data": {
      "text/plain": [
       "0    50\n",
       "1    60\n",
       "2    80\n",
       "dtype: int64"
      ]
     },
     "execution_count": 6,
     "metadata": {},
     "output_type": "execute_result"
    }
   ],
   "source": [
    "# Cara membuat pandas series\n",
    "# Di Pandas itu berbentuk kolumnar, jadi hasil printnya itu berbentuk kolom\n",
    "\n",
    "labels = ['a', 'b', 'c']\n",
    "my_list = [10,20,30]\n",
    "arr = np.array([50,60,80])\n",
    "d = {'a':10, 'b':20, 'c': 30}\n",
    "\n",
    "\n",
    "pd.Series(data=arr)"
   ]
  },
  {
   "cell_type": "code",
   "execution_count": 3,
   "metadata": {},
   "outputs": [
    {
     "data": {
      "text/plain": [
       "a    10\n",
       "b    20\n",
       "c    30\n",
       "dtype: int64"
      ]
     },
     "execution_count": 3,
     "metadata": {},
     "output_type": "execute_result"
    }
   ],
   "source": [
    "# Di Pandas, Indexnya bisa diganti menggunakan labels\n",
    "# Tapi panjang labels harus sama dengan panjang values yang ada di seriesnya\n",
    "\n",
    "pd.Series(data=my_list, index=labels) "
   ]
  },
  {
   "cell_type": "code",
   "execution_count": null,
   "metadata": {},
   "outputs": [],
   "source": [
    "# Cara membuat pandas series menggunakan numpy array\n",
    "\n",
    "pd.Series(data=arr, index=labels)"
   ]
  },
  {
   "cell_type": "code",
   "execution_count": null,
   "metadata": {},
   "outputs": [],
   "source": [
    "# Cara membuat pandas series menggunakan dictionary\n",
    "# Key yang ada di dictionary akan menjadi index\n",
    "\n",
    "pd.Series(data=d)"
   ]
  },
  {
   "cell_type": "code",
   "execution_count": 4,
   "metadata": {},
   "outputs": [
    {
     "ename": "TypeError",
     "evalue": "Index(...) must be called with a collection of some kind, <built-in method split of str object at 0x12f7830c0> was passed",
     "output_type": "error",
     "traceback": [
      "\u001b[0;31m---------------------------------------------------------------------------\u001b[0m",
      "\u001b[0;31mTypeError\u001b[0m                                 Traceback (most recent call last)",
      "Cell \u001b[0;32mIn[4], line 4\u001b[0m\n\u001b[1;32m      1\u001b[0m \u001b[38;5;66;03m# Cara membuat pandas series menggunakan dictionary\u001b[39;00m\n\u001b[1;32m      2\u001b[0m \u001b[38;5;66;03m# Kalau seperti contoh di bawah, ini valuenya tidak akan terbaca karena keynya tidak sama dengan yang ada di dictionary\u001b[39;00m\n\u001b[0;32m----> 4\u001b[0m pd\u001b[38;5;241m.\u001b[39mSeries(data\u001b[38;5;241m=\u001b[39md, index\u001b[38;5;241m=\u001b[39m\u001b[38;5;124m'\u001b[39m\u001b[38;5;124m0 1 2\u001b[39m\u001b[38;5;124m'\u001b[39m\u001b[38;5;241m.\u001b[39msplit)\n",
      "File \u001b[0;32m/opt/anaconda3/lib/python3.12/site-packages/pandas/core/series.py:490\u001b[0m, in \u001b[0;36mSeries.__init__\u001b[0;34m(self, data, index, dtype, name, copy, fastpath)\u001b[0m\n\u001b[1;32m    487\u001b[0m name \u001b[38;5;241m=\u001b[39m ibase\u001b[38;5;241m.\u001b[39mmaybe_extract_name(name, data, \u001b[38;5;28mtype\u001b[39m(\u001b[38;5;28mself\u001b[39m))\n\u001b[1;32m    489\u001b[0m \u001b[38;5;28;01mif\u001b[39;00m index \u001b[38;5;129;01mis\u001b[39;00m \u001b[38;5;129;01mnot\u001b[39;00m \u001b[38;5;28;01mNone\u001b[39;00m:\n\u001b[0;32m--> 490\u001b[0m     index \u001b[38;5;241m=\u001b[39m ensure_index(index)\n\u001b[1;32m    492\u001b[0m \u001b[38;5;28;01mif\u001b[39;00m dtype \u001b[38;5;129;01mis\u001b[39;00m \u001b[38;5;129;01mnot\u001b[39;00m \u001b[38;5;28;01mNone\u001b[39;00m:\n\u001b[1;32m    493\u001b[0m     dtype \u001b[38;5;241m=\u001b[39m \u001b[38;5;28mself\u001b[39m\u001b[38;5;241m.\u001b[39m_validate_dtype(dtype)\n",
      "File \u001b[0;32m/opt/anaconda3/lib/python3.12/site-packages/pandas/core/indexes/base.py:7649\u001b[0m, in \u001b[0;36mensure_index\u001b[0;34m(index_like, copy)\u001b[0m\n\u001b[1;32m   7647\u001b[0m         \u001b[38;5;28;01mreturn\u001b[39;00m Index(index_like, copy\u001b[38;5;241m=\u001b[39mcopy, tupleize_cols\u001b[38;5;241m=\u001b[39m\u001b[38;5;28;01mFalse\u001b[39;00m)\n\u001b[1;32m   7648\u001b[0m \u001b[38;5;28;01melse\u001b[39;00m:\n\u001b[0;32m-> 7649\u001b[0m     \u001b[38;5;28;01mreturn\u001b[39;00m Index(index_like, copy\u001b[38;5;241m=\u001b[39mcopy)\n",
      "File \u001b[0;32m/opt/anaconda3/lib/python3.12/site-packages/pandas/core/indexes/base.py:532\u001b[0m, in \u001b[0;36mIndex.__new__\u001b[0;34m(cls, data, dtype, copy, name, tupleize_cols)\u001b[0m\n\u001b[1;32m    528\u001b[0m     \u001b[38;5;28;01mreturn\u001b[39;00m \u001b[38;5;28mcls\u001b[39m(np\u001b[38;5;241m.\u001b[39masarray(data), dtype\u001b[38;5;241m=\u001b[39mdtype, copy\u001b[38;5;241m=\u001b[39mcopy, name\u001b[38;5;241m=\u001b[39mname)\n\u001b[1;32m    529\u001b[0m \u001b[38;5;28;01melif\u001b[39;00m \u001b[38;5;129;01mnot\u001b[39;00m is_list_like(data) \u001b[38;5;129;01mand\u001b[39;00m \u001b[38;5;129;01mnot\u001b[39;00m \u001b[38;5;28misinstance\u001b[39m(data, \u001b[38;5;28mmemoryview\u001b[39m):\n\u001b[1;32m    530\u001b[0m     \u001b[38;5;66;03m# 2022-11-16 the memoryview check is only necessary on some CI\u001b[39;00m\n\u001b[1;32m    531\u001b[0m     \u001b[38;5;66;03m#  builds, not clear why\u001b[39;00m\n\u001b[0;32m--> 532\u001b[0m     \u001b[38;5;28;01mraise\u001b[39;00m \u001b[38;5;28mcls\u001b[39m\u001b[38;5;241m.\u001b[39m_raise_scalar_data_error(data)\n\u001b[1;32m    534\u001b[0m \u001b[38;5;28;01melse\u001b[39;00m:\n\u001b[1;32m    535\u001b[0m     \u001b[38;5;28;01mif\u001b[39;00m tupleize_cols:\n\u001b[1;32m    536\u001b[0m         \u001b[38;5;66;03m# GH21470: convert iterable to list before determining if empty\u001b[39;00m\n",
      "File \u001b[0;32m/opt/anaconda3/lib/python3.12/site-packages/pandas/core/indexes/base.py:5289\u001b[0m, in \u001b[0;36mIndex._raise_scalar_data_error\u001b[0;34m(cls, data)\u001b[0m\n\u001b[1;32m   5284\u001b[0m \u001b[38;5;129m@final\u001b[39m\n\u001b[1;32m   5285\u001b[0m \u001b[38;5;129m@classmethod\u001b[39m\n\u001b[1;32m   5286\u001b[0m \u001b[38;5;28;01mdef\u001b[39;00m \u001b[38;5;21m_raise_scalar_data_error\u001b[39m(\u001b[38;5;28mcls\u001b[39m, data):\n\u001b[1;32m   5287\u001b[0m     \u001b[38;5;66;03m# We return the TypeError so that we can raise it from the constructor\u001b[39;00m\n\u001b[1;32m   5288\u001b[0m     \u001b[38;5;66;03m#  in order to keep mypy happy\u001b[39;00m\n\u001b[0;32m-> 5289\u001b[0m     \u001b[38;5;28;01mraise\u001b[39;00m \u001b[38;5;167;01mTypeError\u001b[39;00m(\n\u001b[1;32m   5290\u001b[0m         \u001b[38;5;124mf\u001b[39m\u001b[38;5;124m\"\u001b[39m\u001b[38;5;132;01m{\u001b[39;00m\u001b[38;5;28mcls\u001b[39m\u001b[38;5;241m.\u001b[39m\u001b[38;5;18m__name__\u001b[39m\u001b[38;5;132;01m}\u001b[39;00m\u001b[38;5;124m(...) must be called with a collection of some \u001b[39m\u001b[38;5;124m\"\u001b[39m\n\u001b[1;32m   5291\u001b[0m         \u001b[38;5;124mf\u001b[39m\u001b[38;5;124m\"\u001b[39m\u001b[38;5;124mkind, \u001b[39m\u001b[38;5;132;01m{\u001b[39;00m\u001b[38;5;28mrepr\u001b[39m(data)\u001b[38;5;250m \u001b[39m\u001b[38;5;28;01mif\u001b[39;00m\u001b[38;5;250m \u001b[39m\u001b[38;5;129;01mnot\u001b[39;00m\u001b[38;5;250m \u001b[39m\u001b[38;5;28misinstance\u001b[39m(data,\u001b[38;5;250m \u001b[39mnp\u001b[38;5;241m.\u001b[39mgeneric)\u001b[38;5;250m \u001b[39m\u001b[38;5;28;01melse\u001b[39;00m\u001b[38;5;250m \u001b[39m\u001b[38;5;28mstr\u001b[39m(data)\u001b[38;5;132;01m}\u001b[39;00m\u001b[38;5;124m \u001b[39m\u001b[38;5;124m\"\u001b[39m\n\u001b[1;32m   5292\u001b[0m         \u001b[38;5;124m\"\u001b[39m\u001b[38;5;124mwas passed\u001b[39m\u001b[38;5;124m\"\u001b[39m\n\u001b[1;32m   5293\u001b[0m     )\n",
      "\u001b[0;31mTypeError\u001b[0m: Index(...) must be called with a collection of some kind, <built-in method split of str object at 0x12f7830c0> was passed"
     ]
    }
   ],
   "source": [
    "# Cara membuat pandas series menggunakan dictionary\n",
    "# Kalau seperti contoh di bawah, ini valuenya tidak akan terbaca karena keynya tidak sama dengan yang ada di dictionary\n",
    "\n",
    "pd.Series(data=d, index='0 1 2'.split)"
   ]
  },
  {
   "cell_type": "code",
   "execution_count": null,
   "metadata": {},
   "outputs": [],
   "source": [
    "# Cara membuat pandas DataFrame menggunakan list 1 dimensi\n",
    "# Banyaknya kolom = length dari list\n",
    "# Banyaknya baris = jumlah data lisnya\n",
    "\n",
    "a = [i for i in range(1,5)]\n",
    "b = [i for i in range(5,9)]\n",
    "c = [i for i in range(9,13)]\n",
    "\n",
    "pd.DataFrame(\n",
    "    data=[a,b,c],\n",
    "    index='a b c'.split(),\n",
    "    columns='w x y z'.split()\n",
    ")"
   ]
  },
  {
   "cell_type": "code",
   "execution_count": null,
   "metadata": {},
   "outputs": [],
   "source": [
    "# Cara membuat pandas DataFrame menggunakan list 2 dimensi\n",
    "\n",
    "my_list = [\n",
    "    [1,2,3,4],\n",
    "    [5,6,7,8],\n",
    "    [9,10,11,12]\n",
    "]\n",
    "\n",
    "pd.DataFrame(\n",
    "    data=my_list,\n",
    "    columns='w x y z'.split(),\n",
    "    index='a b c'.split()\n",
    ")"
   ]
  },
  {
   "cell_type": "code",
   "execution_count": null,
   "metadata": {},
   "outputs": [],
   "source": [
    "# Cara melakukan transformasi -> dari kolom jadi baris\n",
    "\n",
    "pd.DataFrame(\n",
    "    data=my_list,\n",
    "    columns='w x y z'.split(),\n",
    "    index='a b c'.split()\n",
    ").T"
   ]
  },
  {
   "cell_type": "code",
   "execution_count": null,
   "metadata": {},
   "outputs": [],
   "source": [
    "# Cara membuat DataFrame menggunakan array\n",
    "\n",
    "np.random.seed(101)\n",
    "\n",
    "df = pd.DataFrame(np.random.randn(5,4), index = 'A B C D E'.split(), columns='W X Y Z'.split())\n",
    "\n",
    "print(df)"
   ]
  },
  {
   "cell_type": "code",
   "execution_count": null,
   "metadata": {},
   "outputs": [],
   "source": [
    "# Cara membuat DataFrame menggunakan dictionary\n",
    "# Keynya menjadi kolom, oleh karena itu harus ditambahkan index\n",
    "# Indexnya harus sama panjangnya dengan panjang listnya\n",
    "\n",
    "my_d = {\n",
    "        'a': [1,2,3,4],\n",
    "        'b': [5,6,7,8],\n",
    "        'c': [9,10,11,12]\n",
    "    }\n",
    "\n",
    "pd.DataFrame(\n",
    "    data=my_d,\n",
    "    index='w x y z'.split()\n",
    ")"
   ]
  },
  {
   "cell_type": "markdown",
   "metadata": {},
   "source": [
    "Pandas: Indexing and Selecting Data"
   ]
  },
  {
   "cell_type": "code",
   "execution_count": null,
   "metadata": {},
   "outputs": [],
   "source": [
    "# Belajar Pandas (Selecting Data and Indexing)\n",
    "# Cara mengambil 1 Kolom: W\n",
    "\n",
    "df['W']"
   ]
  },
  {
   "cell_type": "code",
   "execution_count": null,
   "metadata": {},
   "outputs": [],
   "source": [
    "# Cara mengambil 1 kolom dan 1 baris\n",
    "# Kolom W dan baris pertamanya\n",
    "# ['W'] -> untuk kolom, [0] -> untuk baris\n",
    "# Formatnya Kolom dan Baris dulu\n",
    "\n",
    "df['W'][0]"
   ]
  },
  {
   "cell_type": "code",
   "execution_count": null,
   "metadata": {},
   "outputs": [],
   "source": [
    "# Mengambil 1 kolom dan beberapa baris dengan slicing\n",
    "# Mengambil Kolom W dan dari Baris B sampai E\n",
    "\n",
    "df['W']['B':'E']\n",
    "df['W'][0:2]"
   ]
  },
  {
   "cell_type": "code",
   "execution_count": null,
   "metadata": {},
   "outputs": [],
   "source": [
    "# Cara menambahkan kolom\n",
    "\n",
    "df['min'] = [1,2,3,4,5]\n",
    "print(df)"
   ]
  },
  {
   "cell_type": "code",
   "execution_count": null,
   "metadata": {},
   "outputs": [],
   "source": [
    "# Cara mengakses Kolom tapi tidak direkomendasi walaupun bisa\n",
    "# Karena code kayak gini sama kayak manggil fungsi\n",
    "# Kalau nama kolom = sama fungsi yang ada di python, nanti pythonnya bingun\n",
    "\n",
    "df.min"
   ]
  },
  {
   "cell_type": "code",
   "execution_count": null,
   "metadata": {},
   "outputs": [],
   "source": [
    "# Cara mengambil multiple kolom, karena bentuknya DataFrame kurung sikunya harus ada 2\n",
    "\n",
    "df[['W','Z']]"
   ]
  },
  {
   "cell_type": "code",
   "execution_count": null,
   "metadata": {},
   "outputs": [],
   "source": [
    "# Cara mengambil multiple kolom dan juga multiple baris dari kolom tersebut\n",
    "\n",
    "df[['W','Z']][0:2]"
   ]
  },
  {
   "cell_type": "code",
   "execution_count": null,
   "metadata": {},
   "outputs": [],
   "source": [
    "# Cara mengambil data lebih dari 1 kolom (alternatively)\n",
    "# Ini menggunakan fancy index\n",
    "# Hanya ngambil kolom X dan Z saja\n",
    "\n",
    "df.loc[:, ['W','Z']]"
   ]
  },
  {
   "cell_type": "code",
   "execution_count": null,
   "metadata": {},
   "outputs": [],
   "source": [
    "# Cara mengambil data berdasarkan Index atau Baris\n",
    "\n",
    "df.loc['A']"
   ]
  },
  {
   "cell_type": "code",
   "execution_count": null,
   "metadata": {},
   "outputs": [],
   "source": [
    "# Cara mengambil multiple data berdasarkan Index atau Baris menggunakan loc()\n",
    "# Semua kolomnya ikutan ke ambil\n",
    "# Kalau loc() berdasarkan nama indexnya\n",
    "\n",
    "df.loc['A':'D']"
   ]
  },
  {
   "cell_type": "code",
   "execution_count": null,
   "metadata": {},
   "outputs": [],
   "source": [
    "# Cara mengambil multiple data berdasarkan Index atau Baris menggunakan iloc()\n",
    "# Semua kolomnya ikutan ke ambil\n",
    "# Kalau iloc() berdasarkan nomor indexnya (index dimulai dari 0)\n",
    "\n",
    "df.iloc[0:4:2]"
   ]
  },
  {
   "cell_type": "code",
   "execution_count": null,
   "metadata": {},
   "outputs": [],
   "source": [
    "# Cara mengambil data lebih dari 1 kolom menggunakan iloc()\n",
    "# Ini menggunakan fancy index\n",
    "# Hanya ngambil kolom X dan Z saja tapi menggunakan index dari kolom tersebut\n",
    "\n",
    "df.iloc[:, [0,3]]"
   ]
  },
  {
   "cell_type": "code",
   "execution_count": null,
   "metadata": {},
   "outputs": [],
   "source": [
    "# Conditional Selection (tanpa mengambil datanya)\n",
    "# Hasilnya adalah True atau False\n",
    "\n",
    "df > 5"
   ]
  },
  {
   "cell_type": "code",
   "execution_count": null,
   "metadata": {},
   "outputs": [],
   "source": [
    "# Conditional Selection (mengambil datanya)\n",
    "# Returnnya value yang lebih besar dari 5\n",
    "# Value yang tidak memenuhi diganti dengan NaN\n",
    "\n",
    "df[df>0.5]"
   ]
  },
  {
   "cell_type": "code",
   "execution_count": null,
   "metadata": {},
   "outputs": [],
   "source": [
    "# Conditional Selection (mengambil datanya) dengan multiple condition\n",
    "\n",
    "# AND\n",
    "df[(df > 0.5) & (df < 2)]"
   ]
  },
  {
   "cell_type": "code",
   "execution_count": null,
   "metadata": {},
   "outputs": [],
   "source": [
    "# Conditional Selection (mengambil datanya) dengan multiple condition\n",
    "\n",
    "# OR\n",
    "df[(df > 0.5) | (df < 2)]"
   ]
  },
  {
   "cell_type": "code",
   "execution_count": null,
   "metadata": {},
   "outputs": [],
   "source": [
    "# Conditional Selection (mengambil datanya) dengan spesifik kolom \n",
    "\n",
    "df[(df > 0.5) & (df < 2)]['Z']"
   ]
  },
  {
   "cell_type": "code",
   "execution_count": null,
   "metadata": {},
   "outputs": [],
   "source": [
    "# Conditional Selection dengan multiple kolom\n",
    "# df[df['W']>0.7] -> mengembalikan True or False, karena hasilnya adalah True\n",
    "# Kolom X ikut ke print walaupun valuenya < 0.7\n",
    "\n",
    "print(df[df['W']>0.7])\n",
    "\n",
    "df[df['W']>0.7][['Y','X']]"
   ]
  },
  {
   "cell_type": "code",
   "execution_count": null,
   "metadata": {},
   "outputs": [],
   "source": [
    "# Conditional Selection dengan multiple kolom \n",
    "# Returnnya baris yang memenuhi kondisi\n",
    "\n",
    "df[(df['W'] > 0) & (df['Y'] > 1)]"
   ]
  },
  {
   "cell_type": "code",
   "execution_count": null,
   "metadata": {},
   "outputs": [],
   "source": [
    "# Cara membaca dari file.csv \n",
    "\n",
    "df = pd.read_csv(\n",
    "    filepath_or_buffer='Transjakarta.csv'\n",
    ")\n",
    "\n",
    "print(df)"
   ]
  },
  {
   "cell_type": "code",
   "execution_count": null,
   "metadata": {},
   "outputs": [],
   "source": [
    "# Mengetahui jumlah data\n",
    "\n",
    "jumlah_data = len(df)\n",
    "print(jumlah_data)"
   ]
  },
  {
   "cell_type": "code",
   "execution_count": null,
   "metadata": {},
   "outputs": [],
   "source": [
    "# Hanya mengambil 5 data teratas by default\n",
    "\n",
    "df.head()"
   ]
  },
  {
   "cell_type": "code",
   "execution_count": null,
   "metadata": {},
   "outputs": [],
   "source": [
    "# Hanya mengambil 2 data teratas\n",
    "\n",
    "df.head(2)"
   ]
  },
  {
   "cell_type": "code",
   "execution_count": null,
   "metadata": {},
   "outputs": [],
   "source": [
    "# Hanya mengambil 2 data terakhir (by default)\n",
    "# Tapi bisa diubah berapa total data yang ingin diambil\n",
    "\n",
    "df.tail(2)"
   ]
  },
  {
   "cell_type": "code",
   "execution_count": null,
   "metadata": {},
   "outputs": [],
   "source": [
    "# print out unique values\n",
    "\n",
    "df['corridorID'].unique()"
   ]
  },
  {
   "cell_type": "code",
   "execution_count": null,
   "metadata": {},
   "outputs": [],
   "source": [
    "# Exercise dengan soal Transjakarta.csv\n",
    "\n",
    "# 1. Sebutkan jumlah corridorName unique\n",
    "# 2. Hitung jumlah pengguna flazz\n",
    "# 3. Hitung proporsi penumpang laki-laki (payCardSex = M) dibandingkan dengan seluruh penumpang\n",
    "# 4. Berapa jumlah penumpang yang Umurnya diantara 17-23?"
   ]
  },
  {
   "cell_type": "code",
   "execution_count": null,
   "metadata": {},
   "outputs": [],
   "source": [
    "# 1. Sebutkan jumlah corridorName unique = 217\n",
    "\n",
    "print(len(df['corridorName'].unique()))"
   ]
  },
  {
   "cell_type": "code",
   "execution_count": null,
   "metadata": {},
   "outputs": [],
   "source": [
    "# 2. Hitung jumlah pengguna flazz = 3234\n",
    "\n",
    "len(df[df['payCardBank'] == 'flazz'])"
   ]
  },
  {
   "cell_type": "code",
   "execution_count": null,
   "metadata": {},
   "outputs": [],
   "source": [
    "# 3. Hitung proporsi penumpang laki-laki (payCardSex = M) dibandingkan dengan seluruh penumpang = 0.47 / 47%\n",
    "\n",
    "result = len(df[df['payCardSex'] == 'M']) / len(df['payCardSex'])\n",
    "print(result)"
   ]
  },
  {
   "cell_type": "code",
   "execution_count": null,
   "metadata": {},
   "outputs": [],
   "source": [
    "# 4. Berapa jumlah penumpang yang Umurnya diantara 17-23? = 5567\n",
    "\n",
    "result1 = len(df[(df['payCardBirthDate'] <= 2007) & (df['payCardBirthDate'] >= 2001)])\n",
    "\n",
    "print(result1)"
   ]
  },
  {
   "cell_type": "markdown",
   "metadata": {},
   "source": [
    "Pandas: DataFrame Manipulation"
   ]
  },
  {
   "cell_type": "code",
   "execution_count": null,
   "metadata": {},
   "outputs": [],
   "source": [
    "# Membuat DataFrame dengan random value\n",
    "\n",
    "np.random.seed(101)\n",
    "\n",
    "df = pd.DataFrame(np.random.randn(5,4), index = 'A B C D E'.split(), columns='W X Y Z'.split())\n",
    "\n",
    "print(df)"
   ]
  },
  {
   "cell_type": "code",
   "execution_count": null,
   "metadata": {},
   "outputs": [],
   "source": [
    "# Cara menambahkan kolom baru\n",
    "\n",
    "df['new'] = [1,2,3,4,5]\n",
    "print(df)"
   ]
  },
  {
   "cell_type": "code",
   "execution_count": null,
   "metadata": {},
   "outputs": [],
   "source": [
    "# Cara menambahkan kolom baru dengan Pandas menggunakan loc()\n",
    "\n",
    "df.loc[:, 'kolombaru'] = [1,2,3,4,5] # Karena Pandas ini kolumnar makanya tipe datanya integer\n",
    "print(df)"
   ]
  },
  {
   "cell_type": "code",
   "execution_count": null,
   "metadata": {},
   "outputs": [],
   "source": [
    "# Cara menambahkan baris baru\n",
    "\n",
    "df.loc['new'] = [1,2,3,4,5]\n",
    "print(df)"
   ]
  },
  {
   "cell_type": "code",
   "execution_count": null,
   "metadata": {},
   "outputs": [],
   "source": [
    "# Nambah tipe kolom float dan Integer\n",
    "\n",
    "df.loc[:,'hasilPenjumlahan'] = df['W'] + df['kolombaru'] # kalau tipe Float + tipe Integer hasilnya Float\n",
    "print(df)"
   ]
  },
  {
   "cell_type": "code",
   "execution_count": null,
   "metadata": {},
   "outputs": [],
   "source": [
    "# Nambah data baru pake method insert()\n",
    "\n",
    "df.insert(loc=2, column='new', value=[100,200,300,400,500])\n",
    "print(df)"
   ]
  },
  {
   "cell_type": "code",
   "execution_count": null,
   "metadata": {},
   "outputs": [],
   "source": [
    "# Cara menghapus kolom (tidak permanent) karena axis=1\n",
    "# Menghapusnya harus 1 kolom\n",
    "\n",
    "df.drop(labels='new', axis=1)"
   ]
  },
  {
   "cell_type": "code",
   "execution_count": null,
   "metadata": {},
   "outputs": [],
   "source": [
    "# Cara menghapus kolom (permanent ke delete) axis=1\n",
    "\n",
    "df.drop(labels='new', axis=1, inplace=True)\n",
    "print(df)"
   ]
  },
  {
   "cell_type": "code",
   "execution_count": null,
   "metadata": {},
   "outputs": [],
   "source": [
    "# Cara menghapus multiple kolom\n",
    "\n",
    "df.drop(['new','Z'], axis=1)"
   ]
  },
  {
   "cell_type": "code",
   "execution_count": null,
   "metadata": {},
   "outputs": [],
   "source": [
    "# Cara menghapus baris dengan axis = 0\n",
    "df.drop(labels='E', axis=0)"
   ]
  },
  {
   "cell_type": "code",
   "execution_count": null,
   "metadata": {},
   "outputs": [],
   "source": [
    "# Cara me-reset index kembali ke angka lagi eg.0,1,2,3 (tidak permanent)\n",
    "# Returnnya adalah Pandas DataFrame\n",
    "\n",
    "df.reset_index()"
   ]
  },
  {
   "cell_type": "code",
   "execution_count": null,
   "metadata": {},
   "outputs": [],
   "source": [
    "# Cara me-reset index kembali ke angka lagi eg.0,1,2,3 dan menghapus kolom index (permanent)\n",
    "# Returnnya adalah Pandas DataFrame\n",
    "\n",
    "df.reset_index(inplace=True, drop=True)\n",
    "print(df)"
   ]
  },
  {
   "cell_type": "code",
   "execution_count": null,
   "metadata": {},
   "outputs": [],
   "source": [
    "# Cara set index menggunakan variable sendiri\n",
    "\n",
    "df.set_index('new', inplace=True)\n",
    "print(df)"
   ]
  },
  {
   "cell_type": "code",
   "execution_count": null,
   "metadata": {},
   "outputs": [],
   "source": [
    "# Belajar Multi-Index\n",
    "\n",
    "outside = ['Jakarta', 'Jakarta', 'Jakarta', 'Surabaya', 'Surabaya', 'Surabaya']\n",
    "inside = [1,2,3,1,2,3]\n",
    "hier_index = list(zip(outside, inside))\n",
    "print(hier_index)"
   ]
  },
  {
   "cell_type": "code",
   "execution_count": null,
   "metadata": {},
   "outputs": [],
   "source": [
    "hier_index = pd.MultiIndex.from_tuples(hier_index)\n",
    "hier_index"
   ]
  },
  {
   "cell_type": "code",
   "execution_count": null,
   "metadata": {},
   "outputs": [],
   "source": [
    "# Membuat DataFrame dengan Multi-Index\n",
    "\n",
    "df = pd.DataFrame (\n",
    "    np.random.randint(1,100,(6,2)),\n",
    "    index=hier_index,\n",
    "    columns=['Restaurant A', 'Restaurant B']\n",
    ")\n",
    "\n",
    "df"
   ]
  },
  {
   "cell_type": "code",
   "execution_count": null,
   "metadata": {},
   "outputs": [],
   "source": [
    "# Cara mengambil 1 lapisan baris di multi-index\n",
    "\n",
    "df.loc['Jakarta']"
   ]
  },
  {
   "cell_type": "code",
   "execution_count": null,
   "metadata": {},
   "outputs": [],
   "source": [
    "# Cara mengambil 2 lapisan baris di multi-index\n",
    "\n",
    "df.loc['Jakarta'].loc[1]"
   ]
  },
  {
   "cell_type": "code",
   "execution_count": null,
   "metadata": {},
   "outputs": [],
   "source": [
    "# Cara mengambil kolom di multi-index\n",
    "\n",
    "df['Restaurant A']"
   ]
  },
  {
   "cell_type": "code",
   "execution_count": null,
   "metadata": {},
   "outputs": [],
   "source": [
    "# Cara mengambil 2 lapisan baris di multi-index yang lebih simple\n",
    "# ['Jakarta',1] -> 'Jakarta' = lapisan pertama, 1 = lapisan kedua\n",
    "\n",
    "df.xs(['Jakarta', 1])"
   ]
  },
  {
   "cell_type": "code",
   "execution_count": null,
   "metadata": {},
   "outputs": [],
   "source": [
    "# Cara set nama multi-index\n",
    "\n",
    "df.index.names=['City', 'Location']\n",
    "\n",
    "df\n"
   ]
  },
  {
   "cell_type": "code",
   "execution_count": null,
   "metadata": {},
   "outputs": [],
   "source": [
    "# Cara mengambil data berdasarkan nama yang diberikan di multi-index\n",
    "\n",
    "df.xs(1, level='Location')"
   ]
  },
  {
   "cell_type": "code",
   "execution_count": null,
   "metadata": {},
   "outputs": [],
   "source": [
    "# Cara mengambil data di Multi-Index\n",
    "\n",
    "df.xs('Jakarta', level='city')"
   ]
  },
  {
   "cell_type": "code",
   "execution_count": null,
   "metadata": {},
   "outputs": [],
   "source": [
    "# Cara sorting dengan columns defaultnya ASC\n",
    "\n",
    "df.sort_values(by = 'Restaurant A')"
   ]
  },
  {
   "cell_type": "code",
   "execution_count": null,
   "metadata": {},
   "outputs": [],
   "source": [
    "# Cara sorting dengan columns by DESC\n",
    "\n",
    "df.sort_values(by = 'Restaurant B', ascending=False)"
   ]
  },
  {
   "cell_type": "code",
   "execution_count": null,
   "metadata": {},
   "outputs": [],
   "source": [
    "# Cara sorting by index\n",
    "\n",
    "df.sort_index()"
   ]
  },
  {
   "cell_type": "code",
   "execution_count": null,
   "metadata": {},
   "outputs": [],
   "source": [
    "# Cara sorting dengan multiple kolom\n",
    "# Sortingnya berdasarkan gender terlebih dahulu, baru name\n",
    "df.sort_values(by = ['Restaurant A', 'Restaurant B'])"
   ]
  },
  {
   "cell_type": "markdown",
   "metadata": {},
   "source": [
    "Pandas Functionality"
   ]
  },
  {
   "cell_type": "code",
   "execution_count": null,
   "metadata": {},
   "outputs": [],
   "source": [
    "# Create dataframe belajar Functionality\n",
    "data = {'Company': ['GOOG', 'GOOG', 'MSFT', 'MSFT', 'FB', 'FB'],\n",
    "        'Person': ['Sam', 'Charlie', 'Amy', 'Vanessa', 'Carl', 'Sarah'],\n",
    "        'Sales': [200, 120, 340, 124, 243, 350]}\n",
    "\n",
    "df = pd.DataFrame(data)\n",
    "\n",
    "print(df)"
   ]
  },
  {
   "cell_type": "code",
   "execution_count": null,
   "metadata": {},
   "outputs": [],
   "source": [
    "# Group by dengan ada kondisi (Simpen aja kodenya)\n",
    "\n",
    "df.groupby(by=['Company', pd.cut(df['Sales'], bins=2)]).size().unstack()"
   ]
  },
  {
   "cell_type": "code",
   "execution_count": null,
   "metadata": {},
   "outputs": [],
   "source": [
    "# Belajar Pandas Functionality\n",
    "\n",
    "import mysql.connector\n",
    "import pandas as pd\n",
    "\n",
    "mydb = mysql.connector.connect(\n",
    "    host = 'localhost',\n",
    "    user = 'root',\n",
    "    passwd = 'Alhamfbn25',\n",
    ")\n"
   ]
  },
  {
   "cell_type": "code",
   "execution_count": null,
   "metadata": {},
   "outputs": [],
   "source": [
    "df_orderdetails = pd.read_sql(\n",
    "    sql = \n",
    "    '''\n",
    "        select * \n",
    "        from classicmodels.orderdetails;\n",
    "    ''',\n",
    "    con = mydb\n",
    ")\n",
    "\n",
    "print(df_orderdetails)"
   ]
  },
  {
   "cell_type": "code",
   "execution_count": null,
   "metadata": {},
   "outputs": [],
   "source": [
    "# Untuk melihat seluruh kolom, value count yang tidak kosong disetiap kolom dan tipe data dari setiap kolom\n",
    "\n",
    "df_orderdetails.info()"
   ]
  },
  {
   "cell_type": "code",
   "execution_count": null,
   "metadata": {},
   "outputs": [],
   "source": [
    "# Untuk mengetahui jumlah baris dan kolom\n",
    "\n",
    "df_orderdetails.shape"
   ]
  },
  {
   "cell_type": "code",
   "execution_count": null,
   "metadata": {},
   "outputs": [],
   "source": [
    "# Untuk mengetahui semua kolom yang ada\n",
    "\n",
    "df_orderdetails.columns"
   ]
  },
  {
   "cell_type": "code",
   "execution_count": null,
   "metadata": {},
   "outputs": [],
   "source": [
    "# Untuk mengetahui tipe data tiap kolom\n",
    "\n",
    "df_orderdetails.dtypes"
   ]
  },
  {
   "cell_type": "code",
   "execution_count": null,
   "metadata": {},
   "outputs": [],
   "source": [
    "# Untuk mengetahui statistik dari table (untuk kolom yang berisi tipe data numerik)\n",
    "\n",
    "df_orderdetails.describe()"
   ]
  },
  {
   "cell_type": "code",
   "execution_count": null,
   "metadata": {},
   "outputs": [],
   "source": [
    "# Untuk mengetahui statistik dari table (untuk kolom yang isinya string/object)\n",
    "\n",
    "df_orderdetails.describe(include=object)"
   ]
  },
  {
   "cell_type": "code",
   "execution_count": null,
   "metadata": {},
   "outputs": [],
   "source": [
    "# Untuk mengetahui rata-rata perkolom\n",
    "\n",
    "df_orderdetails['orderNumber'].mean()\n",
    "\n",
    "# Untuk mengetahui nilai tengah perkolom\n",
    "\n",
    "df_orderdetails['orderNumber'].median()\n",
    "\n",
    "# Untuk mengetahui standard deviasi perkolom\n",
    "\n",
    "df_orderdetails['orderNumber'].std()\n",
    "\n",
    "# Untuk mengetahui nilai minimum dari sebuah kolom\n",
    "\n",
    "df_orderdetails['orderNumber'].min()\n",
    "\n",
    "# Untuk mengetahui nilai maximum dari sebuah kolom\n",
    "\n",
    "df_orderdetails['orderNumber'].max()"
   ]
  },
  {
   "cell_type": "code",
   "execution_count": null,
   "metadata": {},
   "outputs": [],
   "source": [
    "# Untuk mengetahui apa saja unique value di sebuah kolom\n",
    "\n",
    "df_orderdetails['orderNumber'].unique()"
   ]
  },
  {
   "cell_type": "code",
   "execution_count": null,
   "metadata": {},
   "outputs": [],
   "source": [
    "# Untuk menghitung jumlah value unique di sebuah kolom\n",
    "\n",
    "df_orderdetails['orderNumber'].nunique()"
   ]
  },
  {
   "cell_type": "code",
   "execution_count": null,
   "metadata": {},
   "outputs": [],
   "source": [
    "# Untuk mengetahui jumlah frekuensi dari value2 yang ada di sebuah kolom\n",
    "\n",
    "df_orderdetails['orderNumber'].value_counts()"
   ]
  },
  {
   "cell_type": "code",
   "execution_count": null,
   "metadata": {},
   "outputs": [],
   "source": [
    "# Cara mendeteksi missing value menggunakan pandas\n",
    "\n",
    "df = pd.DataFrame(\n",
    "    {\n",
    "        'A':[np.nan,np.nan,np.nan],\n",
    "        'B':[5, np.nan, np.nan],\n",
    "        'C':[1,2,3]\n",
    "    }\n",
    ")\n",
    "\n",
    "df"
   ]
  },
  {
   "cell_type": "code",
   "execution_count": null,
   "metadata": {},
   "outputs": [],
   "source": [
    "# Cara mengecek apakah ada missing value di sebuah table\n",
    "\n",
    "df.isna()"
   ]
  },
  {
   "cell_type": "code",
   "execution_count": null,
   "metadata": {},
   "outputs": [],
   "source": [
    "# Cara menghapus data yang kosong berdasarkan baris\n",
    "# Yang dihapus adalah per-baris\n",
    "# Tidak dianjurkan delete data yang kosong jika: yang kosong terlalu banyak atau ketika dihapus datanya tinggal sedikit\n",
    "# Seperti di contoh, dari 3 baris menjadi hanya 1 baris\n",
    "\n",
    "df.dropna()"
   ]
  },
  {
   "cell_type": "code",
   "execution_count": null,
   "metadata": {},
   "outputs": [],
   "source": [
    "# Cara menghapus data yang kosong berdasarkan kolom\n",
    "# Yang dihapus adalah per-kolom\n",
    "\n",
    "df.dropna(axis=1)"
   ]
  },
  {
   "cell_type": "code",
   "execution_count": null,
   "metadata": {},
   "outputs": [],
   "source": [
    "# Cara menghapus data yang kosong berdasarkan baris\n",
    "# Yang dihapus adalah per-baris kalau ada 2 data yang kosong\n",
    "\n",
    "df.dropna(thresh=2)"
   ]
  },
  {
   "cell_type": "code",
   "execution_count": null,
   "metadata": {},
   "outputs": [],
   "source": [
    "# Cara menghapus data yang kosong berdasarkan kolom\n",
    "# Yang dihapus adalah per-kolom kalau ada 2 atau lebih data yang kosong\n",
    "\n",
    "df.dropna(thresh=2, axis=1)"
   ]
  },
  {
   "cell_type": "code",
   "execution_count": null,
   "metadata": {},
   "outputs": [],
   "source": [
    "# Cara mengisi data yang kosong\n",
    "\n",
    "df['A'].fillna(value=df['B'].max(), inplace=True)\n",
    "df"
   ]
  },
  {
   "cell_type": "code",
   "execution_count": null,
   "metadata": {},
   "outputs": [],
   "source": [
    "data = {'Company': ['GOOG', 'GOOG', 'MSFT', 'MSFT', 'FB', 'FB'],\n",
    "        'Person': ['Sam', 'Charlie', 'Amy', 'Vanessa', 'Carl', 'Sarah'],\n",
    "        'Sales': [200, 120, 340, 124, 243, 350]}\n",
    "\n",
    "df = pd.DataFrame(data)\n",
    "\n",
    "print(df)"
   ]
  },
  {
   "cell_type": "code",
   "execution_count": null,
   "metadata": {},
   "outputs": [],
   "source": [
    "# Cara agregasi data atau mengelompokan data dan menghitung rata-ratanya dan standard deviasi\n",
    "\n",
    "group_by_company = df.groupby('Company')['Sales']\n",
    "\n",
    "group_by_company.mean()\n",
    "\n",
    "group_by_company.std()\n"
   ]
  },
  {
   "cell_type": "code",
   "execution_count": null,
   "metadata": {},
   "outputs": [],
   "source": [
    "# Cara agregasi data atau mengelompokan data dan menghitung min, max, cound\n",
    "\n",
    "group_by_company = df.groupby('Company')\n",
    "\n",
    "group_by_company.min()\n",
    "\n",
    "group_by_company.max()\n",
    "\n",
    "group_by_company.count()"
   ]
  },
  {
   "cell_type": "code",
   "execution_count": null,
   "metadata": {},
   "outputs": [],
   "source": [
    "# Cara melihat summary statistik dari table\n",
    "\n",
    "group_by_company.describe()"
   ]
  },
  {
   "cell_type": "code",
   "execution_count": null,
   "metadata": {},
   "outputs": [],
   "source": [
    "# Cara melihat summary statistik dari table dan spesifik per kolom\n",
    "\n",
    "group_by_company.describe().transpose()['GOOG']"
   ]
  },
  {
   "cell_type": "markdown",
   "metadata": {},
   "source": [
    "Pandas: Merging, Joining and Concatenating"
   ]
  },
  {
   "cell_type": "code",
   "execution_count": 81,
   "metadata": {},
   "outputs": [
    {
     "name": "stdout",
     "output_type": "stream",
     "text": [
      "  productCode                            productName   productLine  \\\n",
      "0    S10_1678  1969 Harley Davidson Ultimate Chopper   Motorcycles   \n",
      "1    S10_1949               1952 Alpine Renault 1300  Classic Cars   \n",
      "2    S10_2016                  1996 Moto Guzzi 1100i   Motorcycles   \n",
      "\n",
      "  productScale             productVendor  \\\n",
      "0         1:10           Min Lin Diecast   \n",
      "1         1:10   Classic Metal Creations   \n",
      "2         1:10  Highway 66 Mini Classics   \n",
      "\n",
      "                                  productDescription  quantityInStock  \\\n",
      "0  This replica features working kickstand, front...             7933   \n",
      "1  Turnable front wheels; steering function; deta...             7305   \n",
      "2  Official Moto Guzzi logos and insignias, saddl...             6625   \n",
      "\n",
      "   buyPrice    MSRP  \n",
      "0     48.81   95.70  \n",
      "1     98.58  214.30  \n",
      "2     68.99  118.94  \n"
     ]
    },
    {
     "name": "stderr",
     "output_type": "stream",
     "text": [
      "/var/folders/0p/gz75bm_j7j51bzy0pfj6dtdm0000gn/T/ipykernel_4488/240085199.py:1: UserWarning: pandas only supports SQLAlchemy connectable (engine/connection) or database string URI or sqlite3 DBAPI2 connection. Other DBAPI2 objects are not tested. Please consider using SQLAlchemy.\n",
      "  df_products = pd.read_sql(\n"
     ]
    }
   ],
   "source": [
    "df_products = pd.read_sql(\n",
    "    sql = \n",
    "    '''\n",
    "        select * \n",
    "        from classicmodels.products;\n",
    "    ''',\n",
    "    con = mydb\n",
    ")\n",
    "\n",
    "print(df_products.head(3))"
   ]
  },
  {
   "cell_type": "code",
   "execution_count": 82,
   "metadata": {},
   "outputs": [
    {
     "name": "stdout",
     "output_type": "stream",
     "text": [
      "                              productName              productVendor  \\\n",
      "0                1917 Grand Touring Sedan  Welly Diecast Productions   \n",
      "1                      1911 Ford Town Car    Motor City Art Classics   \n",
      "2     1932 Alfa Romeo 8C2300 Spider Sport              Exoto Designs   \n",
      "3        1936 Mercedes Benz 500k Roadster          Red Start Diecast   \n",
      "4               1932 Model A Ford J-Coupe      Autoart Studio Design   \n",
      "...                                   ...                        ...   \n",
      "2991             1962 Volkswagen Microbus      Autoart Studio Design   \n",
      "2992  1958 Chevy Corvette Limited Edition   Carousel DieCast Legends   \n",
      "2993          1980’s GM Manhattan Express    Motor City Art Classics   \n",
      "2994          1954 Greyhound Scenicruiser    Classic Metal Creations   \n",
      "2995     Diamond T620 Semi-Skirted Tanker   Highway 66 Mini Classics   \n",
      "\n",
      "      quantityOrdered  \n",
      "0                  30  \n",
      "1                  50  \n",
      "2                  22  \n",
      "3                  49  \n",
      "4                  25  \n",
      "...               ...  \n",
      "2991               49  \n",
      "2992               31  \n",
      "2993               41  \n",
      "2994               11  \n",
      "2995               18  \n",
      "\n",
      "[2996 rows x 3 columns]\n"
     ]
    },
    {
     "name": "stderr",
     "output_type": "stream",
     "text": [
      "/var/folders/0p/gz75bm_j7j51bzy0pfj6dtdm0000gn/T/ipykernel_4488/1107674081.py:1: UserWarning: pandas only supports SQLAlchemy connectable (engine/connection) or database string URI or sqlite3 DBAPI2 connection. Other DBAPI2 objects are not tested. Please consider using SQLAlchemy.\n",
      "  df_products_orderdetails = pd.read_sql(\n"
     ]
    }
   ],
   "source": [
    "df_products_orderdetails = pd.read_sql(\n",
    "    sql=\n",
    "    '''\n",
    "        select cp.productName, cp.productVendor, co.quantityOrdered\n",
    "        from classicmodels.orderdetails as co\n",
    "        left join classicmodels.products as cp\n",
    "        on co.productCode = cp.productCode\n",
    "    ''',\n",
    "    con = mydb\n",
    ")\n",
    "\n",
    "print(df_products_orderdetails)"
   ]
  },
  {
   "cell_type": "code",
   "execution_count": 83,
   "metadata": {},
   "outputs": [
    {
     "name": "stdout",
     "output_type": "stream",
     "text": [
      "      orderNumber productCode  quantityOrdered  priceEach  orderLineNumber  \\\n",
      "0           10100    S18_1749               30     136.00                3   \n",
      "1           10100    S18_2248               50      55.09                2   \n",
      "2           10100    S18_4409               22      75.46                4   \n",
      "3           10100    S24_3969               49      35.29                1   \n",
      "4           10101    S18_2325               25     108.06                4   \n",
      "...           ...         ...              ...        ...              ...   \n",
      "2991        10425    S24_2300               49     127.79                9   \n",
      "2992        10425    S24_2840               31      31.82                5   \n",
      "2993        10425    S32_1268               41      83.79               11   \n",
      "2994        10425    S32_2509               11      50.32                6   \n",
      "2995        10425    S50_1392               18      94.92                2   \n",
      "\n",
      "                              productName       productLine productScale  \\\n",
      "0                1917 Grand Touring Sedan      Vintage Cars         1:18   \n",
      "1                      1911 Ford Town Car      Vintage Cars         1:18   \n",
      "2     1932 Alfa Romeo 8C2300 Spider Sport      Vintage Cars         1:18   \n",
      "3        1936 Mercedes Benz 500k Roadster      Vintage Cars         1:24   \n",
      "4               1932 Model A Ford J-Coupe      Vintage Cars         1:18   \n",
      "...                                   ...               ...          ...   \n",
      "2991             1962 Volkswagen Microbus  Trucks and Buses         1:24   \n",
      "2992  1958 Chevy Corvette Limited Edition      Classic Cars         1:24   \n",
      "2993          1980’s GM Manhattan Express  Trucks and Buses         1:32   \n",
      "2994          1954 Greyhound Scenicruiser  Trucks and Buses         1:32   \n",
      "2995     Diamond T620 Semi-Skirted Tanker  Trucks and Buses         1:50   \n",
      "\n",
      "                  productVendor  \\\n",
      "0     Welly Diecast Productions   \n",
      "1       Motor City Art Classics   \n",
      "2                 Exoto Designs   \n",
      "3             Red Start Diecast   \n",
      "4         Autoart Studio Design   \n",
      "...                         ...   \n",
      "2991      Autoart Studio Design   \n",
      "2992   Carousel DieCast Legends   \n",
      "2993    Motor City Art Classics   \n",
      "2994    Classic Metal Creations   \n",
      "2995   Highway 66 Mini Classics   \n",
      "\n",
      "                                     productDescription  quantityInStock  \\\n",
      "0     This 1:18 scale replica of the 1917 Grand Tour...             2724   \n",
      "1     Features opening hood, opening doors, opening ...              540   \n",
      "2     This 1:18 scale precision die cast replica fea...             6553   \n",
      "3     This model features grille-mounted chrome horn...             2081   \n",
      "4     This model features grille-mounted chrome horn...             9354   \n",
      "...                                                 ...              ...   \n",
      "2991  This 1:18 scale die cast replica of the 1962 M...             2327   \n",
      "2992  The operating parts of this 1958 Chevy Corvett...             2542   \n",
      "2993  This 1980’s era new look Manhattan express is ...             5099   \n",
      "2994  Model features bi-level seating, 50 windows, s...             2874   \n",
      "2995  This limited edition model is licensed and per...             1016   \n",
      "\n",
      "      buyPrice    MSRP  \n",
      "0        86.70  170.00  \n",
      "1        33.30   60.54  \n",
      "2        43.26   92.03  \n",
      "3        21.75   41.03  \n",
      "4        58.48  127.13  \n",
      "...        ...     ...  \n",
      "2991     61.34  127.79  \n",
      "2992     15.91   35.36  \n",
      "2993     53.93   96.31  \n",
      "2994     25.98   54.11  \n",
      "2995     68.29  115.75  \n",
      "\n",
      "[2996 rows x 13 columns]\n"
     ]
    }
   ],
   "source": [
    "# Menggunakan merge untuk join 2 table, by default joinnya Inner\n",
    "\n",
    "df_hasil_merge = pd.merge(\n",
    "    left= df_orderdetails,\n",
    "    right= df_products,\n",
    "    on= 'productCode'\n",
    ")\n",
    "\n",
    "print(df_hasil_merge)"
   ]
  },
  {
   "cell_type": "code",
   "execution_count": null,
   "metadata": {},
   "outputs": [],
   "source": [
    "# Menggunakan merge untuk join 2 table dengan outer join\n",
    "\n",
    "df_hasil_merge = pd.merge(\n",
    "    left= df_orderdetails,\n",
    "    right= df_products,\n",
    "    how= 'outer',\n",
    "    on= 'productCode'\n",
    ")\n",
    "\n",
    "print(df_hasil_merge)"
   ]
  },
  {
   "cell_type": "code",
   "execution_count": null,
   "metadata": {},
   "outputs": [],
   "source": [
    "# Menggunakan merge untuk join 2 table dengan left join\n",
    "\n",
    "df_hasil_merge = pd.merge(\n",
    "    left= df_orderdetails,\n",
    "    right= df_products,\n",
    "    how= 'left',\n",
    "    on= 'productCode'\n",
    ")\n",
    "\n",
    "print(df_hasil_merge)"
   ]
  },
  {
   "cell_type": "code",
   "execution_count": null,
   "metadata": {},
   "outputs": [],
   "source": [
    "# Menggunakan merge untuk join 2 table dengan right join\n",
    "\n",
    "df_hasil_merge = pd.merge(\n",
    "    left= df_orderdetails,\n",
    "    right= df_products,\n",
    "    how= 'right',\n",
    "    on= 'productCode'\n",
    ")\n",
    "\n",
    "print(df_hasil_merge)"
   ]
  },
  {
   "cell_type": "code",
   "execution_count": 85,
   "metadata": {},
   "outputs": [
    {
     "name": "stdout",
     "output_type": "stream",
     "text": [
      "   orderNumber productCode  quantityOrdered  priceEach  orderLineNumber  \\\n",
      "0      10100.0    S18_1749             30.0     136.00              3.0   \n",
      "1      10100.0    S18_2248             50.0      55.09              2.0   \n",
      "2      10100.0    S18_4409             22.0      75.46              4.0   \n",
      "\n",
      "  productName productLine productScale productVendor productDescription  \\\n",
      "0         NaN         NaN          NaN           NaN                NaN   \n",
      "1         NaN         NaN          NaN           NaN                NaN   \n",
      "2         NaN         NaN          NaN           NaN                NaN   \n",
      "\n",
      "   quantityInStock  buyPrice  MSRP  \n",
      "0              NaN       NaN   NaN  \n",
      "1              NaN       NaN   NaN  \n",
      "2              NaN       NaN   NaN  \n"
     ]
    }
   ],
   "source": [
    "# Cara CONCATENATING di pandas, by default akan di concate by baris\n",
    "\n",
    "df_hasil_concate = pd.concat([\n",
    "    df_orderdetails, df_products\n",
    "])\n",
    "\n",
    "print(df_hasil_concate.head(3))"
   ]
  },
  {
   "cell_type": "code",
   "execution_count": 84,
   "metadata": {},
   "outputs": [
    {
     "name": "stdout",
     "output_type": "stream",
     "text": [
      "   orderNumber productCode  quantityOrdered  priceEach  orderLineNumber  \\\n",
      "0        10100    S18_1749               30     136.00                3   \n",
      "1        10100    S18_2248               50      55.09                2   \n",
      "2        10100    S18_4409               22      75.46                4   \n",
      "\n",
      "  productCode                            productName   productLine  \\\n",
      "0    S10_1678  1969 Harley Davidson Ultimate Chopper   Motorcycles   \n",
      "1    S10_1949               1952 Alpine Renault 1300  Classic Cars   \n",
      "2    S10_2016                  1996 Moto Guzzi 1100i   Motorcycles   \n",
      "\n",
      "  productScale             productVendor  \\\n",
      "0         1:10           Min Lin Diecast   \n",
      "1         1:10   Classic Metal Creations   \n",
      "2         1:10  Highway 66 Mini Classics   \n",
      "\n",
      "                                  productDescription  quantityInStock  \\\n",
      "0  This replica features working kickstand, front...           7933.0   \n",
      "1  Turnable front wheels; steering function; deta...           7305.0   \n",
      "2  Official Moto Guzzi logos and insignias, saddl...           6625.0   \n",
      "\n",
      "   buyPrice    MSRP  \n",
      "0     48.81   95.70  \n",
      "1     98.58  214.30  \n",
      "2     68.99  118.94  \n"
     ]
    }
   ],
   "source": [
    "# Cara CONCATENATING berdasarkan kolom di pandas \n",
    "\n",
    "df_hasil_concate_by_kolom = pd.concat([\n",
    "    df_orderdetails, df_products\n",
    "], axis=1)\n",
    "\n",
    "print(df_hasil_concate_by_kolom.head(3))"
   ]
  },
  {
   "cell_type": "markdown",
   "metadata": {},
   "source": [
    "Pandas: Operations"
   ]
  },
  {
   "cell_type": "code",
   "execution_count": 86,
   "metadata": {},
   "outputs": [
    {
     "data": {
      "text/html": [
       "<div>\n",
       "<style scoped>\n",
       "    .dataframe tbody tr th:only-of-type {\n",
       "        vertical-align: middle;\n",
       "    }\n",
       "\n",
       "    .dataframe tbody tr th {\n",
       "        vertical-align: top;\n",
       "    }\n",
       "\n",
       "    .dataframe thead th {\n",
       "        text-align: right;\n",
       "    }\n",
       "</style>\n",
       "<table border=\"1\" class=\"dataframe\">\n",
       "  <thead>\n",
       "    <tr style=\"text-align: right;\">\n",
       "      <th></th>\n",
       "      <th>col1</th>\n",
       "      <th>col2</th>\n",
       "      <th>col3</th>\n",
       "    </tr>\n",
       "  </thead>\n",
       "  <tbody>\n",
       "    <tr>\n",
       "      <th>0</th>\n",
       "      <td>1</td>\n",
       "      <td>444</td>\n",
       "      <td>abc</td>\n",
       "    </tr>\n",
       "    <tr>\n",
       "      <th>1</th>\n",
       "      <td>2</td>\n",
       "      <td>555</td>\n",
       "      <td>def</td>\n",
       "    </tr>\n",
       "    <tr>\n",
       "      <th>2</th>\n",
       "      <td>3</td>\n",
       "      <td>666</td>\n",
       "      <td>ghi</td>\n",
       "    </tr>\n",
       "    <tr>\n",
       "      <th>3</th>\n",
       "      <td>4</td>\n",
       "      <td>444</td>\n",
       "      <td>xyz</td>\n",
       "    </tr>\n",
       "  </tbody>\n",
       "</table>\n",
       "</div>"
      ],
      "text/plain": [
       "   col1  col2 col3\n",
       "0     1   444  abc\n",
       "1     2   555  def\n",
       "2     3   666  ghi\n",
       "3     4   444  xyz"
      ]
     },
     "execution_count": 86,
     "metadata": {},
     "output_type": "execute_result"
    }
   ],
   "source": [
    "df = pd.DataFrame(\n",
    "    {\n",
    "        'col1':[1,2,3,4], 'col2':[444,555,666,444], 'col3':['abc','def','ghi','xyz']\n",
    "    }\n",
    ")\n",
    "\n",
    "df.head()"
   ]
  },
  {
   "cell_type": "code",
   "execution_count": null,
   "metadata": {},
   "outputs": [
    {
     "data": {
      "text/plain": [
       "col1         2\n",
       "col2       888\n",
       "col3    abcabc\n",
       "Name: 0, dtype: object"
      ]
     },
     "execution_count": 89,
     "metadata": {},
     "output_type": "execute_result"
    }
   ],
   "source": [
    "# Mengapplikasikan Fungsi untuk setiap value di sebuah kolom\n",
    "\n",
    "def times2(number):\n",
    "    return number * 2\n",
    "\n",
    "df['col1'].apply(times2)"
   ]
  },
  {
   "cell_type": "code",
   "execution_count": 90,
   "metadata": {},
   "outputs": [
    {
     "data": {
      "text/plain": [
       "col1         2\n",
       "col2       888\n",
       "col3    abcabc\n",
       "Name: 0, dtype: object"
      ]
     },
     "execution_count": 90,
     "metadata": {},
     "output_type": "execute_result"
    }
   ],
   "source": [
    "# Mengapplikasikan Fungsi untuk setiap value di sebuah baris\n",
    "\n",
    "def times2(number):\n",
    "    return number * 2\n",
    "\n",
    "df.loc[0].apply(times2)"
   ]
  },
  {
   "cell_type": "code",
   "execution_count": 88,
   "metadata": {},
   "outputs": [
    {
     "data": {
      "text/plain": [
       "0    3\n",
       "1    3\n",
       "2    3\n",
       "3    3\n",
       "Name: col3, dtype: int64"
      ]
     },
     "execution_count": 88,
     "metadata": {},
     "output_type": "execute_result"
    }
   ],
   "source": [
    "# Mengetahui panjang setiap elemen dengan fungsi\n",
    "\n",
    "df['col3'].apply(len)"
   ]
  },
  {
   "cell_type": "code",
   "execution_count": null,
   "metadata": {},
   "outputs": [],
   "source": [
    "# Membandingkan kecepatan performance python for loop vs apply\n",
    "# Jauh lebih cepet pandas.apply\n",
    "\n",
    "df_copy = df.copy()\n",
    "\n",
    "for i in range(0, len(df_copy)):\n",
    "    df_copy.loc[i, 'umurUser'] = 2024 - df_copy.loc[i, 'payCardBirthDate']\n",
    "\n",
    "print(df_copy)"
   ]
  },
  {
   "cell_type": "code",
   "execution_count": null,
   "metadata": {},
   "outputs": [],
   "source": [
    "# Pandas Apply + lambda function\n",
    "# Fungsi Apply kurang disarankan untuk data numerik\n",
    "# Disarankan untuk data string/object\n",
    "\n",
    "df_copy['umurUser'] = df_copy['payCardBirthDate'].apply(lambda x: 2024 - x)\n",
    "\n",
    "print(df_copy)"
   ]
  },
  {
   "cell_type": "code",
   "execution_count": 91,
   "metadata": {},
   "outputs": [
    {
     "data": {
      "text/plain": [
       "0    b\n",
       "1    e\n",
       "2    h\n",
       "3    y\n",
       "Name: col3, dtype: object"
      ]
     },
     "execution_count": 91,
     "metadata": {},
     "output_type": "execute_result"
    }
   ],
   "source": [
    "# Menggunakan Pandas Apply + Lambda function\n",
    "\n",
    "df['col3'].apply(lambda x: x[1])"
   ]
  },
  {
   "cell_type": "code",
   "execution_count": 94,
   "metadata": {},
   "outputs": [
    {
     "data": {
      "text/html": [
       "<div>\n",
       "<style scoped>\n",
       "    .dataframe tbody tr th:only-of-type {\n",
       "        vertical-align: middle;\n",
       "    }\n",
       "\n",
       "    .dataframe tbody tr th {\n",
       "        vertical-align: top;\n",
       "    }\n",
       "\n",
       "    .dataframe thead th {\n",
       "        text-align: right;\n",
       "    }\n",
       "</style>\n",
       "<table border=\"1\" class=\"dataframe\">\n",
       "  <thead>\n",
       "    <tr style=\"text-align: right;\">\n",
       "      <th></th>\n",
       "      <th>col1</th>\n",
       "      <th>col2</th>\n",
       "      <th>col3</th>\n",
       "      <th>col4</th>\n",
       "      <th>col5</th>\n",
       "      <th>col6</th>\n",
       "    </tr>\n",
       "  </thead>\n",
       "  <tbody>\n",
       "    <tr>\n",
       "      <th>0</th>\n",
       "      <td>1</td>\n",
       "      <td>444</td>\n",
       "      <td>abc</td>\n",
       "      <td>445</td>\n",
       "      <td>-443</td>\n",
       "      <td>0.002252</td>\n",
       "    </tr>\n",
       "    <tr>\n",
       "      <th>1</th>\n",
       "      <td>2</td>\n",
       "      <td>555</td>\n",
       "      <td>def</td>\n",
       "      <td>557</td>\n",
       "      <td>-553</td>\n",
       "      <td>0.003604</td>\n",
       "    </tr>\n",
       "    <tr>\n",
       "      <th>2</th>\n",
       "      <td>3</td>\n",
       "      <td>666</td>\n",
       "      <td>ghi</td>\n",
       "      <td>669</td>\n",
       "      <td>-663</td>\n",
       "      <td>0.004505</td>\n",
       "    </tr>\n",
       "    <tr>\n",
       "      <th>3</th>\n",
       "      <td>4</td>\n",
       "      <td>444</td>\n",
       "      <td>xyz</td>\n",
       "      <td>448</td>\n",
       "      <td>-440</td>\n",
       "      <td>0.009009</td>\n",
       "    </tr>\n",
       "  </tbody>\n",
       "</table>\n",
       "</div>"
      ],
      "text/plain": [
       "   col1  col2 col3  col4  col5      col6\n",
       "0     1   444  abc   445  -443  0.002252\n",
       "1     2   555  def   557  -553  0.003604\n",
       "2     3   666  ghi   669  -663  0.004505\n",
       "3     4   444  xyz   448  -440  0.009009"
      ]
     },
     "execution_count": 94,
     "metadata": {},
     "output_type": "execute_result"
    }
   ],
   "source": [
    "# Menggunakan operasi matematika\n",
    "\n",
    "# operasi +\n",
    "df['col4'] = df['col1'] + df['col2']\n",
    "\n",
    "# operasi -\n",
    "df['col5'] = df['col1'] - df['col2']\n",
    "\n",
    "# operasi *\n",
    "df['col6'] = df['col1'] * df['col2']\n",
    "\n",
    "# operasi /\n",
    "df['col6'] = df['col1'] / df['col2']\n",
    "\n",
    "df"
   ]
  },
  {
   "cell_type": "code",
   "execution_count": 131,
   "metadata": {},
   "outputs": [
    {
     "data": {
      "text/html": [
       "<div>\n",
       "<style scoped>\n",
       "    .dataframe tbody tr th:only-of-type {\n",
       "        vertical-align: middle;\n",
       "    }\n",
       "\n",
       "    .dataframe tbody tr th {\n",
       "        vertical-align: top;\n",
       "    }\n",
       "\n",
       "    .dataframe thead th {\n",
       "        text-align: right;\n",
       "    }\n",
       "</style>\n",
       "<table border=\"1\" class=\"dataframe\">\n",
       "  <thead>\n",
       "    <tr style=\"text-align: right;\">\n",
       "      <th></th>\n",
       "      <th>A</th>\n",
       "      <th>B</th>\n",
       "      <th>C</th>\n",
       "      <th>D</th>\n",
       "    </tr>\n",
       "  </thead>\n",
       "  <tbody>\n",
       "    <tr>\n",
       "      <th>0</th>\n",
       "      <td>foo</td>\n",
       "      <td>one</td>\n",
       "      <td>x</td>\n",
       "      <td>1</td>\n",
       "    </tr>\n",
       "    <tr>\n",
       "      <th>1</th>\n",
       "      <td>foo</td>\n",
       "      <td>one</td>\n",
       "      <td>y</td>\n",
       "      <td>1</td>\n",
       "    </tr>\n",
       "    <tr>\n",
       "      <th>2</th>\n",
       "      <td>foo</td>\n",
       "      <td>one</td>\n",
       "      <td>x</td>\n",
       "      <td>20</td>\n",
       "    </tr>\n",
       "    <tr>\n",
       "      <th>3</th>\n",
       "      <td>foo</td>\n",
       "      <td>two</td>\n",
       "      <td>x</td>\n",
       "      <td>2</td>\n",
       "    </tr>\n",
       "    <tr>\n",
       "      <th>4</th>\n",
       "      <td>bar</td>\n",
       "      <td>two</td>\n",
       "      <td>y</td>\n",
       "      <td>5</td>\n",
       "    </tr>\n",
       "    <tr>\n",
       "      <th>5</th>\n",
       "      <td>bar</td>\n",
       "      <td>one</td>\n",
       "      <td>x</td>\n",
       "      <td>4</td>\n",
       "    </tr>\n",
       "    <tr>\n",
       "      <th>6</th>\n",
       "      <td>bar</td>\n",
       "      <td>one</td>\n",
       "      <td>y</td>\n",
       "      <td>1</td>\n",
       "    </tr>\n",
       "  </tbody>\n",
       "</table>\n",
       "</div>"
      ],
      "text/plain": [
       "     A    B  C   D\n",
       "0  foo  one  x   1\n",
       "1  foo  one  y   1\n",
       "2  foo  one  x  20\n",
       "3  foo  two  x   2\n",
       "4  bar  two  y   5\n",
       "5  bar  one  x   4\n",
       "6  bar  one  y   1"
      ]
     },
     "execution_count": 131,
     "metadata": {},
     "output_type": "execute_result"
    }
   ],
   "source": [
    "# Belajar Pivot Table\n",
    "\n",
    "df = pd.DataFrame({\n",
    "    'A':['foo','foo','foo','foo','bar','bar','bar'],\n",
    "    'B':['one','one','one','two','two','one','one'],\n",
    "    'C':['x','y','x','x','y','x','y'],\n",
    "    'D':[1,1,20,2,5,4,1]\n",
    "})\n",
    "\n",
    "df"
   ]
  },
  {
   "cell_type": "code",
   "execution_count": 122,
   "metadata": {},
   "outputs": [
    {
     "data": {
      "text/html": [
       "<div>\n",
       "<style scoped>\n",
       "    .dataframe tbody tr th:only-of-type {\n",
       "        vertical-align: middle;\n",
       "    }\n",
       "\n",
       "    .dataframe tbody tr th {\n",
       "        vertical-align: top;\n",
       "    }\n",
       "\n",
       "    .dataframe thead th {\n",
       "        text-align: right;\n",
       "    }\n",
       "</style>\n",
       "<table border=\"1\" class=\"dataframe\">\n",
       "  <thead>\n",
       "    <tr style=\"text-align: right;\">\n",
       "      <th></th>\n",
       "      <th>C</th>\n",
       "      <th>x</th>\n",
       "      <th>y</th>\n",
       "    </tr>\n",
       "    <tr>\n",
       "      <th>A</th>\n",
       "      <th>B</th>\n",
       "      <th></th>\n",
       "      <th></th>\n",
       "    </tr>\n",
       "  </thead>\n",
       "  <tbody>\n",
       "    <tr>\n",
       "      <th rowspan=\"2\" valign=\"top\">bar</th>\n",
       "      <th>one</th>\n",
       "      <td>4.0</td>\n",
       "      <td>1.0</td>\n",
       "    </tr>\n",
       "    <tr>\n",
       "      <th>two</th>\n",
       "      <td>NaN</td>\n",
       "      <td>5.0</td>\n",
       "    </tr>\n",
       "    <tr>\n",
       "      <th rowspan=\"2\" valign=\"top\">foo</th>\n",
       "      <th>one</th>\n",
       "      <td>1.0</td>\n",
       "      <td>3.0</td>\n",
       "    </tr>\n",
       "    <tr>\n",
       "      <th>two</th>\n",
       "      <td>2.0</td>\n",
       "      <td>NaN</td>\n",
       "    </tr>\n",
       "  </tbody>\n",
       "</table>\n",
       "</div>"
      ],
      "text/plain": [
       "C          x    y\n",
       "A   B            \n",
       "bar one  4.0  1.0\n",
       "    two  NaN  5.0\n",
       "foo one  1.0  3.0\n",
       "    two  2.0  NaN"
      ]
     },
     "execution_count": 122,
     "metadata": {},
     "output_type": "execute_result"
    }
   ],
   "source": [
    "# Cara membuat pivot table\n",
    "\n",
    "df.pivot_table(\n",
    "    values='D',\n",
    "    index=['A', 'B'],\n",
    "    columns='C'\n",
    ")"
   ]
  },
  {
   "cell_type": "code",
   "execution_count": 126,
   "metadata": {},
   "outputs": [
    {
     "data": {
      "text/html": [
       "<div>\n",
       "<style scoped>\n",
       "    .dataframe tbody tr th:only-of-type {\n",
       "        vertical-align: middle;\n",
       "    }\n",
       "\n",
       "    .dataframe tbody tr th {\n",
       "        vertical-align: top;\n",
       "    }\n",
       "\n",
       "    .dataframe thead th {\n",
       "        text-align: right;\n",
       "    }\n",
       "</style>\n",
       "<table border=\"1\" class=\"dataframe\">\n",
       "  <thead>\n",
       "    <tr style=\"text-align: right;\">\n",
       "      <th></th>\n",
       "      <th>C</th>\n",
       "      <th>x</th>\n",
       "      <th>y</th>\n",
       "    </tr>\n",
       "    <tr>\n",
       "      <th>A</th>\n",
       "      <th>B</th>\n",
       "      <th></th>\n",
       "      <th></th>\n",
       "    </tr>\n",
       "  </thead>\n",
       "  <tbody>\n",
       "    <tr>\n",
       "      <th rowspan=\"2\" valign=\"top\">bar</th>\n",
       "      <th>one</th>\n",
       "      <td>4.0</td>\n",
       "      <td>1.0</td>\n",
       "    </tr>\n",
       "    <tr>\n",
       "      <th>two</th>\n",
       "      <td>0.0</td>\n",
       "      <td>5.0</td>\n",
       "    </tr>\n",
       "    <tr>\n",
       "      <th rowspan=\"2\" valign=\"top\">foo</th>\n",
       "      <th>one</th>\n",
       "      <td>1.0</td>\n",
       "      <td>3.0</td>\n",
       "    </tr>\n",
       "    <tr>\n",
       "      <th>two</th>\n",
       "      <td>2.0</td>\n",
       "      <td>0.0</td>\n",
       "    </tr>\n",
       "  </tbody>\n",
       "</table>\n",
       "</div>"
      ],
      "text/plain": [
       "C          x    y\n",
       "A   B            \n",
       "bar one  4.0  1.0\n",
       "    two  0.0  5.0\n",
       "foo one  1.0  3.0\n",
       "    two  2.0  0.0"
      ]
     },
     "execution_count": 126,
     "metadata": {},
     "output_type": "execute_result"
    }
   ],
   "source": [
    "# Cara membuat pivot table dan mengisi data yang kosong\n",
    "\n",
    "df.pivot_table(\n",
    "    values='D',\n",
    "    index=['A', 'B'],\n",
    "    columns='C',\n",
    "    fill_value=0\n",
    ")"
   ]
  },
  {
   "cell_type": "code",
   "execution_count": 132,
   "metadata": {},
   "outputs": [
    {
     "data": {
      "text/html": [
       "<div>\n",
       "<style scoped>\n",
       "    .dataframe tbody tr th:only-of-type {\n",
       "        vertical-align: middle;\n",
       "    }\n",
       "\n",
       "    .dataframe tbody tr th {\n",
       "        vertical-align: top;\n",
       "    }\n",
       "\n",
       "    .dataframe thead th {\n",
       "        text-align: right;\n",
       "    }\n",
       "</style>\n",
       "<table border=\"1\" class=\"dataframe\">\n",
       "  <thead>\n",
       "    <tr style=\"text-align: right;\">\n",
       "      <th></th>\n",
       "      <th>C</th>\n",
       "      <th>x</th>\n",
       "      <th>y</th>\n",
       "    </tr>\n",
       "    <tr>\n",
       "      <th>A</th>\n",
       "      <th>B</th>\n",
       "      <th></th>\n",
       "      <th></th>\n",
       "    </tr>\n",
       "  </thead>\n",
       "  <tbody>\n",
       "    <tr>\n",
       "      <th rowspan=\"2\" valign=\"top\">bar</th>\n",
       "      <th>one</th>\n",
       "      <td>4.0</td>\n",
       "      <td>1.0</td>\n",
       "    </tr>\n",
       "    <tr>\n",
       "      <th>two</th>\n",
       "      <td>NaN</td>\n",
       "      <td>5.0</td>\n",
       "    </tr>\n",
       "    <tr>\n",
       "      <th rowspan=\"2\" valign=\"top\">foo</th>\n",
       "      <th>one</th>\n",
       "      <td>21.0</td>\n",
       "      <td>1.0</td>\n",
       "    </tr>\n",
       "    <tr>\n",
       "      <th>two</th>\n",
       "      <td>2.0</td>\n",
       "      <td>NaN</td>\n",
       "    </tr>\n",
       "  </tbody>\n",
       "</table>\n",
       "</div>"
      ],
      "text/plain": [
       "C           x    y\n",
       "A   B             \n",
       "bar one   4.0  1.0\n",
       "    two   NaN  5.0\n",
       "foo one  21.0  1.0\n",
       "    two   2.0  NaN"
      ]
     },
     "execution_count": 132,
     "metadata": {},
     "output_type": "execute_result"
    }
   ],
   "source": [
    "df.pivot_table(\n",
    "    values='D',\n",
    "    index=['A', 'B'],\n",
    "    columns='C',\n",
    "    aggfunc='sum'\n",
    ")"
   ]
  },
  {
   "cell_type": "markdown",
   "metadata": {},
   "source": [
    "Pandas: Input and Output"
   ]
  },
  {
   "cell_type": "code",
   "execution_count": null,
   "metadata": {},
   "outputs": [],
   "source": [
    "# Belajar Input dan Output di Pandas\n",
    "# Input dari CSV\n",
    "\n",
    "df.to_csv(\n",
    "    path_or_buf='contoh_output_pandas/contoh_output_csv.csv'\n",
    ")"
   ]
  },
  {
   "cell_type": "code",
   "execution_count": null,
   "metadata": {},
   "outputs": [],
   "source": [
    "# Cara baca excel menggunakan pandas\n",
    "\n",
    "df = pd.read_excel(\n",
    "    io='contoh excel.xlsx'\n",
    ")\n",
    "\n",
    "df.head()"
   ]
  },
  {
   "cell_type": "code",
   "execution_count": null,
   "metadata": {},
   "outputs": [],
   "source": [
    "df['PTOTAL'] = df['P1'].astype(int) + df['P2'].astype(int)"
   ]
  },
  {
   "cell_type": "code",
   "execution_count": null,
   "metadata": {},
   "outputs": [],
   "source": [
    "# Cara export data excel ke sebuah folder\n",
    "\n",
    "df.to_excel(\n",
    "    excel_writer='contoh_output_pandas/contoh_output_excel.xlsx',\n",
    "    engine='openpyxl'\n",
    ")"
   ]
  },
  {
   "cell_type": "markdown",
   "metadata": {},
   "source": [
    "Pandas: Introduction to Regular Expression"
   ]
  },
  {
   "cell_type": "markdown",
   "metadata": {},
   "source": []
  }
 ],
 "metadata": {
  "kernelspec": {
   "display_name": "base",
   "language": "python",
   "name": "python3"
  },
  "language_info": {
   "codemirror_mode": {
    "name": "ipython",
    "version": 3
   },
   "file_extension": ".py",
   "mimetype": "text/x-python",
   "name": "python",
   "nbconvert_exporter": "python",
   "pygments_lexer": "ipython3",
   "version": "3.12.4"
  }
 },
 "nbformat": 4,
 "nbformat_minor": 2
}
