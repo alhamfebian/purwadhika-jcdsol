{
 "cells": [
  {
   "cell_type": "markdown",
   "metadata": {},
   "source": [
    "Pandas: Series and DataFrame"
   ]
  },
  {
   "cell_type": "code",
   "execution_count": 1,
   "metadata": {},
   "outputs": [],
   "source": [
    "import numpy as np\n",
    "import pandas as pd"
   ]
  },
  {
   "cell_type": "code",
   "execution_count": null,
   "metadata": {},
   "outputs": [],
   "source": [
    "# Di Pandas ada 2 jenis data: Series atau DataFrame\n",
    "# Series itu sama seperti array 1 dimensi\n",
    "# DataFrame itu sama seperti array 2 dimensi"
   ]
  },
  {
   "cell_type": "code",
   "execution_count": null,
   "metadata": {},
   "outputs": [],
   "source": [
    "# Cara membuat pandas series\n",
    "# Di Pandas itu berbentuk kolumnar, jadi hasil printnya itu berbentuk kolom\n",
    "\n",
    "labels = ['a', 'b', 'c']\n",
    "my_list = [10,20,30]\n",
    "arr = np.array([50,60,80])\n",
    "d = {'a':10, 'b':20, 'c': 30}\n",
    "\n",
    "\n",
    "pd.Series(data=arr)"
   ]
  },
  {
   "cell_type": "code",
   "execution_count": null,
   "metadata": {},
   "outputs": [],
   "source": [
    "# Di Pandas, Indexnya bisa diganti menggunakan labels\n",
    "# Tapi panjang labels harus sama dengan panjang values yang ada di seriesnya\n",
    "\n",
    "pd.Series(data=my_list, index=labels) "
   ]
  },
  {
   "cell_type": "code",
   "execution_count": null,
   "metadata": {},
   "outputs": [],
   "source": [
    "# Cara membuat pandas series menggunakan numpy array\n",
    "\n",
    "pd.Series(data=arr, index=labels)"
   ]
  },
  {
   "cell_type": "code",
   "execution_count": null,
   "metadata": {},
   "outputs": [],
   "source": [
    "# Cara membuat pandas series menggunakan dictionary\n",
    "# Key yang ada di dictionary akan menjadi index\n",
    "\n",
    "pd.Series(data=d)"
   ]
  },
  {
   "cell_type": "code",
   "execution_count": null,
   "metadata": {},
   "outputs": [],
   "source": [
    "# Cara membuat pandas series menggunakan dictionary\n",
    "# Kalau seperti contoh di bawah, ini valuenya tidak akan terbaca karena keynya tidak sama dengan yang ada di dictionary\n",
    "\n",
    "pd.Series(data=d, index='0 1 2'.split)"
   ]
  },
  {
   "cell_type": "code",
   "execution_count": null,
   "metadata": {},
   "outputs": [],
   "source": [
    "# Cara membuat pandas DataFrame menggunakan list 1 dimensi\n",
    "# Banyaknya kolom = length dari list\n",
    "# Banyaknya baris = jumlah data lisnya\n",
    "\n",
    "a = [i for i in range(1,5)]\n",
    "b = [i for i in range(5,9)]\n",
    "c = [i for i in range(9,13)]\n",
    "\n",
    "pd.DataFrame(\n",
    "    data=[a,b,c],\n",
    "    index='a b c'.split(),\n",
    "    columns='w x y z'.split()\n",
    ")"
   ]
  },
  {
   "cell_type": "code",
   "execution_count": null,
   "metadata": {},
   "outputs": [],
   "source": [
    "# Cara membuat pandas DataFrame menggunakan list 2 dimensi\n",
    "\n",
    "my_list = [\n",
    "    [1,2,3,4],\n",
    "    [5,6,7,8],\n",
    "    [9,10,11,12]\n",
    "]\n",
    "\n",
    "pd.DataFrame(\n",
    "    data=my_list,\n",
    "    columns='w x y z'.split(),\n",
    "    index='a b c'.split()\n",
    ")"
   ]
  },
  {
   "cell_type": "code",
   "execution_count": null,
   "metadata": {},
   "outputs": [],
   "source": [
    "# Cara melakukan transformasi -> dari kolom jadi baris\n",
    "\n",
    "pd.DataFrame(\n",
    "    data=my_list,\n",
    "    columns='w x y z'.split(),\n",
    "    index='a b c'.split()\n",
    ").T"
   ]
  },
  {
   "cell_type": "code",
   "execution_count": 2,
   "metadata": {},
   "outputs": [
    {
     "name": "stdout",
     "output_type": "stream",
     "text": [
      "          W         X         Y         Z\n",
      "A  2.706850  0.628133  0.907969  0.503826\n",
      "B  0.651118 -0.319318 -0.848077  0.605965\n",
      "C -2.018168  0.740122  0.528813 -0.589001\n",
      "D  0.188695 -0.758872 -0.933237  0.955057\n",
      "E  0.190794  1.978757  2.605967  0.683509\n"
     ]
    }
   ],
   "source": [
    "# Cara membuat DataFrame menggunakan array\n",
    "\n",
    "np.random.seed(101)\n",
    "\n",
    "df = pd.DataFrame(np.random.randn(5,4), index = 'A B C D E'.split(), columns='W X Y Z'.split())\n",
    "\n",
    "print(df)"
   ]
  },
  {
   "cell_type": "code",
   "execution_count": null,
   "metadata": {},
   "outputs": [],
   "source": [
    "# Cara membuat DataFrame menggunakan dictionary\n",
    "# Keynya menjadi kolom, oleh karena itu harus ditambahkan index\n",
    "# Indexnya harus sama panjangnya dengan panjang listnya\n",
    "\n",
    "my_d = {\n",
    "        'a': [1,2,3,4],\n",
    "        'b': [5,6,7,8],\n",
    "        'c': [9,10,11,12]\n",
    "    }\n",
    "\n",
    "pd.DataFrame(\n",
    "    data=my_d,\n",
    "    index='w x y z'.split()\n",
    ")"
   ]
  },
  {
   "cell_type": "markdown",
   "metadata": {},
   "source": [
    "Pandas: Indexing and Selecting Data"
   ]
  },
  {
   "cell_type": "code",
   "execution_count": null,
   "metadata": {},
   "outputs": [],
   "source": [
    "# Belajar Pandas (Selecting Data and Indexing)\n",
    "# Cara mengambil 1 Kolom: W\n",
    "\n",
    "df['W']"
   ]
  },
  {
   "cell_type": "code",
   "execution_count": null,
   "metadata": {},
   "outputs": [],
   "source": [
    "# Cara mengambil 1 kolom dan 1 baris\n",
    "# Kolom W dan baris pertamanya\n",
    "# ['W'] -> untuk kolom, [0] -> untuk baris\n",
    "# Formatnya Kolom dan Baris dulu\n",
    "\n",
    "df['W'][0]"
   ]
  },
  {
   "cell_type": "code",
   "execution_count": null,
   "metadata": {},
   "outputs": [],
   "source": [
    "# Mengambil 1 kolom dan beberapa baris dengan slicing\n",
    "# Mengambil Kolom W dan dari Baris B sampai E\n",
    "\n",
    "df['W']['B':'E']\n",
    "df['W'][0:2]"
   ]
  },
  {
   "cell_type": "code",
   "execution_count": null,
   "metadata": {},
   "outputs": [],
   "source": [
    "# Cara menambahkan kolom\n",
    "\n",
    "df['min'] = [1,2,3,4,5]\n",
    "print(df)"
   ]
  },
  {
   "cell_type": "code",
   "execution_count": null,
   "metadata": {},
   "outputs": [],
   "source": [
    "# Cara mengakses Kolom tapi tidak direkomendasi walaupun bisa\n",
    "# Karena code kayak gini sama kayak manggil fungsi\n",
    "# Kalau nama kolom = sama fungsi yang ada di python, nanti pythonnya bingun\n",
    "\n",
    "df.min"
   ]
  },
  {
   "cell_type": "code",
   "execution_count": null,
   "metadata": {},
   "outputs": [],
   "source": [
    "# Cara mengambil multiple kolom, karena bentuknya DataFrame kurung sikunya harus ada 2\n",
    "\n",
    "df[['W','Z']]"
   ]
  },
  {
   "cell_type": "code",
   "execution_count": null,
   "metadata": {},
   "outputs": [],
   "source": [
    "# Cara mengambil multiple kolom dan juga multiple baris dari kolom tersebut\n",
    "\n",
    "df[['W','Z']][0:2]"
   ]
  },
  {
   "cell_type": "code",
   "execution_count": null,
   "metadata": {},
   "outputs": [],
   "source": [
    "# Cara mengambil data lebih dari 1 kolom (alternatively)\n",
    "# Ini menggunakan fancy index\n",
    "# Hanya ngambil kolom X dan Z saja\n",
    "\n",
    "df.loc[:, ['W','Z']]"
   ]
  },
  {
   "cell_type": "code",
   "execution_count": null,
   "metadata": {},
   "outputs": [],
   "source": [
    "# Cara mengambil data berdasarkan Index atau Baris\n",
    "\n",
    "df.loc['A']"
   ]
  },
  {
   "cell_type": "code",
   "execution_count": null,
   "metadata": {},
   "outputs": [],
   "source": [
    "# Cara mengambil multiple data berdasarkan Index atau Baris menggunakan loc()\n",
    "# Semua kolomnya ikutan ke ambil\n",
    "# Kalau loc() berdasarkan nama indexnya\n",
    "\n",
    "df.loc['A':'D']"
   ]
  },
  {
   "cell_type": "code",
   "execution_count": null,
   "metadata": {},
   "outputs": [],
   "source": [
    "# Cara mengambil multiple data berdasarkan Index atau Baris menggunakan iloc()\n",
    "# Semua kolomnya ikutan ke ambil\n",
    "# Kalau iloc() berdasarkan nomor indexnya (index dimulai dari 0)\n",
    "\n",
    "# df.iloc[0:4:2]\n",
    "\n",
    "df.loc['A', 'W'] = 5\n",
    "\n",
    "df"
   ]
  },
  {
   "cell_type": "code",
   "execution_count": null,
   "metadata": {},
   "outputs": [],
   "source": [
    "# Cara mengambil data lebih dari 1 kolom menggunakan iloc()\n",
    "# Ini menggunakan fancy index\n",
    "# Hanya ngambil kolom X dan Z saja tapi menggunakan index dari kolom tersebut\n",
    "\n",
    "df.iloc[:, [0,3]]"
   ]
  },
  {
   "cell_type": "code",
   "execution_count": 3,
   "metadata": {},
   "outputs": [
    {
     "data": {
      "text/html": [
       "<div>\n",
       "<style scoped>\n",
       "    .dataframe tbody tr th:only-of-type {\n",
       "        vertical-align: middle;\n",
       "    }\n",
       "\n",
       "    .dataframe tbody tr th {\n",
       "        vertical-align: top;\n",
       "    }\n",
       "\n",
       "    .dataframe thead th {\n",
       "        text-align: right;\n",
       "    }\n",
       "</style>\n",
       "<table border=\"1\" class=\"dataframe\">\n",
       "  <thead>\n",
       "    <tr style=\"text-align: right;\">\n",
       "      <th></th>\n",
       "      <th>W</th>\n",
       "      <th>X</th>\n",
       "      <th>Y</th>\n",
       "      <th>Z</th>\n",
       "    </tr>\n",
       "  </thead>\n",
       "  <tbody>\n",
       "    <tr>\n",
       "      <th>A</th>\n",
       "      <td>False</td>\n",
       "      <td>False</td>\n",
       "      <td>False</td>\n",
       "      <td>False</td>\n",
       "    </tr>\n",
       "    <tr>\n",
       "      <th>B</th>\n",
       "      <td>False</td>\n",
       "      <td>False</td>\n",
       "      <td>False</td>\n",
       "      <td>False</td>\n",
       "    </tr>\n",
       "    <tr>\n",
       "      <th>C</th>\n",
       "      <td>False</td>\n",
       "      <td>False</td>\n",
       "      <td>False</td>\n",
       "      <td>False</td>\n",
       "    </tr>\n",
       "    <tr>\n",
       "      <th>D</th>\n",
       "      <td>False</td>\n",
       "      <td>False</td>\n",
       "      <td>False</td>\n",
       "      <td>False</td>\n",
       "    </tr>\n",
       "    <tr>\n",
       "      <th>E</th>\n",
       "      <td>False</td>\n",
       "      <td>False</td>\n",
       "      <td>False</td>\n",
       "      <td>False</td>\n",
       "    </tr>\n",
       "  </tbody>\n",
       "</table>\n",
       "</div>"
      ],
      "text/plain": [
       "       W      X      Y      Z\n",
       "A  False  False  False  False\n",
       "B  False  False  False  False\n",
       "C  False  False  False  False\n",
       "D  False  False  False  False\n",
       "E  False  False  False  False"
      ]
     },
     "execution_count": 3,
     "metadata": {},
     "output_type": "execute_result"
    }
   ],
   "source": [
    "# Conditional Selection (tanpa mengambil datanya)\n",
    "# Hasilnya adalah True atau False\n",
    "\n",
    "df > 5"
   ]
  },
  {
   "cell_type": "code",
   "execution_count": 4,
   "metadata": {},
   "outputs": [
    {
     "data": {
      "text/html": [
       "<div>\n",
       "<style scoped>\n",
       "    .dataframe tbody tr th:only-of-type {\n",
       "        vertical-align: middle;\n",
       "    }\n",
       "\n",
       "    .dataframe tbody tr th {\n",
       "        vertical-align: top;\n",
       "    }\n",
       "\n",
       "    .dataframe thead th {\n",
       "        text-align: right;\n",
       "    }\n",
       "</style>\n",
       "<table border=\"1\" class=\"dataframe\">\n",
       "  <thead>\n",
       "    <tr style=\"text-align: right;\">\n",
       "      <th></th>\n",
       "      <th>W</th>\n",
       "      <th>X</th>\n",
       "      <th>Y</th>\n",
       "      <th>Z</th>\n",
       "    </tr>\n",
       "  </thead>\n",
       "  <tbody>\n",
       "    <tr>\n",
       "      <th>A</th>\n",
       "      <td>2.706850</td>\n",
       "      <td>0.628133</td>\n",
       "      <td>0.907969</td>\n",
       "      <td>0.503826</td>\n",
       "    </tr>\n",
       "    <tr>\n",
       "      <th>B</th>\n",
       "      <td>0.651118</td>\n",
       "      <td>NaN</td>\n",
       "      <td>NaN</td>\n",
       "      <td>0.605965</td>\n",
       "    </tr>\n",
       "    <tr>\n",
       "      <th>C</th>\n",
       "      <td>NaN</td>\n",
       "      <td>0.740122</td>\n",
       "      <td>0.528813</td>\n",
       "      <td>NaN</td>\n",
       "    </tr>\n",
       "    <tr>\n",
       "      <th>D</th>\n",
       "      <td>NaN</td>\n",
       "      <td>NaN</td>\n",
       "      <td>NaN</td>\n",
       "      <td>0.955057</td>\n",
       "    </tr>\n",
       "    <tr>\n",
       "      <th>E</th>\n",
       "      <td>NaN</td>\n",
       "      <td>1.978757</td>\n",
       "      <td>2.605967</td>\n",
       "      <td>0.683509</td>\n",
       "    </tr>\n",
       "  </tbody>\n",
       "</table>\n",
       "</div>"
      ],
      "text/plain": [
       "          W         X         Y         Z\n",
       "A  2.706850  0.628133  0.907969  0.503826\n",
       "B  0.651118       NaN       NaN  0.605965\n",
       "C       NaN  0.740122  0.528813       NaN\n",
       "D       NaN       NaN       NaN  0.955057\n",
       "E       NaN  1.978757  2.605967  0.683509"
      ]
     },
     "execution_count": 4,
     "metadata": {},
     "output_type": "execute_result"
    }
   ],
   "source": [
    "# Conditional Selection (mengambil datanya)\n",
    "# Returnnya value yang lebih besar dari 5\n",
    "# Value yang tidak memenuhi diganti dengan NaN\n",
    "\n",
    "df[df>0.5]"
   ]
  },
  {
   "cell_type": "code",
   "execution_count": null,
   "metadata": {},
   "outputs": [],
   "source": [
    "# Conditional Selection (mengambil datanya) dengan multiple condition\n",
    "\n",
    "# AND\n",
    "df[(df > 0.5) & (df < 2)]"
   ]
  },
  {
   "cell_type": "code",
   "execution_count": null,
   "metadata": {},
   "outputs": [],
   "source": [
    "# Conditional Selection (mengambil datanya) dengan multiple condition\n",
    "\n",
    "# OR\n",
    "df[(df > 0.5) | (df < 2)]"
   ]
  },
  {
   "cell_type": "code",
   "execution_count": null,
   "metadata": {},
   "outputs": [],
   "source": [
    "# Conditional Selection (mengambil datanya) dengan spesifik kolom \n",
    "\n",
    "df[(df > 0.5) & (df < 2)]['Z']"
   ]
  },
  {
   "cell_type": "code",
   "execution_count": null,
   "metadata": {},
   "outputs": [],
   "source": [
    "# Conditional Selection dengan multiple kolom\n",
    "# df[df['W']>0.7] -> mengembalikan True or False, karena hasilnya adalah True\n",
    "# Kolom X ikut ke print walaupun valuenya < 0.7\n",
    "\n",
    "print(df[df['W']>0.7])\n",
    "\n",
    "df[df['W']>0.7][['Y','X']]"
   ]
  },
  {
   "cell_type": "code",
   "execution_count": null,
   "metadata": {},
   "outputs": [],
   "source": [
    "# Conditional Selection dengan multiple kolom \n",
    "# Returnnya baris yang memenuhi kondisi\n",
    "\n",
    "df[(df['W'] > 0) & (df['Y'] > 1)]"
   ]
  },
  {
   "cell_type": "code",
   "execution_count": null,
   "metadata": {},
   "outputs": [],
   "source": [
    "# Cara membaca dari file.csv \n",
    "\n",
    "df = pd.read_csv(\n",
    "    filepath_or_buffer='Transjakarta.csv'\n",
    ")\n",
    "\n",
    "print(df)"
   ]
  },
  {
   "cell_type": "code",
   "execution_count": null,
   "metadata": {},
   "outputs": [],
   "source": [
    "# Mengetahui jumlah data\n",
    "\n",
    "jumlah_data = len(df)\n",
    "print(jumlah_data)"
   ]
  },
  {
   "cell_type": "code",
   "execution_count": null,
   "metadata": {},
   "outputs": [],
   "source": [
    "# Hanya mengambil 5 data teratas by default\n",
    "\n",
    "df.head()"
   ]
  },
  {
   "cell_type": "code",
   "execution_count": null,
   "metadata": {},
   "outputs": [],
   "source": [
    "# Hanya mengambil 2 data teratas\n",
    "\n",
    "df.head(2)"
   ]
  },
  {
   "cell_type": "code",
   "execution_count": null,
   "metadata": {},
   "outputs": [],
   "source": [
    "# Hanya mengambil 2 data terakhir (by default)\n",
    "# Tapi bisa diubah berapa total data yang ingin diambil\n",
    "\n",
    "df.tail(2)"
   ]
  },
  {
   "cell_type": "code",
   "execution_count": null,
   "metadata": {},
   "outputs": [],
   "source": [
    "# print out unique values\n",
    "\n",
    "df['corridorID'].unique()"
   ]
  },
  {
   "cell_type": "code",
   "execution_count": null,
   "metadata": {},
   "outputs": [],
   "source": [
    "# Exercise dengan soal Transjakarta.csv\n",
    "\n",
    "# 1. Sebutkan jumlah corridorName unique\n",
    "# 2. Hitung jumlah pengguna flazz\n",
    "# 3. Hitung proporsi penumpang laki-laki (payCardSex = M) dibandingkan dengan seluruh penumpang\n",
    "# 4. Berapa jumlah penumpang yang Umurnya diantara 17-23?"
   ]
  },
  {
   "cell_type": "code",
   "execution_count": null,
   "metadata": {},
   "outputs": [],
   "source": [
    "# 1. Sebutkan jumlah corridorName unique = 217\n",
    "\n",
    "print(len(df['corridorName'].unique()))"
   ]
  },
  {
   "cell_type": "code",
   "execution_count": null,
   "metadata": {},
   "outputs": [],
   "source": [
    "# 2. Hitung jumlah pengguna flazz = 3234\n",
    "\n",
    "len(df[df['payCardBank'] == 'flazz'])"
   ]
  },
  {
   "cell_type": "code",
   "execution_count": null,
   "metadata": {},
   "outputs": [],
   "source": [
    "# 3. Hitung proporsi penumpang laki-laki (payCardSex = M) dibandingkan dengan seluruh penumpang = 0.47 / 47%\n",
    "\n",
    "result = len(df[df['payCardSex'] == 'M']) / len(df['payCardSex'])\n",
    "print(result)"
   ]
  },
  {
   "cell_type": "code",
   "execution_count": null,
   "metadata": {},
   "outputs": [],
   "source": [
    "# 4. Berapa jumlah penumpang yang Umurnya diantara 17-23? = 5567\n",
    "\n",
    "result1 = len(df[(df['payCardBirthDate'] <= 2007) & (df['payCardBirthDate'] >= 2001)])\n",
    "\n",
    "print(result1)"
   ]
  },
  {
   "cell_type": "markdown",
   "metadata": {},
   "source": [
    "Pandas: DataFrame Manipulation"
   ]
  },
  {
   "cell_type": "code",
   "execution_count": null,
   "metadata": {},
   "outputs": [],
   "source": [
    "# Membuat DataFrame dengan random value\n",
    "\n",
    "np.random.seed(101)\n",
    "\n",
    "df = pd.DataFrame(np.random.randn(5,4), index = 'A B C D E'.split(), columns='W X Y Z'.split())\n",
    "\n",
    "print(df)"
   ]
  },
  {
   "cell_type": "code",
   "execution_count": null,
   "metadata": {},
   "outputs": [],
   "source": [
    "# Cara menambahkan kolom baru\n",
    "\n",
    "df['new'] = [1,2,3,4,5]\n",
    "print(df)"
   ]
  },
  {
   "cell_type": "code",
   "execution_count": null,
   "metadata": {},
   "outputs": [],
   "source": [
    "# Cara menambahkan kolom baru dengan Pandas menggunakan loc()\n",
    "\n",
    "df.loc[:, 'kolombaru'] = [1,2,3,4,5] # Karena Pandas ini kolumnar makanya tipe datanya integer\n",
    "print(df)"
   ]
  },
  {
   "cell_type": "code",
   "execution_count": null,
   "metadata": {},
   "outputs": [],
   "source": [
    "# Cara menambahkan baris baru\n",
    "\n",
    "df.loc['new'] = [1,2,3,4,5]\n",
    "print(df)"
   ]
  },
  {
   "cell_type": "code",
   "execution_count": null,
   "metadata": {},
   "outputs": [],
   "source": [
    "# Nambah tipe kolom float dan Integer\n",
    "\n",
    "df.loc[:,'hasilPenjumlahan'] = df['W'] + df['kolombaru'] # kalau tipe Float + tipe Integer hasilnya Float\n",
    "print(df)"
   ]
  },
  {
   "cell_type": "code",
   "execution_count": null,
   "metadata": {},
   "outputs": [],
   "source": [
    "# Nambah data baru pake method insert()\n",
    "\n",
    "df.insert(loc=2, column='new', value=[100,200,300,400,500])\n",
    "print(df)"
   ]
  },
  {
   "cell_type": "code",
   "execution_count": null,
   "metadata": {},
   "outputs": [],
   "source": [
    "# Cara menghapus kolom (tidak permanent) karena axis=1\n",
    "# Menghapusnya harus 1 kolom\n",
    "\n",
    "df.drop(labels='new', axis=1)"
   ]
  },
  {
   "cell_type": "code",
   "execution_count": null,
   "metadata": {},
   "outputs": [],
   "source": [
    "# Cara menghapus kolom (permanent ke delete) axis=1\n",
    "\n",
    "df.drop(labels='new', axis=1, inplace=True)\n",
    "print(df)"
   ]
  },
  {
   "cell_type": "code",
   "execution_count": null,
   "metadata": {},
   "outputs": [],
   "source": [
    "# Cara menghapus multiple kolom\n",
    "\n",
    "df.drop(['new','Z'], axis=1)"
   ]
  },
  {
   "cell_type": "code",
   "execution_count": null,
   "metadata": {},
   "outputs": [],
   "source": [
    "# Cara menghapus baris dengan axis = 0\n",
    "df.drop(labels='E', axis=0)"
   ]
  },
  {
   "cell_type": "code",
   "execution_count": null,
   "metadata": {},
   "outputs": [],
   "source": [
    "# Cara me-reset index kembali ke angka lagi eg.0,1,2,3 (tidak permanent)\n",
    "# Returnnya adalah Pandas DataFrame\n",
    "\n",
    "df.reset_index()"
   ]
  },
  {
   "cell_type": "code",
   "execution_count": null,
   "metadata": {},
   "outputs": [],
   "source": [
    "# Cara me-reset index kembali ke angka lagi eg.0,1,2,3 dan menghapus kolom index (permanent)\n",
    "# Returnnya adalah Pandas DataFrame\n",
    "\n",
    "df.reset_index(inplace=True, drop=True)\n",
    "print(df)"
   ]
  },
  {
   "cell_type": "code",
   "execution_count": null,
   "metadata": {},
   "outputs": [],
   "source": [
    "# Cara set index menggunakan variable sendiri\n",
    "\n",
    "df.set_index('new', inplace=True)\n",
    "print(df)"
   ]
  },
  {
   "cell_type": "code",
   "execution_count": null,
   "metadata": {},
   "outputs": [],
   "source": [
    "# Belajar Multi-Index\n",
    "\n",
    "outside = ['Jakarta', 'Jakarta', 'Jakarta', 'Surabaya', 'Surabaya', 'Surabaya']\n",
    "inside = [1,2,3,1,2,3]\n",
    "hier_index = list(zip(outside, inside))\n",
    "print(hier_index)"
   ]
  },
  {
   "cell_type": "code",
   "execution_count": null,
   "metadata": {},
   "outputs": [],
   "source": [
    "hier_index = pd.MultiIndex.from_tuples(hier_index)\n",
    "hier_index"
   ]
  },
  {
   "cell_type": "code",
   "execution_count": null,
   "metadata": {},
   "outputs": [],
   "source": [
    "# Membuat DataFrame dengan Multi-Index\n",
    "\n",
    "df = pd.DataFrame (\n",
    "    np.random.randint(1,100,(6,2)),\n",
    "    index=hier_index,\n",
    "    columns=['Restaurant A', 'Restaurant B']\n",
    ")\n",
    "\n",
    "df"
   ]
  },
  {
   "cell_type": "code",
   "execution_count": null,
   "metadata": {},
   "outputs": [],
   "source": [
    "# Cara mengambil 1 lapisan baris di multi-index\n",
    "\n",
    "df.loc['Jakarta']"
   ]
  },
  {
   "cell_type": "code",
   "execution_count": null,
   "metadata": {},
   "outputs": [],
   "source": [
    "# Cara mengambil 2 lapisan baris di multi-index\n",
    "\n",
    "df.loc['Jakarta'].loc[1]"
   ]
  },
  {
   "cell_type": "code",
   "execution_count": null,
   "metadata": {},
   "outputs": [],
   "source": [
    "# Cara mengambil kolom di multi-index\n",
    "\n",
    "df['Restaurant A']"
   ]
  },
  {
   "cell_type": "code",
   "execution_count": null,
   "metadata": {},
   "outputs": [],
   "source": [
    "# Cara mengambil 2 lapisan baris di multi-index yang lebih simple\n",
    "# ['Jakarta',1] -> 'Jakarta' = lapisan pertama, 1 = lapisan kedua\n",
    "\n",
    "df.xs(['Jakarta', 1])"
   ]
  },
  {
   "cell_type": "code",
   "execution_count": null,
   "metadata": {},
   "outputs": [],
   "source": [
    "# Cara set nama multi-index\n",
    "\n",
    "df.index.names=['City', 'Location']\n",
    "\n",
    "df\n"
   ]
  },
  {
   "cell_type": "code",
   "execution_count": null,
   "metadata": {},
   "outputs": [],
   "source": [
    "# Cara mengambil data berdasarkan nama yang diberikan di multi-index\n",
    "\n",
    "df.xs(1, level='Location')"
   ]
  },
  {
   "cell_type": "code",
   "execution_count": null,
   "metadata": {},
   "outputs": [],
   "source": [
    "# Cara mengambil data di Multi-Index\n",
    "\n",
    "df.xs('Jakarta', level='city')"
   ]
  },
  {
   "cell_type": "code",
   "execution_count": null,
   "metadata": {},
   "outputs": [],
   "source": [
    "# Cara sorting dengan columns defaultnya ASC\n",
    "\n",
    "df.sort_values(by = 'Restaurant A')"
   ]
  },
  {
   "cell_type": "code",
   "execution_count": null,
   "metadata": {},
   "outputs": [],
   "source": [
    "# Cara sorting dengan columns by DESC\n",
    "\n",
    "df.sort_values(by = 'Restaurant B', ascending=False)"
   ]
  },
  {
   "cell_type": "code",
   "execution_count": null,
   "metadata": {},
   "outputs": [],
   "source": [
    "# Cara sorting by index\n",
    "\n",
    "df.sort_index()"
   ]
  },
  {
   "cell_type": "code",
   "execution_count": null,
   "metadata": {},
   "outputs": [],
   "source": [
    "# Cara sorting dengan multiple kolom\n",
    "# Sortingnya berdasarkan Restaurant A terlebih dahulu, baru Restaurant B\n",
    "df.sort_values(by = ['Restaurant A', 'Restaurant B'])"
   ]
  },
  {
   "cell_type": "markdown",
   "metadata": {},
   "source": [
    "Pandas Functionality"
   ]
  },
  {
   "cell_type": "code",
   "execution_count": null,
   "metadata": {},
   "outputs": [],
   "source": [
    "# Create dataframe belajar Functionality\n",
    "data = {'Company': ['GOOG', 'GOOG', 'MSFT', 'MSFT', 'FB', 'FB'],\n",
    "        'Person': ['Sam', 'Charlie', 'Amy', 'Vanessa', 'Carl', 'Sarah'],\n",
    "        'Sales': [200, 120, 340, 124, 243, 350]}\n",
    "\n",
    "df = pd.DataFrame(data)\n",
    "\n",
    "print(df)"
   ]
  },
  {
   "cell_type": "code",
   "execution_count": null,
   "metadata": {},
   "outputs": [],
   "source": [
    "# Group by dengan ada kondisi (Simpen aja kodenya)\n",
    "\n",
    "df.groupby(by=['Company', pd.cut(df['Sales'], bins=2)]).size().unstack()"
   ]
  },
  {
   "cell_type": "code",
   "execution_count": null,
   "metadata": {},
   "outputs": [],
   "source": [
    "# Belajar Pandas Functionality\n",
    "\n",
    "import mysql.connector\n",
    "import pandas as pd\n",
    "\n",
    "mydb = mysql.connector.connect(\n",
    "    host = 'localhost',\n",
    "    user = 'root',\n",
    "    passwd = 'Alhamfbn25',\n",
    ")\n"
   ]
  },
  {
   "cell_type": "code",
   "execution_count": null,
   "metadata": {},
   "outputs": [],
   "source": [
    "df_orderdetails = pd.read_sql(\n",
    "    sql = \n",
    "    '''\n",
    "        select * \n",
    "        from classicmodels.orderdetails;\n",
    "    ''',\n",
    "    con = mydb\n",
    ")\n",
    "\n",
    "print(df_orderdetails)"
   ]
  },
  {
   "cell_type": "code",
   "execution_count": null,
   "metadata": {},
   "outputs": [],
   "source": [
    "# Untuk melihat seluruh kolom, value count yang tidak kosong disetiap kolom dan tipe data dari setiap kolom\n",
    "\n",
    "df_orderdetails.info()"
   ]
  },
  {
   "cell_type": "code",
   "execution_count": null,
   "metadata": {},
   "outputs": [],
   "source": [
    "# Untuk mengetahui jumlah baris dan kolom\n",
    "\n",
    "df_orderdetails.shape"
   ]
  },
  {
   "cell_type": "code",
   "execution_count": null,
   "metadata": {},
   "outputs": [],
   "source": [
    "# Untuk mengetahui semua kolom yang ada\n",
    "\n",
    "df_orderdetails.columns"
   ]
  },
  {
   "cell_type": "code",
   "execution_count": null,
   "metadata": {},
   "outputs": [],
   "source": [
    "# Untuk mengetahui tipe data tiap kolom\n",
    "\n",
    "df_orderdetails.dtypes"
   ]
  },
  {
   "cell_type": "code",
   "execution_count": null,
   "metadata": {},
   "outputs": [],
   "source": [
    "# Untuk mengetahui statistik dari table (untuk kolom yang berisi tipe data numerik)\n",
    "\n",
    "df_orderdetails.describe()"
   ]
  },
  {
   "cell_type": "code",
   "execution_count": null,
   "metadata": {},
   "outputs": [],
   "source": [
    "# Untuk mengetahui statistik dari table (untuk kolom yang isinya string/object)\n",
    "\n",
    "df_orderdetails.describe(include=object)"
   ]
  },
  {
   "cell_type": "code",
   "execution_count": null,
   "metadata": {},
   "outputs": [],
   "source": [
    "# Untuk mengetahui rata-rata perkolom\n",
    "\n",
    "df_orderdetails['orderNumber'].mean()\n",
    "\n",
    "# Untuk mengetahui nilai tengah perkolom\n",
    "\n",
    "df_orderdetails['orderNumber'].median()\n",
    "\n",
    "# Untuk mengetahui standard deviasi perkolom\n",
    "\n",
    "df_orderdetails['orderNumber'].std()\n",
    "\n",
    "# Untuk mengetahui nilai minimum dari sebuah kolom\n",
    "\n",
    "df_orderdetails['orderNumber'].min()\n",
    "\n",
    "# Untuk mengetahui nilai maximum dari sebuah kolom\n",
    "\n",
    "df_orderdetails['orderNumber'].max()"
   ]
  },
  {
   "cell_type": "code",
   "execution_count": null,
   "metadata": {},
   "outputs": [],
   "source": [
    "# Untuk mengetahui apa saja unique value di sebuah kolom\n",
    "\n",
    "df_orderdetails['orderNumber'].unique()"
   ]
  },
  {
   "cell_type": "code",
   "execution_count": null,
   "metadata": {},
   "outputs": [],
   "source": [
    "# Untuk menghitung jumlah value unique di sebuah kolom\n",
    "\n",
    "df_orderdetails['orderNumber'].nunique()"
   ]
  },
  {
   "cell_type": "code",
   "execution_count": null,
   "metadata": {},
   "outputs": [],
   "source": [
    "# Untuk mengetahui jumlah frekuensi dari value2 yang ada di sebuah kolom\n",
    "\n",
    "df_orderdetails['orderNumber'].value_counts()"
   ]
  },
  {
   "cell_type": "code",
   "execution_count": null,
   "metadata": {},
   "outputs": [],
   "source": [
    "# Cara mendeteksi missing value menggunakan pandas\n",
    "\n",
    "df = pd.DataFrame(\n",
    "    {\n",
    "        'A':[np.nan,np.nan,np.nan],\n",
    "        'B':[5, np.nan, np.nan],\n",
    "        'C':[1,2,3]\n",
    "    }\n",
    ")\n",
    "\n",
    "df"
   ]
  },
  {
   "cell_type": "code",
   "execution_count": null,
   "metadata": {},
   "outputs": [],
   "source": [
    "# Cara mengecek apakah ada missing value di sebuah table\n",
    "\n",
    "df.isna()"
   ]
  },
  {
   "cell_type": "code",
   "execution_count": null,
   "metadata": {},
   "outputs": [],
   "source": [
    "# Cara menghapus data yang kosong berdasarkan baris\n",
    "# Yang dihapus adalah per-baris\n",
    "# Tidak dianjurkan delete data yang kosong jika: yang kosong terlalu banyak atau ketika dihapus datanya tinggal sedikit\n",
    "# Seperti di contoh, dari 3 baris menjadi hanya 1 baris\n",
    "\n",
    "df.dropna()"
   ]
  },
  {
   "cell_type": "code",
   "execution_count": null,
   "metadata": {},
   "outputs": [],
   "source": [
    "# Cara menghapus data yang kosong berdasarkan kolom\n",
    "# Yang dihapus adalah per-kolom\n",
    "\n",
    "df.dropna(axis=1)"
   ]
  },
  {
   "cell_type": "code",
   "execution_count": null,
   "metadata": {},
   "outputs": [],
   "source": [
    "# Cara menghapus data yang kosong berdasarkan baris\n",
    "# Yang dihapus adalah per-baris kalau ada 2 data yang kosong\n",
    "\n",
    "df.dropna(thresh=2)"
   ]
  },
  {
   "cell_type": "code",
   "execution_count": null,
   "metadata": {},
   "outputs": [],
   "source": [
    "# Cara menghapus data yang kosong berdasarkan kolom\n",
    "# Yang dihapus adalah per-kolom kalau ada 2 atau lebih data yang kosong\n",
    "\n",
    "df.dropna(thresh=2, axis=1)"
   ]
  },
  {
   "cell_type": "code",
   "execution_count": null,
   "metadata": {},
   "outputs": [],
   "source": [
    "# Cara mengisi data yang kosong\n",
    "\n",
    "df['A'].fillna(value=df['B'].max(), inplace=True)\n",
    "df"
   ]
  },
  {
   "cell_type": "code",
   "execution_count": null,
   "metadata": {},
   "outputs": [],
   "source": [
    "data = {'Company': ['GOOG', 'GOOG', 'MSFT', 'MSFT', 'FB', 'FB'],\n",
    "        'Person': ['Sam', 'Charlie', 'Amy', 'Vanessa', 'Carl', 'Sarah'],\n",
    "        'Sales': [200, 120, 340, 124, 243, 350]}\n",
    "\n",
    "df = pd.DataFrame(data)\n",
    "\n",
    "print(df)"
   ]
  },
  {
   "cell_type": "code",
   "execution_count": null,
   "metadata": {},
   "outputs": [],
   "source": [
    "# Cara agregasi data atau mengelompokan data dan menghitung rata-ratanya dan standard deviasi\n",
    "\n",
    "group_by_company = df.groupby('Company')['Sales']\n",
    "\n",
    "group_by_company.mean()\n",
    "\n",
    "group_by_company.std()\n"
   ]
  },
  {
   "cell_type": "code",
   "execution_count": null,
   "metadata": {},
   "outputs": [],
   "source": [
    "# Cara agregasi data atau mengelompokan data dan menghitung min, max, count\n",
    "\n",
    "group_by_company = df.groupby('Company')\n",
    "\n",
    "group_by_company.min()\n",
    "\n",
    "group_by_company.max()\n",
    "\n",
    "# Menghitung data yang tidak NaN saja\n",
    "group_by_company.count()"
   ]
  },
  {
   "cell_type": "code",
   "execution_count": null,
   "metadata": {},
   "outputs": [],
   "source": [
    "# Cara melihat summary statistik dari table\n",
    "\n",
    "group_by_company.describe()"
   ]
  },
  {
   "cell_type": "code",
   "execution_count": null,
   "metadata": {},
   "outputs": [],
   "source": [
    "# Cara melihat summary statistik dari table dan spesifik per kolom\n",
    "\n",
    "group_by_company.describe().transpose()['GOOG']"
   ]
  },
  {
   "cell_type": "markdown",
   "metadata": {},
   "source": [
    "Pandas: Merging, Joining and Concatenating"
   ]
  },
  {
   "cell_type": "code",
   "execution_count": null,
   "metadata": {},
   "outputs": [],
   "source": [
    "df_products = pd.read_sql(\n",
    "    sql = \n",
    "    '''\n",
    "        select * \n",
    "        from classicmodels.products;\n",
    "    ''',\n",
    "    con = mydb\n",
    ")\n",
    "\n",
    "print(df_products.head(3))"
   ]
  },
  {
   "cell_type": "code",
   "execution_count": null,
   "metadata": {},
   "outputs": [],
   "source": [
    "df_products_orderdetails = pd.read_sql(\n",
    "    sql=\n",
    "    '''\n",
    "        select cp.productName, cp.productVendor, co.quantityOrdered\n",
    "        from classicmodels.orderdetails as co\n",
    "        left join classicmodels.products as cp\n",
    "        on co.productCode = cp.productCode\n",
    "    ''',\n",
    "    con = mydb\n",
    ")\n",
    "\n",
    "print(df_products_orderdetails)"
   ]
  },
  {
   "cell_type": "code",
   "execution_count": null,
   "metadata": {},
   "outputs": [],
   "source": [
    "# Menggunakan merge untuk join 2 table, by default joinnya Inner\n",
    "\n",
    "df_hasil_merge = pd.merge(\n",
    "    left= df_orderdetails,\n",
    "    right= df_products,\n",
    "    on= 'productCode'\n",
    ")\n",
    "\n",
    "print(df_hasil_merge)"
   ]
  },
  {
   "cell_type": "code",
   "execution_count": null,
   "metadata": {},
   "outputs": [],
   "source": [
    "# Menggunakan merge untuk join 2 table dengan outer join\n",
    "\n",
    "df_hasil_merge = pd.merge(\n",
    "    left= df_orderdetails,\n",
    "    right= df_products,\n",
    "    how= 'outer',\n",
    "    on= 'productCode'\n",
    ")\n",
    "\n",
    "print(df_hasil_merge)"
   ]
  },
  {
   "cell_type": "code",
   "execution_count": null,
   "metadata": {},
   "outputs": [],
   "source": [
    "# Menggunakan merge untuk join 2 table dengan left join\n",
    "\n",
    "df_hasil_merge = pd.merge(\n",
    "    left= df_orderdetails,\n",
    "    right= df_products,\n",
    "    how= 'left',\n",
    "    on= 'productCode'\n",
    ")\n",
    "\n",
    "print(df_hasil_merge)"
   ]
  },
  {
   "cell_type": "code",
   "execution_count": null,
   "metadata": {},
   "outputs": [],
   "source": [
    "# Menggunakan merge untuk join 2 table dengan right join\n",
    "\n",
    "df_hasil_merge = pd.merge(\n",
    "    left= df_orderdetails,\n",
    "    right= df_products,\n",
    "    how= 'right',\n",
    "    on= 'productCode'\n",
    ")\n",
    "\n",
    "print(df_hasil_merge)"
   ]
  },
  {
   "cell_type": "code",
   "execution_count": null,
   "metadata": {},
   "outputs": [],
   "source": [
    "# Cara CONCATENATING di pandas, by default akan di concate by baris\n",
    "\n",
    "df_hasil_concate = pd.concat([\n",
    "    df_orderdetails, df_products\n",
    "])\n",
    "\n",
    "print(df_hasil_concate.head(3))"
   ]
  },
  {
   "cell_type": "code",
   "execution_count": null,
   "metadata": {},
   "outputs": [],
   "source": [
    "# Cara CONCATENATING berdasarkan kolom di pandas \n",
    "\n",
    "df_hasil_concate_by_kolom = pd.concat([\n",
    "    df_orderdetails, df_products\n",
    "], axis=1)\n",
    "\n",
    "print(df_hasil_concate_by_kolom.head(3))"
   ]
  },
  {
   "cell_type": "markdown",
   "metadata": {},
   "source": [
    "Pandas: Operations"
   ]
  },
  {
   "cell_type": "code",
   "execution_count": null,
   "metadata": {},
   "outputs": [],
   "source": [
    "df = pd.DataFrame(\n",
    "    {\n",
    "        'col1':[1,2,3,4], 'col2':[444,555,666,444], 'col3':['abc','def','ghi','xyz']\n",
    "    }\n",
    ")\n",
    "\n",
    "df.head()"
   ]
  },
  {
   "cell_type": "code",
   "execution_count": null,
   "metadata": {},
   "outputs": [],
   "source": [
    "# Mengapplikasikan Fungsi untuk setiap value di sebuah kolom\n",
    "\n",
    "def times2(number):\n",
    "    return number * 2\n",
    "\n",
    "df['col1'].apply(times2)"
   ]
  },
  {
   "cell_type": "code",
   "execution_count": null,
   "metadata": {},
   "outputs": [],
   "source": [
    "# Mengapplikasikan Fungsi untuk setiap value di sebuah baris\n",
    "\n",
    "def times2(number):\n",
    "    return number * 2\n",
    "\n",
    "df.loc[0].apply(times2)"
   ]
  },
  {
   "cell_type": "code",
   "execution_count": null,
   "metadata": {},
   "outputs": [],
   "source": [
    "# Mengetahui panjang setiap elemen dengan fungsi\n",
    "\n",
    "df['col3'].apply(len)"
   ]
  },
  {
   "cell_type": "code",
   "execution_count": null,
   "metadata": {},
   "outputs": [],
   "source": [
    "# Membandingkan kecepatan performance python for loop vs apply\n",
    "# Jauh lebih cepet pandas.apply\n",
    "\n",
    "df_copy = df.copy()\n",
    "\n",
    "for i in range(0, len(df_copy)):\n",
    "    df_copy.loc[i, 'umurUser'] = 2024 - df_copy.loc[i, 'payCardBirthDate']\n",
    "\n",
    "print(df_copy)"
   ]
  },
  {
   "cell_type": "code",
   "execution_count": null,
   "metadata": {},
   "outputs": [],
   "source": [
    "# Pandas Apply + lambda function\n",
    "# Fungsi Apply kurang disarankan untuk data numerik\n",
    "# Disarankan untuk data string/object\n",
    "\n",
    "df_copy['umurUser'] = df_copy['payCardBirthDate'].apply(lambda x: 2024 - x)\n",
    "\n",
    "print(df_copy)"
   ]
  },
  {
   "cell_type": "code",
   "execution_count": null,
   "metadata": {},
   "outputs": [],
   "source": [
    "# Menggunakan Pandas Apply + Lambda function\n",
    "\n",
    "df['col3'].apply(lambda x: x[1])"
   ]
  },
  {
   "cell_type": "code",
   "execution_count": null,
   "metadata": {},
   "outputs": [],
   "source": [
    "# Menggunakan operasi matematika\n",
    "\n",
    "# operasi +\n",
    "df['col4'] = df['col1'] + df['col2']\n",
    "\n",
    "# operasi -\n",
    "df['col5'] = df['col1'] - df['col2']\n",
    "\n",
    "# operasi *\n",
    "df['col6'] = df['col1'] * df['col2']\n",
    "\n",
    "# operasi /\n",
    "df['col6'] = df['col1'] / df['col2']\n",
    "\n",
    "df"
   ]
  },
  {
   "cell_type": "code",
   "execution_count": null,
   "metadata": {},
   "outputs": [],
   "source": [
    "# Belajar Pivot Table\n",
    "\n",
    "df = pd.DataFrame({\n",
    "    'A':['foo','foo','foo','foo','bar','bar','bar'],\n",
    "    'B':['one','one','one','two','two','one','one'],\n",
    "    'C':['x','y','x','x','y','x','y'],\n",
    "    'D':[1,1,20,2,5,4,1]\n",
    "})\n",
    "\n",
    "df"
   ]
  },
  {
   "cell_type": "code",
   "execution_count": null,
   "metadata": {},
   "outputs": [],
   "source": [
    "# Cara membuat pivot table\n",
    "\n",
    "df.pivot_table(\n",
    "    values='D',\n",
    "    index=['A', 'B'],\n",
    "    columns='C'\n",
    ")"
   ]
  },
  {
   "cell_type": "code",
   "execution_count": null,
   "metadata": {},
   "outputs": [],
   "source": [
    "# Cara membuat pivot table dan mengisi data yang kosong\n",
    "\n",
    "df.pivot_table(\n",
    "    values='D',\n",
    "    index=['A', 'B'],\n",
    "    columns='C',\n",
    "    fill_value=0\n",
    ")"
   ]
  },
  {
   "cell_type": "code",
   "execution_count": null,
   "metadata": {},
   "outputs": [],
   "source": [
    "df.pivot_table(\n",
    "    values='D',\n",
    "    index=['A', 'B'],\n",
    "    columns='C',\n",
    "    aggfunc='sum'\n",
    ")"
   ]
  },
  {
   "cell_type": "markdown",
   "metadata": {},
   "source": [
    "Pandas: Input and Output"
   ]
  },
  {
   "cell_type": "code",
   "execution_count": null,
   "metadata": {},
   "outputs": [],
   "source": [
    "# Belajar Input dan Output di Pandas\n",
    "# Input dari CSV\n",
    "\n",
    "df.to_csv(\n",
    "    path_or_buf='contoh_output_pandas/contoh_output_csv.csv'\n",
    ")"
   ]
  },
  {
   "cell_type": "code",
   "execution_count": null,
   "metadata": {},
   "outputs": [],
   "source": [
    "# Cara baca excel menggunakan pandas\n",
    "\n",
    "df = pd.read_excel(\n",
    "    io='contoh excel.xlsx'\n",
    ")\n",
    "\n",
    "df.head()"
   ]
  },
  {
   "cell_type": "code",
   "execution_count": null,
   "metadata": {},
   "outputs": [],
   "source": [
    "df['PTOTAL'] = df['P1'].astype(int) + df['P2'].astype(int)"
   ]
  },
  {
   "cell_type": "code",
   "execution_count": null,
   "metadata": {},
   "outputs": [],
   "source": [
    "# Cara export data excel ke sebuah folder\n",
    "\n",
    "df.to_excel(\n",
    "    excel_writer='contoh_output_pandas/contoh_output_excel.xlsx',\n",
    "    engine='openpyxl'\n",
    ")"
   ]
  },
  {
   "cell_type": "markdown",
   "metadata": {},
   "source": [
    "Pandas: Introduction to Regular Expression"
   ]
  },
  {
   "cell_type": "markdown",
   "metadata": {},
   "source": []
  }
 ],
 "metadata": {
  "kernelspec": {
   "display_name": "base",
   "language": "python",
   "name": "python3"
  },
  "language_info": {
   "codemirror_mode": {
    "name": "ipython",
    "version": 3
   },
   "file_extension": ".py",
   "mimetype": "text/x-python",
   "name": "python",
   "nbconvert_exporter": "python",
   "pygments_lexer": "ipython3",
   "version": "3.12.4"
  }
 },
 "nbformat": 4,
 "nbformat_minor": 2
}
