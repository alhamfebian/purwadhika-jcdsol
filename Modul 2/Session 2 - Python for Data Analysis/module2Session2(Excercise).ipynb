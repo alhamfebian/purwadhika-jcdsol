{
 "cells": [
  {
   "cell_type": "code",
   "execution_count": null,
   "metadata": {},
   "outputs": [],
   "source": [
    "import numpy as np\n",
    "import pandas as pd"
   ]
  },
  {
   "cell_type": "code",
   "execution_count": null,
   "metadata": {},
   "outputs": [],
   "source": [
    "# Excercise 1: Buat Array dengan perintah range\n",
    "# Nilai awal dan akhirnya dari sebuah input\n",
    "# Buatlah versi 2 dan 3 dimensinya\n",
    "\n",
    "arrayStart = int(input('Mulai : '))\n",
    "arrayEnd = int(input('Selesai : '))\n",
    "\n",
    "array_result = np.arange(arrayStart, arrayEnd)\n",
    "\n",
    "# Versi 1 dimensi\n",
    "print(f'''\n",
    "    1 Dimensi \n",
    "    {array_result}\n",
    "''')\n",
    "\n",
    "# Versi 2 dimensi\n",
    "print(f'''\n",
    "    2 Dimensi\n",
    "    {array_result.reshape(3,9)}\n",
    "''')\n",
    "\n",
    "\n",
    "# Versi 3 dimensi\n",
    "print(f'''\n",
    "    2 Dimensi\n",
    "    {array_result.reshape(3,3,3)}\n",
    "''')"
   ]
  },
  {
   "cell_type": "code",
   "execution_count": null,
   "metadata": {},
   "outputs": [],
   "source": [
    "# Excercise 2: Buatlah sebuah array 1 dimensi dari data random integer sebanyak \"n\"\n",
    "# \"n\" dari sebuah input\n",
    "# Ubah arraynya dari 1 dimensi ke 2 dimensi\n",
    "# Setelah diubah jadi 2 dimensi, balik urutan datanya untuk setiap barisnya, eg: 1,2,3 -> 3,2,1\n",
    "\n",
    "np.random.seed(101)\n",
    "\n",
    "batasJumlahRandomData = int(input('Banyak Data: '))\n",
    "arrayStart = int(input('Mulai : '))\n",
    "arrayEnd = int(input('Selesai : '))\n",
    "\n",
    "randomIntData = np.random.randint(arrayStart, arrayEnd, batasJumlahRandomData)\n",
    "\n",
    "array_result = np.array(randomIntData)\n",
    "\n",
    "print(f'''\n",
    "    Bentuk array sebelum datanya dibalik\n",
    "    {array_result.reshape(4,4)}\n",
    "''')\n",
    "\n",
    "\n",
    "# Cara reverse element untuk setiap baris\n",
    "# Cara lainnya bisa menggunakan {np.fliplr(array_result.reshape(4,4))}\n",
    "print(f'''\n",
    "    Bentuk array setelah data barisnya dibalik\n",
    "    {np.flip(array_result.reshape(4,4), axis=1)}\n",
    "''')\n",
    "\n",
    "# Cara reverse element untuk setiap kolom\n",
    "# Cara lainnya bisa menggunakan {np.flipud(array_result.reshape(4,4))}\n",
    "print(f'''\n",
    "    Bentuk array setelah data kolomnya dibalik\n",
    "    {np.flipud(array_result.reshape(4,4))}\n",
    "''')"
   ]
  },
  {
   "cell_type": "code",
   "execution_count": null,
   "metadata": {},
   "outputs": [],
   "source": [
    "# Excercise 3: Buatlah array 2 dimensi dengan ukuran 10x10\n",
    "# Isi dari array tersebut:\n",
    "# Sisi luarnya merupakan angka 4\n",
    "# Sisi dalamnya merupakan angka 0\n",
    "\n",
    "array_result = np.zeros((10,10))\n",
    "\n",
    "array_result[0] = 4\n",
    "array_result[-1] = 4\n",
    "\n",
    "for item in array_result:\n",
    "    item[0] = 4\n",
    "    item[-1] = 4\n",
    "\n",
    "print(array_result)"
   ]
  },
  {
   "cell_type": "code",
   "execution_count": null,
   "metadata": {},
   "outputs": [],
   "source": [
    "# Excercise 4: Buatlah sebuah series dengan menggunakan Pandas\n",
    "# Index pada series tersebut berupa huruf lowercase dari a hingga z\n",
    "# Data dari tiap indexnya adalah nomor 1 hingga 26\n",
    "\n",
    "labels = ['a','b','c','d','e','f','g','h','i','j','k','l','m','n','o','p','q','r','s','t','u','v','w','x','y','z']\n",
    "listNumber = [i for i in range(1,27)]\n",
    "\n",
    "pd.Series(data = listNumber, index = labels)"
   ]
  },
  {
   "cell_type": "code",
   "execution_count": 93,
   "metadata": {},
   "outputs": [
    {
     "name": "stdout",
     "output_type": "stream",
     "text": [
      "\n",
      "DataFrame dengan hasil count:\n",
      "   value  counts\n",
      "0      4      36\n",
      "1      1      30\n"
     ]
    }
   ],
   "source": [
    "np.random.seed(101)\n",
    "\n",
    "randomIntValue = np.random.randint(1,5,100)\n",
    "\n",
    "series_random_value = pd.Series(data = randomIntValue)\n",
    "\n",
    "count_result = series_random_value.value_counts().head(2)\n",
    "\n",
    "df_count_result = count_result.reset_index()\n",
    "df_count_result.columns = ['value', 'counts']\n",
    "\n",
    "# Menampilkan DataFrame yang telah diubah\n",
    "print(\"\\nDataFrame dengan hasil count:\")\n",
    "print(df_count_result)"
   ]
  }
 ],
 "metadata": {
  "kernelspec": {
   "display_name": "base",
   "language": "python",
   "name": "python3"
  },
  "language_info": {
   "codemirror_mode": {
    "name": "ipython",
    "version": 3
   },
   "file_extension": ".py",
   "mimetype": "text/x-python",
   "name": "python",
   "nbconvert_exporter": "python",
   "pygments_lexer": "ipython3",
   "version": "3.12.4"
  }
 },
 "nbformat": 4,
 "nbformat_minor": 2
}
