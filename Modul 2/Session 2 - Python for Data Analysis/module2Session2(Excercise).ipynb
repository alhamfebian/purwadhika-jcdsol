{
 "cells": [
  {
   "cell_type": "code",
   "execution_count": 1,
   "metadata": {},
   "outputs": [],
   "source": [
    "import numpy as np\n",
    "import pandas as pd\n",
    "import seaborn as sns\n",
    "import re"
   ]
  },
  {
   "cell_type": "code",
   "execution_count": 2,
   "metadata": {},
   "outputs": [
    {
     "ename": "ValueError",
     "evalue": "invalid literal for int() with base 10: ''",
     "output_type": "error",
     "traceback": [
      "\u001b[0;31m---------------------------------------------------------------------------\u001b[0m",
      "\u001b[0;31mValueError\u001b[0m                                Traceback (most recent call last)",
      "Cell \u001b[0;32mIn[2], line 5\u001b[0m\n\u001b[1;32m      1\u001b[0m \u001b[38;5;66;03m# Excercise 1: Buat Array dengan perintah range\u001b[39;00m\n\u001b[1;32m      2\u001b[0m \u001b[38;5;66;03m# Nilai awal dan akhirnya dari sebuah input\u001b[39;00m\n\u001b[1;32m      3\u001b[0m \u001b[38;5;66;03m# Buatlah versi 2 dan 3 dimensinya\u001b[39;00m\n\u001b[0;32m----> 5\u001b[0m arrayStart \u001b[38;5;241m=\u001b[39m \u001b[38;5;28mint\u001b[39m(\u001b[38;5;28minput\u001b[39m(\u001b[38;5;124m'\u001b[39m\u001b[38;5;124mMulai : \u001b[39m\u001b[38;5;124m'\u001b[39m))\n\u001b[1;32m      6\u001b[0m arrayEnd \u001b[38;5;241m=\u001b[39m \u001b[38;5;28mint\u001b[39m(\u001b[38;5;28minput\u001b[39m(\u001b[38;5;124m'\u001b[39m\u001b[38;5;124mSelesai : \u001b[39m\u001b[38;5;124m'\u001b[39m))\n\u001b[1;32m      8\u001b[0m array_result \u001b[38;5;241m=\u001b[39m np\u001b[38;5;241m.\u001b[39marange(arrayStart, arrayEnd)\n",
      "\u001b[0;31mValueError\u001b[0m: invalid literal for int() with base 10: ''"
     ]
    }
   ],
   "source": [
    "# Excercise 1: Buat Array dengan perintah range\n",
    "# Nilai awal dan akhirnya dari sebuah input\n",
    "# Buatlah versi 2 dan 3 dimensinya\n",
    "\n",
    "arrayStart = int(input('Mulai : '))\n",
    "arrayEnd = int(input('Selesai : '))\n",
    "\n",
    "array_result = np.arange(arrayStart, arrayEnd)\n",
    "\n",
    "# Versi 1 dimensi\n",
    "print(f'''\n",
    "    1 Dimensi \n",
    "    {array_result}\n",
    "''')\n",
    "\n",
    "# Versi 2 dimensi\n",
    "print(f'''\n",
    "    2 Dimensi\n",
    "    {array_result.reshape(3,9)}\n",
    "''')\n",
    "\n",
    "\n",
    "# Versi 3 dimensi\n",
    "print(f'''\n",
    "    2 Dimensi\n",
    "    {array_result.reshape(3,3,3)}\n",
    "''')"
   ]
  },
  {
   "cell_type": "code",
   "execution_count": null,
   "metadata": {},
   "outputs": [],
   "source": [
    "# Excercise 2: Buatlah sebuah array 1 dimensi dari data random integer sebanyak \"n\"\n",
    "# \"n\" dari sebuah input\n",
    "# Ubah arraynya dari 1 dimensi ke 2 dimensi\n",
    "# Setelah diubah jadi 2 dimensi, balik urutan datanya untuk setiap barisnya, eg: 1,2,3 -> 3,2,1\n",
    "\n",
    "np.random.seed(101)\n",
    "\n",
    "batasJumlahRandomData = int(input('Banyak Data: '))\n",
    "arrayStart = int(input('Mulai : '))\n",
    "arrayEnd = int(input('Selesai : '))\n",
    "\n",
    "randomIntData = np.random.randint(arrayStart, arrayEnd, batasJumlahRandomData)\n",
    "\n",
    "array_result = np.array(randomIntData)\n",
    "\n",
    "print(f'''\n",
    "    Bentuk array sebelum datanya dibalik\n",
    "    {array_result.reshape(4,4)}\n",
    "''')\n",
    "\n",
    "\n",
    "# Cara reverse element untuk setiap baris\n",
    "# Cara lainnya bisa menggunakan {np.fliplr(array_result.reshape(4,4))}\n",
    "print(f'''\n",
    "    Bentuk array setelah data barisnya dibalik\n",
    "    {np.flip(array_result.reshape(4,4), axis=1)}\n",
    "''')\n",
    "\n",
    "# Cara reverse element untuk setiap kolom\n",
    "# Cara lainnya bisa menggunakan {np.flipud(array_result.reshape(4,4))}\n",
    "print(f'''\n",
    "    Bentuk array setelah data kolomnya dibalik\n",
    "    {np.flipud(array_result.reshape(4,4))}\n",
    "''')"
   ]
  },
  {
   "cell_type": "code",
   "execution_count": null,
   "metadata": {},
   "outputs": [],
   "source": [
    "# Excercise 3: Buatlah array 2 dimensi dengan ukuran 10x10\n",
    "# Isi dari array tersebut:\n",
    "# Sisi luarnya merupakan angka 4\n",
    "# Sisi dalamnya merupakan angka 0\n",
    "\n",
    "array_result = np.zeros((10,10))\n",
    "\n",
    "array_result[0] = 4\n",
    "array_result[-1] = 4\n",
    "\n",
    "for item in array_result:\n",
    "    item[0] = 4\n",
    "    item[-1] = 4\n",
    "\n",
    "print(array_result)"
   ]
  },
  {
   "cell_type": "code",
   "execution_count": null,
   "metadata": {},
   "outputs": [],
   "source": [
    "# Excercise 4: Buatlah sebuah series dengan menggunakan Pandas\n",
    "# Index pada series tersebut berupa huruf lowercase dari a hingga z\n",
    "# Data dari tiap indexnya adalah nomor 1 hingga 26\n",
    "\n",
    "labels = ['a','b','c','d','e','f','g','h','i','j','k','l','m','n','o','p','q','r','s','t','u','v','w','x','y','z']\n",
    "listNumber = [i for i in range(1,27)]\n",
    "\n",
    "pd.Series(data = listNumber, index = labels)"
   ]
  },
  {
   "cell_type": "code",
   "execution_count": null,
   "metadata": {},
   "outputs": [],
   "source": [
    "# Excercise 5: Buatlah sebuah series menggunakan angka random integer\n",
    "# dari 1 hingga 5 sebanyak 100\n",
    "# Hitunglah banyaknya frekuensi tiap angka\n",
    "# Cari tahu 2 nilai dengan frekuensi tertinggi\n",
    "\n",
    "np.random.seed(101)\n",
    "\n",
    "randomIntValue = np.random.randint(1,5,100)\n",
    "\n",
    "series_random_value = pd.Series(data = randomIntValue)\n",
    "\n",
    "count_result = series_random_value.value_counts().head(2)\n",
    "\n",
    "df_count_result = count_result.reset_index()\n",
    "df_count_result.columns = ['value', 'counts']\n",
    "\n",
    "# Menampilkan DataFrame yang telah diubah\n",
    "print(\"\\nDataFrame dengan hasil count:\")\n",
    "print(df_count_result)"
   ]
  },
  {
   "cell_type": "code",
   "execution_count": null,
   "metadata": {},
   "outputs": [
    {
     "name": "stdout",
     "output_type": "stream",
     "text": [
      "    mpg  cylinders  displacement  horsepower  weight  acceleration  \\\n",
      "0  18.0          8         307.0       130.0    3504          12.0   \n",
      "1  15.0          8         350.0       165.0    3693          11.5   \n",
      "2  18.0          8         318.0       150.0    3436          11.0   \n",
      "3  16.0          8         304.0       150.0    3433          12.0   \n",
      "4  17.0          8         302.0       140.0    3449          10.5   \n",
      "\n",
      "   model_year origin                       name  \n",
      "0          70    usa  chevrolet chevelle malibu  \n",
      "1          70    usa          buick skylark 320  \n",
      "2          70    usa         plymouth satellite  \n",
      "3          70    usa              amc rebel sst  \n",
      "4          70    usa                ford torino  \n",
      "       origin        name\n",
      "count     398         398\n",
      "unique      3         305\n",
      "top       usa  ford pinto\n",
      "freq      249           6\n",
      "Index(['mpg', 'cylinders', 'displacement', 'horsepower', 'weight',\n",
      "       'acceleration', 'model_year', 'origin', 'name'],\n",
      "      dtype='object')\n",
      "mpg             0\n",
      "cylinders       0\n",
      "displacement    0\n",
      "horsepower      6\n",
      "weight          0\n",
      "acceleration    0\n",
      "model_year      0\n",
      "origin          0\n",
      "name            0\n",
      "dtype: int64\n"
     ]
    }
   ],
   "source": [
    "# Excercise 6: Tampilkan data 'MPG' dari Seaborn\n",
    "# Tampilkan statistik descriptif atau Describe selain data numerik\n",
    "# Tampilkan seluruh nama kolom pada DataFrame!\n",
    "# Hitung Jumlah Missing Value (Data Kosong) di setiap kolomnya!\n",
    "\n",
    "mpg = sns.load_dataset('mpg')\n",
    "\n",
    "mpg_result = mpg.head()\n",
    "\n",
    "print(mpg_result)\n",
    "print(mpg.describe(include=object))\n",
    "print(mpg.columns)\n",
    "\n",
    "# .sum() menghitung semua nilai yang Nan\n",
    "# Convert nilai yang True = 1 dan dijumlahkan\n",
    "print(mpg.isna().sum())\n",
    "\n"
   ]
  },
  {
   "cell_type": "code",
   "execution_count": null,
   "metadata": {},
   "outputs": [],
   "source": [
    "# Excercise 7: Tampilkan data 'MPG' dari Seaborn\n",
    "# Tampilkan Missing Value (data kosong) pada kolom 'horsepower'!\n",
    "# Tampilkan index lokasi missing value tersebut!\n",
    "\n",
    "mpg = sns.load_dataset(\"mpg\")\n",
    "\n",
    "print(mpg[mpg['horsepower'].isna()])\n",
    "\n",
    "mpg_isna = np.where(mpg['horsepower'].isna())\n",
    "\n",
    "print(mpg_isna)"
   ]
  },
  {
   "cell_type": "code",
   "execution_count": null,
   "metadata": {},
   "outputs": [],
   "source": [
    "# Excercise 8: Tampilkan data 'MPG' dari Seaborn\n",
    "# Lakukan grouping atau pengelompokan berdasarkan kolom 'origin'\n",
    "# Tampilkan rata-rata dari 'horsepower' di setiap kelompok origin\n",
    "\n",
    "mpg = sns.load_dataset(\"mpg\")\n",
    "\n",
    "group_by_origin = mpg.groupby('origin')['horsepower']\n",
    "\n",
    "group_by_origin.mean()\n",
    "\n",
    "df = pd.DataFrame(data=group_by_origin.mean().values, columns=['Rata-Rata Horsepower'])\n",
    "\n",
    "print(df)\n"
   ]
  },
  {
   "cell_type": "code",
   "execution_count": null,
   "metadata": {},
   "outputs": [],
   "source": [
    "# Excercise 9: Tampilkan data 'MPG' dari Seaborn\n",
    "# Buatlah sebuah kolom baru yang bernama 'horse_origin'\n",
    "# Kolom 'horse_origin' ini harus diisi menggunakan fungsi berisikan:\n",
    "# Jika nilai 'horsepower' <= 105, tampilkan 'lower' + 'nama origin' pada baris yang sama, Contohnya 'lower USA'\n",
    "# Jika nilai 'horsepower' >= 105, tampilkan 'upper' + 'nama origin'\n",
    "\n",
    "mpg = sns.load_dataset(\"mpg\")\n",
    "\n",
    "mpg.loc[:, 'horse_origin'] = np.where(mpg['horsepower'] >= 105, f'upper {mpg['origin'][0]}', f'lower {mpg['origin'][0]}')\n",
    "\n",
    "print(mpg['horse_origin'])\n",
    "\n",
    "mpg"
   ]
  },
  {
   "cell_type": "code",
   "execution_count": null,
   "metadata": {},
   "outputs": [
    {
     "name": "stdout",
     "output_type": "stream",
     "text": [
      "   origin         mean         std     max     min       sum  count\n",
      "0  europe  2423.300000  490.043191  3820.0  1825.0  169631.0   70.0\n",
      "1   japan  2221.227848  320.497248  2930.0  1613.0  175477.0   79.0\n",
      "2     usa  3361.931727  794.792506  5140.0  1800.0  837121.0  249.0\n"
     ]
    }
   ],
   "source": [
    "# Excercise 10: Tampilkan data 'MPG' dari Seaborn\n",
    "# Lakukan pengemlopokan atau grouping kolom 'weight' berdasarkan kolom 'origin' dengan aggregating mean, standard deviasi, sum, count, min dan max\n",
    "# Lakukan reset index sehingga kolom 'origin' tidak lagi menjadi index tapi tetap menjadi kolom!\n",
    "\n",
    "mpg = sns.load_dataset(\"mpg\")\n",
    "\n",
    "group_by_origin = mpg.groupby('origin')['weight']\n",
    "\n",
    "df = pd.DataFrame(\n",
    "    data= [\n",
    "        group_by_origin.mean(), \n",
    "        group_by_origin.std(),\n",
    "        group_by_origin.max(),\n",
    "        group_by_origin.min(),\n",
    "        group_by_origin.sum(),\n",
    "        group_by_origin.count()\n",
    "        ]\n",
    ")\n",
    "\n",
    "df_result = df.T.reset_index()\n",
    "\n",
    "df_result.columns = ['origin', 'mean', 'std', 'max', 'min', 'sum', 'count']\n",
    "\n",
    "print(df_result)"
   ]
  },
  {
   "cell_type": "code",
   "execution_count": null,
   "metadata": {},
   "outputs": [],
   "source": [
    "# Excercise Regex:\n",
    "\n",
    "with open('mbox-short.txt', 'r') as f:\n",
    "    text= f.read()\n",
    "\n",
    "print(text)\n",
    "\n",
    "hasil_pencarian = re.findall(pattern=r\"(\\d{1,3}.\\d{1,3}.\\d{1,3}.\\d{1,3})\", string=text)\n",
    "hasil_pencarian2 = re.findall(pattern=r\"\\w+@\\w+.\\w{1,3}\", string=text)\n",
    "print(hasil_pencarian)\n",
    "print(hasil_pencarian2)"
   ]
  }
 ],
 "metadata": {
  "kernelspec": {
   "display_name": "base",
   "language": "python",
   "name": "python3"
  },
  "language_info": {
   "codemirror_mode": {
    "name": "ipython",
    "version": 3
   },
   "file_extension": ".py",
   "mimetype": "text/x-python",
   "name": "python",
   "nbconvert_exporter": "python",
   "pygments_lexer": "ipython3",
   "version": "3.12.4"
  }
 },
 "nbformat": 4,
 "nbformat_minor": 2
}
