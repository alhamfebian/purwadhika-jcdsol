{
 "cells": [
  {
   "cell_type": "code",
   "execution_count": 1,
   "metadata": {},
   "outputs": [],
   "source": [
    "import numpy as np\n",
    "import pandas as pd"
   ]
  },
  {
   "cell_type": "code",
   "execution_count": 6,
   "metadata": {},
   "outputs": [
    {
     "name": "stdout",
     "output_type": "stream",
     "text": [
      "[0 1 2 3 4 5 6 7 8 9]\n",
      "[0 1 2 3 4 5 6 7 8 9]\n"
     ]
    }
   ],
   "source": [
    "# Cara bikin numpy array\n",
    "x = np.array(range(0,10))\n",
    "print(x)\n",
    "\n",
    "# Cara lain bikin numpy array\n",
    "y = np.arange(0,10)\n",
    "print(y)"
   ]
  },
  {
   "cell_type": "code",
   "execution_count": null,
   "metadata": {},
   "outputs": [
    {
     "name": "stdout",
     "output_type": "stream",
     "text": [
      "[0.53388482 0.17012844]\n",
      "[-1.12757353  0.9235783 ]\n",
      "4\n",
      "[1 3 2 3 2 1 4 1 4 1]\n",
      "(3,)\n",
      "(2, 3)\n",
      "9\n",
      "9\n",
      "0\n",
      "0\n",
      "[  0   1   2 100 100   5   6   7   8]\n",
      "[[28 63 60]\n",
      " [87 85 54]\n",
      " [ 9 77  4]]\n",
      "[60 54  4]\n"
     ]
    }
   ],
   "source": [
    "# Cara membuat matrix 2 x 2 yang isinya 0 semua\n",
    "np.zeros((3,3))\n",
    "\n",
    "# Cara membuat matrix 2 x 2 yang isinya 1 semua\n",
    "np.ones((3,3))\n",
    "\n",
    "# Cara membuat matrix 2 x 2 yang diagonalnya 1 semua\n",
    "np.eye(5)\n",
    "\n",
    "# Cara membuat \n",
    "np.linspace(0,8,4)\n",
    "\n",
    "# Cara membuat variable random\n",
    "print(np.random.rand(2))\n",
    "print(np.random.randn(2))\n",
    "\n",
    "# Cara membuat random variable yg isinya int\n",
    "print(np.random.randint(1,5))\n",
    "print(np.random.randint(1,5,10))\n",
    "\n",
    "# Cara melakukan reshape array\n",
    "# Shape 1D\n",
    "my_list = [1,2,3]\n",
    "array_1d = np.array(my_list)\n",
    "print(array_1d.shape)\n",
    "\n",
    "# Shape 2D\n",
    "my_list = [[1,2,3],[4,5,6]]\n",
    "array_2d = np.array(my_list)\n",
    "print(array_2d.shape)\n",
    "\n",
    "\n",
    "\n",
    "np_array = np.arange(0,10)\n",
    "\n",
    "# Mencari Value Max (paling tinggi) dalam array\n",
    "print(np_array.max())\n",
    "\n",
    "# Mencari Index Value dari Max\n",
    "print(np_array.argmax())\n",
    "\n",
    "# Mencari Value Min (paling rendah) dalam array\n",
    "print(np_array.min())\n",
    "\n",
    "# Mencari Index Value dari Min\n",
    "print(np_array.argmin())\n",
    "\n",
    "# Slicing array\n",
    "slice_of_arr = np.array(range(0,9))\n",
    "slice_of_arr[3:5] = 100\n",
    "print(slice_of_arr)\n",
    "\n",
    "# Cara Membuat Array 2 x 2 dengan Integer\n",
    "arr_2d = np.random.randint(0, 100, (3,3))\n",
    "print(arr_2d)\n",
    "\n",
    "# Cara Slicing Data\n",
    "print(arr_2d[:,2])\n",
    "\n",
    "\n"
   ]
  },
  {
   "cell_type": "code",
   "execution_count": null,
   "metadata": {},
   "outputs": [],
   "source": [
    "# Cara Fancy Indexing\n",
    "np_array = np.array()"
   ]
  },
  {
   "cell_type": "code",
   "execution_count": null,
   "metadata": {},
   "outputs": [
    {
     "data": {
      "text/plain": [
       "array([], shape=(0, 10), dtype=int64)"
      ]
     },
     "execution_count": 59,
     "metadata": {},
     "output_type": "execute_result"
    }
   ],
   "source": [
    "# Conditional Selection\n",
    "arr = np.arange(1,11)\n",
    "\n",
    "# Cara filter setiap item yang angkanya > 4, returnnya array of boolean\n",
    "arr > 4\n",
    "\n",
    "# Hasilnya di assign ke sebuah data\n",
    "bool_arr = arr > 4\n",
    "\n",
    "# Cara menampilkan valuenya yang sudah ter-filter\n",
    "arr[bool_arr]\n",
    "\n",
    "# Contoh, cari item2 yang genap\n",
    "arr[arr % 2 == 1]"
   ]
  },
  {
   "cell_type": "code",
   "execution_count": null,
   "metadata": {},
   "outputs": [
    {
     "name": "stdout",
     "output_type": "stream",
     "text": [
      "[[ 5 15 25]\n",
      " [15 25 35]]\n",
      "[ 2  3  4  5  6  7  8  9 10]\n",
      "[1.         1.41421356 1.73205081 2.         2.23606798 2.44948974\n",
      " 2.64575131 2.82842712 3.        ]\n"
     ]
    }
   ],
   "source": [
    "# Numpy Operation\n",
    "\n",
    "# Broadcasting -> hasilnya 1 matrix dengan jumlah banyak row terbanyak dari 2 variable yang ditambah (kolomnya harus sama)\n",
    "np_array = np.array([\n",
    "    [0,10,20],\n",
    "    [10,20,30]\n",
    "])\n",
    "\n",
    "np_array2 = np.array([\n",
    "    [5,5,5]\n",
    "])\n",
    "\n",
    "print(np_array + np_array2)\n",
    "\n",
    "# Numpy Arithmetic\n",
    "arr = np.array(range(1,10))\n",
    "\n",
    "# Nambahin semua value dengan angka 1\n",
    "print(arr + 1)\n",
    "\n",
    "# Menghitung akar dari setiap value\n",
    "print(np.sqrt(arr))"
   ]
  },
  {
   "cell_type": "code",
   "execution_count": 77,
   "metadata": {},
   "outputs": [
    {
     "data": {
      "text/plain": [
       "array([ 1,  2,  3,  4,  5,  6,  7,  8,  9, 11])"
      ]
     },
     "execution_count": 77,
     "metadata": {},
     "output_type": "execute_result"
    }
   ],
   "source": [
    "# Insert Data ke Numpy Array\n",
    "np_array = np.arange(1,10)\n",
    "np.insert(np_array, 5, 10)\n",
    "\n",
    "np.delete(np_array, 0)\n",
    "\n",
    "np.append(np_array, 11)"
   ]
  },
  {
   "cell_type": "code",
   "execution_count": null,
   "metadata": {},
   "outputs": [
    {
     "data": {
      "text/plain": [
       "array([[1, 2, 5],\n",
       "       [3, 4, 6]])"
      ]
     },
     "execution_count": 80,
     "metadata": {},
     "output_type": "execute_result"
    }
   ],
   "source": [
    "# Concatenate\n",
    "\n",
    "# Axis = 0, kalau mau nambah baris\n",
    "np_array = np.array([\n",
    "    [1,2],\n",
    "    [3,4]\n",
    "])\n",
    "\n",
    "np_array2 = np.array([\n",
    "    [5,6]\n",
    "])\n",
    "\n",
    "\n",
    "np.concatenate((np_array, np_array2), axis=0)\n",
    "\n",
    "# Axis = 1, kalau mau nambahin kolom\n",
    "np_array3 = np.array([\n",
    "    [1,2],\n",
    "    [3,4]\n",
    "])\n",
    "\n",
    "np_array4 = np.array([\n",
    "    [5],\n",
    "    [6]\n",
    "])\n",
    "\n",
    "np.concatenate((np_array3, np_array4), axis=1)"
   ]
  }
 ],
 "metadata": {
  "kernelspec": {
   "display_name": "base",
   "language": "python",
   "name": "python3"
  },
  "language_info": {
   "codemirror_mode": {
    "name": "ipython",
    "version": 3
   },
   "file_extension": ".py",
   "mimetype": "text/x-python",
   "name": "python",
   "nbconvert_exporter": "python",
   "pygments_lexer": "ipython3",
   "version": "3.12.4"
  }
 },
 "nbformat": 4,
 "nbformat_minor": 2
}
