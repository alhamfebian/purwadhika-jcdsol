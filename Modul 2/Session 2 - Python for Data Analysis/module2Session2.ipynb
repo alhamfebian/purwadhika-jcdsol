{
 "cells": [
  {
   "cell_type": "code",
   "execution_count": 1,
   "metadata": {},
   "outputs": [],
   "source": [
    "import numpy as np\n",
    "import pandas as pd"
   ]
  },
  {
   "cell_type": "code",
   "execution_count": 10,
   "metadata": {},
   "outputs": [
    {
     "name": "stdout",
     "output_type": "stream",
     "text": [
      "[1, 2, 3]\n",
      "[[1, 2, 3], [4, 5, 6], [7, 8, 9]]\n"
     ]
    },
    {
     "data": {
      "text/plain": [
       "array([[[ 1,  2,  3],\n",
       "        [ 4,  5,  6],\n",
       "        [ 7,  8,  9]],\n",
       "\n",
       "       [[10, 11, 12],\n",
       "        [13, 14, 15],\n",
       "        [16, 17, 18]],\n",
       "\n",
       "       [[19, 20, 21],\n",
       "        [22, 23, 24],\n",
       "        [25, 26, 27]]])"
      ]
     },
     "execution_count": 10,
     "metadata": {},
     "output_type": "execute_result"
    }
   ],
   "source": [
    "# Cara bikin numpy array dari python list\n",
    "\n",
    "# Array 1 Dimensi\n",
    "my_list = [1,2,3]\n",
    "print(my_list)\n",
    "\n",
    "numpy_array = np.array(my_list)\n",
    "numpy_array\n",
    "\n",
    "# Array 2 Dimensi\n",
    "my_matrix = [[1,2,3], [4,5,6], [7,8,9]]\n",
    "print(my_matrix)\n",
    "\n",
    "numpy_array_2d = np.array(my_matrix)\n",
    "numpy_array_2d\n",
    "\n",
    "# Array 3 Dimensi\n",
    "my_list_3d = [\n",
    "    [[1,2,3],[4,5,6],[7,8,9]],\n",
    "    [[10,11,12],[13,14,15],[16,17,18]],\n",
    "    [[19,20,21],[22,23,24],[25,26,27]]\n",
    "]\n",
    "my_list_3d\n",
    "\n",
    "numpy_array_3d = np.array(my_list_3d)\n",
    "numpy_array_3d"
   ]
  },
  {
   "cell_type": "code",
   "execution_count": 22,
   "metadata": {},
   "outputs": [
    {
     "name": "stdout",
     "output_type": "stream",
     "text": [
      "[0 1 2 3 4 5 6 7 8 9]\n",
      "[0 2 4 6 8]\n",
      "[0 1 2 3 4 5 6 7 8 9]\n",
      "[0 2 4 6 8]\n"
     ]
    }
   ],
   "source": [
    "# Cara bikin numpy array menggunakan range\n",
    "x = np.array(range(0,10))\n",
    "print(x)\n",
    "\n",
    "# Cara bikin numpy array menggunakan range yang dilongkap\n",
    "z = np.array(range(0,10,2))\n",
    "print(z)\n",
    "\n",
    "# Cara lain bikin numpy array tanpa dilongkap\n",
    "y = np.arange(0,10)\n",
    "print(y)\n",
    "\n",
    "# Cara lain bikin numpy array dengan dilongkap\n",
    "y = np.arange(0,10,2)\n",
    "print(y)"
   ]
  },
  {
   "cell_type": "code",
   "execution_count": 16,
   "metadata": {},
   "outputs": [
    {
     "data": {
      "text/plain": [
       "array([0., 0., 0.])"
      ]
     },
     "execution_count": 16,
     "metadata": {},
     "output_type": "execute_result"
    }
   ],
   "source": [
    "# Cara membuat array 1 dimensi yang isinya 0 semua\n",
    "np.zeros(3)"
   ]
  },
  {
   "cell_type": "code",
   "execution_count": 17,
   "metadata": {},
   "outputs": [
    {
     "data": {
      "text/plain": [
       "array([[0., 0., 0.],\n",
       "       [0., 0., 0.],\n",
       "       [0., 0., 0.]])"
      ]
     },
     "execution_count": 17,
     "metadata": {},
     "output_type": "execute_result"
    }
   ],
   "source": [
    "# Cara membuat array 2 dimensi yang isinya 0 semua\n",
    "np.zeros((3,3))"
   ]
  },
  {
   "cell_type": "code",
   "execution_count": 18,
   "metadata": {},
   "outputs": [
    {
     "data": {
      "text/plain": [
       "array([1., 1., 1.])"
      ]
     },
     "execution_count": 18,
     "metadata": {},
     "output_type": "execute_result"
    }
   ],
   "source": [
    "# Cara membuat array 1 dimensi yang isinya 1 semua\n",
    "np.ones(3)"
   ]
  },
  {
   "cell_type": "code",
   "execution_count": 19,
   "metadata": {},
   "outputs": [
    {
     "data": {
      "text/plain": [
       "array([[1., 1., 1.],\n",
       "       [1., 1., 1.],\n",
       "       [1., 1., 1.]])"
      ]
     },
     "execution_count": 19,
     "metadata": {},
     "output_type": "execute_result"
    }
   ],
   "source": [
    "# Cara membuat array 2 dimensi yang isinya 1 semua\n",
    "np.ones((3,3))"
   ]
  },
  {
   "cell_type": "code",
   "execution_count": 20,
   "metadata": {},
   "outputs": [
    {
     "data": {
      "text/plain": [
       "array([[1., 0., 0., 0., 0.],\n",
       "       [0., 1., 0., 0., 0.],\n",
       "       [0., 0., 1., 0., 0.],\n",
       "       [0., 0., 0., 1., 0.],\n",
       "       [0., 0., 0., 0., 1.]])"
      ]
     },
     "execution_count": 20,
     "metadata": {},
     "output_type": "execute_result"
    }
   ],
   "source": [
    "# Cara membuat 2 dimensi yang diagonalnya 1 semua\n",
    "np.eye(5)"
   ]
  },
  {
   "cell_type": "code",
   "execution_count": 30,
   "metadata": {},
   "outputs": [
    {
     "data": {
      "text/plain": [
       "array([ 0.        ,  0.20408163,  0.40816327,  0.6122449 ,  0.81632653,\n",
       "        1.02040816,  1.2244898 ,  1.42857143,  1.63265306,  1.83673469,\n",
       "        2.04081633,  2.24489796,  2.44897959,  2.65306122,  2.85714286,\n",
       "        3.06122449,  3.26530612,  3.46938776,  3.67346939,  3.87755102,\n",
       "        4.08163265,  4.28571429,  4.48979592,  4.69387755,  4.89795918,\n",
       "        5.10204082,  5.30612245,  5.51020408,  5.71428571,  5.91836735,\n",
       "        6.12244898,  6.32653061,  6.53061224,  6.73469388,  6.93877551,\n",
       "        7.14285714,  7.34693878,  7.55102041,  7.75510204,  7.95918367,\n",
       "        8.16326531,  8.36734694,  8.57142857,  8.7755102 ,  8.97959184,\n",
       "        9.18367347,  9.3877551 ,  9.59183673,  9.79591837, 10.        ])"
      ]
     },
     "execution_count": 30,
     "metadata": {},
     "output_type": "execute_result"
    }
   ],
   "source": [
    "# Cara membuat array yang memiliki interval sama\n",
    "# (0,8,4) -> Artinya ada array yang isinya 4 value dimulai dari 0 sampai 8 dan interval antar 4 value tersebut sama\n",
    "np.linspace(0,8,3)\n",
    "\n",
    "# Contoh dengan value lebih banyak\n",
    "np.linspace(0,10,50)"
   ]
  },
  {
   "cell_type": "code",
   "execution_count": null,
   "metadata": {},
   "outputs": [
    {
     "name": "stdout",
     "output_type": "stream",
     "text": [
      "[0.65582089 0.02454002]\n",
      "[[0.63557523 0.7409142  0.54325386 0.2149177  0.56539588]\n",
      " [0.80445153 0.50985635 0.46839073 0.40359112 0.22743932]\n",
      " [0.03944816 0.80903214 0.47483759 0.00599563 0.11780287]\n",
      " [0.90053455 0.02926436 0.46745525 0.32241555 0.00811668]\n",
      " [0.27629385 0.48290836 0.06420624 0.98252546 0.08570444]]\n"
     ]
    }
   ],
   "source": [
    "# Cara membuat array yang valuenya angka acak antara 0 - 1\n",
    "# Cara membuat array 1 dimensi yang valuenya acak\n",
    "print(np.random.rand(2))\n",
    "\n",
    "# Cara membuat array 2 dimensi yang valuenya acak\n",
    "print(np.random.rand(5,5))"
   ]
  },
  {
   "cell_type": "code",
   "execution_count": 35,
   "metadata": {},
   "outputs": [
    {
     "name": "stdout",
     "output_type": "stream",
     "text": [
      "[-0.93643736 -0.10504281]\n",
      "[[ 1.24633739 -0.36325246 -0.05816583  0.10597098 -0.58377836]\n",
      " [ 0.44322192 -0.21146789 -0.54262268 -1.92650719  0.40490439]\n",
      " [ 0.18692945 -1.26875103 -0.19719165  0.35912948  0.43887319]\n",
      " [-0.11242806 -0.367797    0.58385042  0.1798805   1.15754023]\n",
      " [-2.12353382 -0.21963614 -0.23956838  0.86075752  1.31121091]]\n"
     ]
    }
   ],
   "source": [
    "# Cara membuat array yang valuenya angka acak antara tapi terdistribusi normal (angka minus pun bisa)\n",
    "# Tidak hanya antara 0 - 1\n",
    "\n",
    "# Array 1 dimensi yang isinya random\n",
    "print(np.random.randn(2))\n",
    "\n",
    "# Array 2 dimensi yang isinya random\n",
    "print(np.random.randn(5,5))"
   ]
  },
  {
   "cell_type": "code",
   "execution_count": null,
   "metadata": {},
   "outputs": [
    {
     "name": "stdout",
     "output_type": "stream",
     "text": [
      "3\n",
      "[ 9 49 93 83 99 30 87 19 47 99]\n"
     ]
    }
   ],
   "source": [
    "# Cara membuat array yang valuenya angka acak tapi Integer (1,2,3,4,5,...) tidak ada angka minus\n",
    "# Berguna ketika melakukan riset menggunakan machine learning\n",
    "# Ada 2 cara, yang pertama np.random.randint(1,100) -> hanya menghasilkan 1 angka integer acara antara 1 - 100\n",
    "print(np.random.randint(1,100))\n",
    "\n",
    "# Yang kedua np.random.randint(1,100,10) -> menghasilkan 10 angka integer acak yang valuenya antara 1-100\n",
    "print(np.random.randint(1,100,10))"
   ]
  },
  {
   "cell_type": "code",
   "execution_count": null,
   "metadata": {},
   "outputs": [
    {
     "name": "stdout",
     "output_type": "stream",
     "text": [
      "[1, 2, 3]\n",
      "(3,)\n",
      "[[1, 2, 3]]\n",
      "(1, 3)\n",
      "[[[1, 2, 3], [4, 5, 6]], [[10, 11, 12], [13, 14, 15]], [[19, 20, 21], [22, 23, 24]]]\n",
      "(3, 2, 3)\n"
     ]
    }
   ],
   "source": [
    "# Numpy Array Shape -> untuk mengtahui berapa dimensi dari array yang kita punya\n",
    "\n",
    "# Array 1 Dimensi\n",
    "my_list = [1,2,3]\n",
    "print(my_list)\n",
    "\n",
    "numpy_array = np.array(my_list)\n",
    "numpy_array\n",
    "\n",
    "print(numpy_array.shape) # hasilnya adalah (3,) artinya numpy_array berbentuk 1 dimensi dan ada 3 value\n",
    "\n",
    "# Array 2 Dimensi\n",
    "my_matrix = [[1,2,3]]\n",
    "print(my_matrix)\n",
    "\n",
    "numpy_array_2d = np.array(my_matrix)\n",
    "numpy_array_2d\n",
    "\n",
    "print(numpy_array_2d.shape) # -> hasilnya adalah (1,3) artinya numpy_array_2d memiliki 2 dimensi dan hanya memilik 1 array yang setiap isi arraynya 3 value\n",
    "\n",
    "# Array 3 Dimensi\n",
    "my_list_3d = [\n",
    "    [[1,2,3],[4,5,6]],\n",
    "    [[10,11,12],[13,14,15]],\n",
    "    [[19,20,21],[22,23,24]]\n",
    "]\n",
    "print(my_list_3d)\n",
    "\n",
    "numpy_array_3d = np.array(my_list_3d)\n",
    "numpy_array_3d\n",
    "\n",
    "print(numpy_array_3d.shape) # -> hasilnya adalah (3,2,3) artinya numpy_array_3d memiliki 3 dimensi di setiap dimensinya ada 2 array yang setiap isi arraynya 3 value\n",
    "# atau cara bacanya array dimensi 1 punya 3 array, array dimensi 2 punya 2 array, array dimensi 3 punya 3 value"
   ]
  },
  {
   "cell_type": "code",
   "execution_count": null,
   "metadata": {},
   "outputs": [
    {
     "data": {
      "text/plain": [
       "array([[[ 0,  1,  2,  3,  4,  5],\n",
       "        [ 6,  7,  8,  9, 10, 11]],\n",
       "\n",
       "       [[12, 13, 14, 15, 16, 17],\n",
       "        [18, 19, 20, 21, 22, 23]],\n",
       "\n",
       "       [[24, 25, 26, 27, 28, 29],\n",
       "        [30, 31, 32, 33, 34, 35]]])"
      ]
     },
     "execution_count": 73,
     "metadata": {},
     "output_type": "execute_result"
    }
   ],
   "source": [
    "# Cara melakukan reshape array part 1\n",
    "temp_array = np.arange(0,36)\n",
    "temp_array.shape\n",
    "\n",
    "# temp_array.reshape(1,25) # -> convert array menjadi 2 dimensi yang hanya mempunyai 1 array yang isinya 25 value\n",
    "\n",
    "# temp_array.reshape(1,1,25) # -> convert array menjadi 3 dimensi yang hanya mempunyai 1 array yang isinya 25 value\n",
    "\n",
    "temp_array.reshape(3,2,6) # -> Reshape ini bisa dilakukan tergantung data yang kita punya\n",
    "# Contoh kita punya array 1 dimensi yang isinya 36 value, kita bisa melakukan reshape ke array 2 dimensi dan 3 dimensi\n",
    "# Dengan syarat angkanya terdistribusi rata\n",
    "# Kalau 2 dimensi, kita bisa reshape (1,36),(2,18),(3,12)... yang kalau di kali 2 angka tersebut menghasilkan 36"
   ]
  },
  {
   "cell_type": "code",
   "execution_count": null,
   "metadata": {},
   "outputs": [
    {
     "name": "stdout",
     "output_type": "stream",
     "text": [
      "[[[1, 2, 3], [4, 5, 6]], [[10, 11, 12], [13, 14, 15]], [[19, 20, 21], [22, 23, 24]]]\n"
     ]
    },
    {
     "data": {
      "text/plain": [
       "array([ 1,  2,  3,  4,  5,  6, 10, 11, 12, 13, 14, 15, 19, 20, 21, 22, 23,\n",
       "       24])"
      ]
     },
     "execution_count": 77,
     "metadata": {},
     "output_type": "execute_result"
    }
   ],
   "source": [
    "# Cara melakukan reshape array part 2\n",
    "# Array 3 Dimensi\n",
    "my_list_3d = [\n",
    "    [[1,2,3],[4,5,6]],\n",
    "    [[10,11,12],[13,14,15]],\n",
    "    [[19,20,21],[22,23,24]]\n",
    "]\n",
    "print(my_list_3d)\n",
    "\n",
    "numpy_array_3d = np.array(my_list_3d)\n",
    "numpy_array_3d.reshape(-1) # -> bikin array 3 dimensi menjadi hanya 1 dimensi saja"
   ]
  },
  {
   "cell_type": "code",
   "execution_count": null,
   "metadata": {},
   "outputs": [
    {
     "name": "stdout",
     "output_type": "stream",
     "text": [
      "[61 29  1 58 74 85 87 92 20 12 87 17  2 64 69 30 31 72 34 93]\n",
      "93\n"
     ]
    }
   ],
   "source": [
    "# Array Attributes: max() -> mencari angka paling tinggi di dalam array\n",
    "\n",
    "numpy_array = np.random.randint(1,100,20)\n",
    "\n",
    "print(numpy_array)\n",
    "\n",
    "print(numpy_array.max())"
   ]
  },
  {
   "cell_type": "code",
   "execution_count": null,
   "metadata": {},
   "outputs": [
    {
     "name": "stdout",
     "output_type": "stream",
     "text": [
      "[78 94 89 53  9 35  7 60 35 75 41 72 16 55 81 53 88 34 53 79]\n",
      "7\n"
     ]
    }
   ],
   "source": [
    "# Array Attributes: min() -> mencari angka paling kecil di dalam array\n",
    "\n",
    "numpy_array = np.random.randint(1,100,20)\n",
    "\n",
    "print(numpy_array)\n",
    "\n",
    "print(numpy_array.min())"
   ]
  },
  {
   "cell_type": "code",
   "execution_count": 83,
   "metadata": {},
   "outputs": [
    {
     "name": "stdout",
     "output_type": "stream",
     "text": [
      "[16 74  6 83 83  6 37 95 80 17 15 89 26 70 33 89 91 57 66 88]\n",
      "95\n",
      "7\n"
     ]
    }
   ],
   "source": [
    "# Array Attributes: argmax() -> mencari index angka paling tinggi di dalam array\n",
    "\n",
    "numpy_array = np.random.randint(1,100,20)\n",
    "\n",
    "print(numpy_array)\n",
    "\n",
    "print(numpy_array.max())\n",
    "\n",
    "print(numpy_array.argmax())"
   ]
  },
  {
   "cell_type": "code",
   "execution_count": 84,
   "metadata": {},
   "outputs": [
    {
     "name": "stdout",
     "output_type": "stream",
     "text": [
      "[37 77 66 38 60 51 24 17 11 40 14 72 90 84  7  2 53 97 18 29]\n",
      "2\n",
      "15\n"
     ]
    }
   ],
   "source": [
    "# Array Attributes: argmin() -> mencari index angka paling kecil di dalam array\n",
    "\n",
    "numpy_array = np.random.randint(1,100,20)\n",
    "\n",
    "print(numpy_array)\n",
    "\n",
    "print(numpy_array.min())\n",
    "\n",
    "print(numpy_array.argmin())"
   ]
  },
  {
   "cell_type": "code",
   "execution_count": 86,
   "metadata": {},
   "outputs": [
    {
     "name": "stdout",
     "output_type": "stream",
     "text": [
      "int64\n",
      "float64\n"
     ]
    }
   ],
   "source": [
    "# Cara mengetahui tipe array\n",
    "\n",
    "numpy_array = np.random.randint(1,100,20)\n",
    "\n",
    "print(numpy_array.dtype)\n",
    "\n",
    "numpy_array_linspace = np.linspace(0,8,3)\n",
    "\n",
    "print(numpy_array_linspace.dtype)"
   ]
  },
  {
   "cell_type": "code",
   "execution_count": null,
   "metadata": {},
   "outputs": [
    {
     "name": "stdout",
     "output_type": "stream",
     "text": [
      "[0 1 2 3 4 5 6 7 8 9]\n",
      "5\n"
     ]
    }
   ],
   "source": [
    "# Cara mengakses value di array dengan index\n",
    "numpy_array = np.arange(0,10)\n",
    "\n",
    "print(numpy_array)\n",
    "\n",
    "print(numpy_array[5])"
   ]
  },
  {
   "cell_type": "code",
   "execution_count": null,
   "metadata": {},
   "outputs": [
    {
     "name": "stdout",
     "output_type": "stream",
     "text": [
      "[0 1 2 3 4 5 6 7 8 9]\n",
      "[0 1 2 3 4]\n",
      "[0 2 4]\n"
     ]
    }
   ],
   "source": [
    "# Cara mengakses value di array dengan slicing\n",
    "numpy_array = np.arange(0,10)\n",
    "\n",
    "print(numpy_array)\n",
    "\n",
    "print(numpy_array[0:5]) # -> mengambil value array dari index 0 - 4\n",
    "\n",
    "print(numpy_array[0:5:2]) # -> mengambil value array dari index 0 - 4 tapi dilongkap 2"
   ]
  },
  {
   "cell_type": "code",
   "execution_count": null,
   "metadata": {},
   "outputs": [
    {
     "name": "stdout",
     "output_type": "stream",
     "text": [
      "[  0   1   2 100 100   5   6   7   8]\n"
     ]
    }
   ],
   "source": [
    "# Mengganti beberapa value di array menggunakan slicing array\n",
    "slice_of_arr = np.array(range(0,9))\n",
    "slice_of_arr[3:5] = 100 # -> index ke 3 dan 4, valuenya diganti menjadi 100\n",
    "print(slice_of_arr) "
   ]
  },
  {
   "cell_type": "code",
   "execution_count": 97,
   "metadata": {},
   "outputs": [
    {
     "name": "stdout",
     "output_type": "stream",
     "text": [
      "[99 99 99 99 99 99]\n",
      "[99 99 99 99 99 99  6  7  8  9]\n"
     ]
    }
   ],
   "source": [
    "# Catatan penting bagaimana slicing di numpy bekerja\n",
    "\n",
    "arr = np.arange(0,10)\n",
    "slice_of_arr = arr[0:6]\n",
    "\n",
    "slice_of_arr[:] = 99\n",
    "\n",
    "print(slice_of_arr)\n",
    "print(arr) # -> arr ikut berubah, karena arr dan slice_of_arr menuju ke reference yang sama\n",
    "\n",
    "# Supaya arr tidak berubah, datanya harus di copy: slice_of_arr = arr.copy"
   ]
  },
  {
   "cell_type": "code",
   "execution_count": null,
   "metadata": {},
   "outputs": [
    {
     "name": "stdout",
     "output_type": "stream",
     "text": [
      "[20 25 30]\n",
      "10\n",
      "10\n"
     ]
    }
   ],
   "source": [
    "# Cara slicing di array 2 dimensi part 1\n",
    "array_2d = np.array((\n",
    "    [5,10,15],\n",
    "    [20,25,30],\n",
    "    [35,40,45]\n",
    "))\n",
    "\n",
    "print(array_2d[1]) # -> ngambil array baris ke 2\n",
    "print(array_2d[0][1]) # -> ngambil value dari array baris ke 1 dan value ke 2\n",
    "print(array_2d[0,1]) # -> ngambil value dari array baris ke 1 dan value ke 2"
   ]
  },
  {
   "cell_type": "code",
   "execution_count": null,
   "metadata": {},
   "outputs": [
    {
     "name": "stdout",
     "output_type": "stream",
     "text": [
      "[[10 15]\n",
      " [25 30]]\n",
      "[15 30 45]\n",
      "[[ 5]\n",
      " [20]\n",
      " [35]]\n"
     ]
    }
   ],
   "source": [
    "# Cara slicing di array 2 dimensi part 2\n",
    "array_2d = np.array((\n",
    "    [5,10,15],\n",
    "    [20,25,30],\n",
    "    [35,40,45]\n",
    "))\n",
    "\n",
    "print(array_2d[:2,1:]) # -> mengambil value dari baris 0 dan 1, terus mengambil value dari index 1 sampai habis dari baris 0 dan 1\n",
    "print(array_2d[:,2]) # -> jadinya array 1 dimensi yang isinya value index ke 2 dari setiap baris\n",
    "print(array_2d[0:,:1]) # -> jadinya array 2 dimensi yang isinya value index ke 0 dari setiap baris"
   ]
  },
  {
   "cell_type": "code",
   "execution_count": null,
   "metadata": {},
   "outputs": [
    {
     "name": "stdout",
     "output_type": "stream",
     "text": [
      "[[91 95 42]\n",
      " [ 5 99 37]\n",
      " [15 72 31]]\n"
     ]
    }
   ],
   "source": [
    "# Cara Membuat Array 2 x 2 dengan Integer\n",
    "arr_2d = np.random.randint(0, 100, (3,3))\n",
    "print(arr_2d)"
   ]
  },
  {
   "cell_type": "code",
   "execution_count": 117,
   "metadata": {},
   "outputs": [
    {
     "name": "stdout",
     "output_type": "stream",
     "text": [
      "[2 5 9]\n"
     ]
    }
   ],
   "source": [
    "# Cara melakukan Fancy Indexing -> mengambil value dari index yang acak (tidak berurutan)\n",
    "np_array = np.arange(0,10)\n",
    "\n",
    "print(np_array[[2,5,9]])"
   ]
  },
  {
   "cell_type": "code",
   "execution_count": null,
   "metadata": {},
   "outputs": [
    {
     "name": "stdout",
     "output_type": "stream",
     "text": [
      "[[ 5 10 15]\n",
      " [35 40 45]]\n",
      "[[ 5 15]\n",
      " [20 30]\n",
      " [35 45]]\n"
     ]
    }
   ],
   "source": [
    "# Cara melakukan Fancy Indexing untuk array 2 dimensi \n",
    "\n",
    "array_2d = np.array((\n",
    "    [5,10,15],\n",
    "    [20,25,30],\n",
    "    [35,40,45]\n",
    "))\n",
    "\n",
    "print(array_2d[[0,2]]) # -> hanya mengambil array baris ke-1 dan ke-3\n",
    "\n",
    "print(array_2d[0:,[0,2]]) # -> mengambil value kolomnya acak (kolom 0 dan 2)"
   ]
  },
  {
   "cell_type": "code",
   "execution_count": 125,
   "metadata": {},
   "outputs": [
    {
     "name": "stdout",
     "output_type": "stream",
     "text": [
      "[ 1  2  3  4  5  6  7  8  9 10]\n",
      "[False False False False  True  True  True  True  True  True]\n",
      "[ 5  6  7  8  9 10]\n",
      "[ 5  6  7  8  9 10]\n",
      "[1 3 5 7 9]\n"
     ]
    }
   ],
   "source": [
    "# Conditional Selection\n",
    "arr = np.arange(1,11)\n",
    "\n",
    "print(arr)\n",
    "\n",
    "# Cara filter setiap item yang angkanya > 4, returnnya array of boolean\n",
    "print(arr > 4)\n",
    "\n",
    "# Hasilnya di assign ke sebuah data\n",
    "bool_arr = arr > 4\n",
    "\n",
    "# Cara menampilkan valuenya yang sudah ter-filter\n",
    "print(arr[bool_arr])\n",
    "\n",
    "# Bisa juga menampilkan valuenya yang sudah ter-filter dengan cara seperti ini\n",
    "print(arr[arr > 4])\n",
    "\n",
    "# Contoh, cari item2 yang ganjil\n",
    "print(arr[arr % 2 == 1])\n"
   ]
  },
  {
   "cell_type": "code",
   "execution_count": 179,
   "metadata": {},
   "outputs": [
    {
     "name": "stdout",
     "output_type": "stream",
     "text": [
      "[2 3 4 5]\n"
     ]
    }
   ],
   "source": [
    "# Numpy Operation\n",
    "\n",
    "# Broadcasting -> cara numpy menggabungkan 2 array denga operasi aritmatika\n",
    "# Contoh Broadcasting dengan array 1 dimensi\n",
    "array1_1d = np.array([1,2,3,4])\n",
    "array2_1d = np.array([1])\n",
    "\n",
    "array_result = array1_1d + array2_1d\n",
    "\n",
    "print(array_result) # -> hasilnya adalah array dengan panjang 4 dan semua elemen array1_1d ditambah dengan value di array2_1d\n",
    "# karena array1_1d lebih panjang daripada array2_1d\n",
    "\n",
    "# Syarat Broadcasting pada array 1 dimensi adalah: salah satu array hanya boleh punya 1 value\n"
   ]
  },
  {
   "cell_type": "code",
   "execution_count": 140,
   "metadata": {},
   "outputs": [
    {
     "name": "stdout",
     "output_type": "stream",
     "text": [
      "[[ 6 12 18]\n",
      " [21 27 33]\n",
      " [36 42 48]]\n"
     ]
    }
   ],
   "source": [
    "# Broadcasting -> cara numpy menggabungkan 2 array denga operasi aritmatika\n",
    "# Contoh Broadcasting dengan array 2 dimensi\n",
    "\n",
    "array1_2d = np.array((\n",
    "    [5,10,15],\n",
    "    [20,25,30],\n",
    "    [35,40,45]\n",
    "))\n",
    "\n",
    "array2_2d = np.array((\n",
    "    [1,2,3]\n",
    "))\n",
    "\n",
    "array_result = array1_2d + array2_2d\n",
    "\n",
    "print(array_result)\n",
    "\n",
    "# Syarat Broadcasting pada array 2 dimensi adalah: jumlah kolom harus sama dan salah satu array hanya boleh punya ukuran 1 ukuran seperti contoh dia atas"
   ]
  },
  {
   "cell_type": "code",
   "execution_count": null,
   "metadata": {},
   "outputs": [
    {
     "name": "stdout",
     "output_type": "stream",
     "text": [
      "[2 3 4 5 6]\n",
      "[1.         0.5        0.33333333 0.25       0.2       ]\n",
      "[ 1  4  9 16 25]\n"
     ]
    }
   ],
   "source": [
    "# Operasi aritmatika pada array 1 dimensi\n",
    "\n",
    "array_1d = np.array([1,2,3,4,5])\n",
    "\n",
    "# Operasi Aritmatika Pertambahan \n",
    "array_result = array_1d + 1\n",
    "\n",
    "print(array_result) # -> setiap elemen ditambah 1\n",
    "\n",
    "# Operasi Aritmatika Pembagian\n",
    "print(1/array_1d) # -> 1 dibagi setiap value array_1d\n",
    "\n",
    "# Mengkalikan value disetiap array dengan valuenya sendiri\n",
    "print(array_1d * array_1d) # -> karena jumlah valuenya sama, maka setiap elemen di dalam array pertama akan dikalikan dengan elemen di posisi yang sama pada\n",
    "# array kedua. Hasilnya adalah array yang berisikan nilai kuadrat dari arr"
   ]
  },
  {
   "cell_type": "code",
   "execution_count": 148,
   "metadata": {},
   "outputs": [
    {
     "name": "stdout",
     "output_type": "stream",
     "text": [
      "[[  25  100  225]\n",
      " [ 400  625  900]\n",
      " [1225 1600 2025]]\n",
      "[[  5  20  45]\n",
      " [ 20  50  90]\n",
      " [ 35  80 135]]\n",
      "[[1. 1. 1.]\n",
      " [1. 1. 1.]\n",
      " [1. 1. 1.]]\n"
     ]
    }
   ],
   "source": [
    "# Operasi aritmatika pada array 2 dimensi\n",
    "array_2d = np.array((\n",
    "    [5,10,15],\n",
    "    [20,25,30],\n",
    "    [35,40,45]\n",
    "))\n",
    "\n",
    "array2_2d = np.array((\n",
    "    [1,2,3]\n",
    "))\n",
    "\n",
    "print(array_2d ** 2) # -> setiap value di array_2d dipangkatkan 2\n",
    "\n",
    "print(array_2d * array2_2d)\n",
    "\n",
    "print(array_2d/array_2d)"
   ]
  },
  {
   "cell_type": "code",
   "execution_count": null,
   "metadata": {},
   "outputs": [
    {
     "name": "stdout",
     "output_type": "stream",
     "text": [
      "[5.45981500e+01 8.10308393e+03 8.88611052e+06]\n",
      "[ 4.  9. 16.]\n"
     ]
    }
   ],
   "source": [
    "# Mathematical Array Functions\n",
    "array_1d = np.array([4,9,16])\n",
    "\n",
    "array_exp = np.exp(array_1d)\n",
    "\n",
    "print(array_exp)\n",
    "print(np.sqrt(array_1d)) # -> melakukan operasi akar disetiap elemen\n",
    "print(np.sin(array_1d)) # -> melakukan operasi sin disetiap elemen\n",
    "print(np.log(array_exp)) # -> melakukan operasi log disetiap elemen, kalau melakukan operasi log pada array exponential, maka hasilnya akan seperti value semula"
   ]
  },
  {
   "cell_type": "code",
   "execution_count": 164,
   "metadata": {},
   "outputs": [
    {
     "name": "stdout",
     "output_type": "stream",
     "text": [
      "[1 2 3 4]\n",
      "[ 1 10  2  3  4]\n",
      "[2 3 4]\n",
      "[ 1  2  3  4 11]\n"
     ]
    }
   ],
   "source": [
    "# Insert Data ke Numpy Array\n",
    "np_array = np.arange(1,5)\n",
    "\n",
    "print(np_array)\n",
    "\n",
    "print(np.insert(np_array, 1, 10)) # -> insert value 10 di index ke-1\n",
    "\n",
    "print(np.delete(np_array, 0)) # -> delete value index ke-0 dari np_array\n",
    "\n",
    "print(np.append(np_array, 11)) # -> menambah value 11 dipaling akhir"
   ]
  },
  {
   "cell_type": "code",
   "execution_count": null,
   "metadata": {},
   "outputs": [
    {
     "name": "stdout",
     "output_type": "stream",
     "text": [
      "[[1 2]\n",
      " [3 4]\n",
      " [5 6]]\n",
      "[[1 2 5]\n",
      " [3 4 6]]\n",
      "[1 2 3 4 5 6]\n",
      "[ 6  8  8 10]\n"
     ]
    }
   ],
   "source": [
    "# Concatenate array 2 dimensi -> menggabungkan 2 array tergantung axisnya\n",
    "\n",
    "np_array = np.array([\n",
    "    [1,2],\n",
    "    [3,4]\n",
    "])\n",
    "\n",
    "np_array2 = np.array([\n",
    "    [5,6]\n",
    "])\n",
    "\n",
    "# Axis = 0, kalau mau menggabungkan 2 array menjadi baris\n",
    "# Syaratnya: Jumlah valuenya harus sama -> np_array punya 2 baris dan np_array2 punya 1 baris, tapi jumlah valuenya sama\n",
    "print(np.concatenate((np_array, np_array2), axis=0))\n",
    "\n",
    "np_array3 = np.array([\n",
    "    [1,2],\n",
    "    [3,4]\n",
    "])\n",
    "\n",
    "np_array4 = np.array([\n",
    "    [5],\n",
    "    [6]\n",
    "])\n",
    "\n",
    "# Axis = 1, kalau mau menggabungkan 2 array menjadi baris\n",
    "# Syaratnya: Jumlah baris didalam array sama -> np_array3 dan np_array4 punya 2 baris walaupun np_array4 cuma punya 1 value disetiap barisnya\n",
    "print(np.concatenate((np_array3, np_array4), axis=1))\n",
    "\n",
    "# Axis = None, menggabungkan 2 array 2 dimensi menjadi 1 dimensi\n",
    "print(np.concatenate((np_array, np_array2), axis=None))"
   ]
  },
  {
   "cell_type": "code",
   "execution_count": null,
   "metadata": {},
   "outputs": [
    {
     "name": "stdout",
     "output_type": "stream",
     "text": [
      "['Good' 'Good' 'Good' 'Good' 'Good' 'Bad' 'Bad' 'Bad' 'Bad' 'Bad']\n"
     ]
    }
   ],
   "source": [
    "# Where function pada array 1 dimensi -> seperti gabungan dari fungsi if-else dan looping\n",
    "\n",
    "numpy_array = np.arange(0,10)\n",
    "\n",
    "# Penjelasan detil dari np.where(numpy_array < 5, 'Good', numpy_array) \n",
    "# numpy_array < 5: ngecek semua value di numpy_array yang < 5\n",
    "# 'Good': Jika ada value dari numpy_array yang < 5, maka valuenya akan diganti oleh 'Good'\n",
    "# 'Bad': kalau ada value yang tidak memenuhi kondisi numpy_array < 5, maka valuenya akan diganti oleh 'Bad'\n",
    "print(np.where(numpy_array < 5, 'Good', 'Bad')) # -> ngecek"
   ]
  },
  {
   "cell_type": "code",
   "execution_count": 185,
   "metadata": {},
   "outputs": [
    {
     "name": "stdout",
     "output_type": "stream",
     "text": [
      "[['Bad' 'Bad' 'Bad']\n",
      " ['Bad' 'Good' 'Good']\n",
      " ['Good' 'Good' 'Good']]\n"
     ]
    }
   ],
   "source": [
    "# Where function pada array 2 dimensi -> seperti gabungan dari fungsi if-else dan looping\n",
    "\n",
    "array_2d = np.array((\n",
    "    [5,10,15],\n",
    "    [20,25,30],\n",
    "    [35,40,45]\n",
    "))\n",
    "\n",
    "print(np.where(array_2d > 20, 'Good', 'Bad'))"
   ]
  },
  {
   "cell_type": "code",
   "execution_count": null,
   "metadata": {},
   "outputs": [
    {
     "name": "stdout",
     "output_type": "stream",
     "text": [
      "[[['Bad' 'Bad' 'Bad']\n",
      "  ['Bad' 'Bad' 'Bad']\n",
      "  ['Bad' 'Bad' 'Bad']]\n",
      "\n",
      " [['Bad' 'Good' 'Good']\n",
      "  ['Good' 'Good' 'Good']\n",
      "  ['Good' 'Good' 'Good']]\n",
      "\n",
      " [['Good' 'Good' 'Good']\n",
      "  ['Good' 'Good' 'Good']\n",
      "  ['Good' 'Good' 'Good']]]\n"
     ]
    }
   ],
   "source": [
    "# Where function pada array 3 dimensi -> seperti gabungan dari fungsi if-else dan looping\n",
    "\n",
    "my_list_3d = [\n",
    "    [[1,2,3],[4,5,6],[7,8,9]],\n",
    "    [[10,11,12],[13,14,15],[16,17,18]],\n",
    "    [[19,20,21],[22,23,24],[25,26,27]]\n",
    "]\n",
    "my_list_3d\n",
    "\n",
    "numpy_array_3d = np.array(my_list_3d)\n",
    "\n",
    "print(np.where(numpy_array_3d > 10, 'Good', 'Bad'))"
   ]
  }
 ],
 "metadata": {
  "kernelspec": {
   "display_name": "base",
   "language": "python",
   "name": "python3"
  },
  "language_info": {
   "codemirror_mode": {
    "name": "ipython",
    "version": 3
   },
   "file_extension": ".py",
   "mimetype": "text/x-python",
   "name": "python",
   "nbconvert_exporter": "python",
   "pygments_lexer": "ipython3",
   "version": "3.12.4"
  }
 },
 "nbformat": 4,
 "nbformat_minor": 2
}
