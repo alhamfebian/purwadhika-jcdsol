{
 "cells": [
  {
   "cell_type": "code",
   "execution_count": null,
   "metadata": {},
   "outputs": [],
   "source": [
    "import numpy as np\n",
    "import pandas as pd\n",
    "import seaborn as sns\n",
    "import matplotlib.pyplot as plt"
   ]
  },
  {
   "cell_type": "code",
   "execution_count": null,
   "metadata": {},
   "outputs": [],
   "source": [
    "df_transjakarta = pd.read_csv(\n",
    "    filepath_or_buffer='Transjakarta.csv'\n",
    ")\n",
    "\n",
    "df_transjakarta"
   ]
  },
  {
   "cell_type": "code",
   "execution_count": null,
   "metadata": {},
   "outputs": [],
   "source": [
    "# Cara menghitung central tendency\n",
    "\n",
    "mean_data = df_transjakarta['payCardBirthDate'].mean()\n",
    "\n",
    "median_data = df_transjakarta['payCardBirthDate'].median()\n",
    "\n",
    "mode_data = df_transjakarta['payCardBirthDate'].mode()\n",
    "\n",
    "print(mean_data, median_data, mode_data)"
   ]
  },
  {
   "cell_type": "code",
   "execution_count": null,
   "metadata": {},
   "outputs": [],
   "source": [
    "# Cara gambar grafik pake python\n",
    "\n",
    "grafik_data = sns.histplot(data=df_transjakarta['payCardBirthDate'], kde=True)\n",
    "plt.show(grafik_data)"
   ]
  },
  {
   "cell_type": "code",
   "execution_count": null,
   "metadata": {},
   "outputs": [],
   "source": [
    "# Cara load data dari seaborn\n",
    "\n",
    "tips_data = sns.load_dataset(name='tips')\n",
    "tips_data.head()"
   ]
  },
  {
   "cell_type": "code",
   "execution_count": null,
   "metadata": {},
   "outputs": [],
   "source": [
    "# Describe semua kolom\n",
    "\n",
    "tips_data.describe(include='all')"
   ]
  },
  {
   "cell_type": "code",
   "execution_count": null,
   "metadata": {},
   "outputs": [],
   "source": [
    "# Jumlah_data dibawah mean\n",
    "\n",
    "print(len(tips_data[tips_data['total_bill'] < tips_data['total_bill'].mean()]['total_bill']))"
   ]
  },
  {
   "cell_type": "code",
   "execution_count": null,
   "metadata": {},
   "outputs": [],
   "source": [
    "# Jumlah_data diatas mean\n",
    "\n",
    "print(len(tips_data[tips_data['total_bill'] > tips_data['total_bill'].mean()]['total_bill']))"
   ]
  },
  {
   "cell_type": "code",
   "execution_count": null,
   "metadata": {},
   "outputs": [],
   "source": [
    "tips_data['total_bill'].value_counts()"
   ]
  },
  {
   "cell_type": "code",
   "execution_count": null,
   "metadata": {},
   "outputs": [],
   "source": [
    "tips_histogram = sns.histplot(data=tips_data['total_bill'], kde=True)\n",
    "plt.show(tips_histogram)"
   ]
  },
  {
   "cell_type": "code",
   "execution_count": null,
   "metadata": {},
   "outputs": [],
   "source": [
    "tips_boxplot = sns.boxplot(data=tips_data['total_bill'], orient='y')\n",
    "plt.show(tips_boxplot)"
   ]
  },
  {
   "cell_type": "code",
   "execution_count": null,
   "metadata": {},
   "outputs": [],
   "source": [
    "print(tips_data.groupby(by=['day', 'sex'],observed=True).aggregate('count'))"
   ]
  },
  {
   "cell_type": "code",
   "execution_count": null,
   "metadata": {},
   "outputs": [],
   "source": [
    "# Menghitung min/max secara statistic\n",
    "# Berguna untuk melihat outlier\n",
    "\n",
    "q1_data = tips_data['total_bill'].quantile(q=0.25)\n",
    "print(q1_data)\n",
    "q3_data = tips_data['total_bill'].quantile(q=0.75)\n",
    "\n",
    "interquartile_range = q3_data-q1_data\n",
    "\n",
    "min_data = q1_data-(1.5*interquartile_range)\n",
    "max_data = q3_data+(1.5*interquartile_range)\n",
    "print(f\"min={min_data} max={max_data}\")"
   ]
  },
  {
   "cell_type": "code",
   "execution_count": null,
   "metadata": {},
   "outputs": [],
   "source": [
    "# Melihat data-data yang outlier\n",
    "\n",
    "print(tips_data[tips_data['total_bill'] > max_data]['total_bill'].sort_values())\n",
    "\n",
    "# Mengetahui jumlah data yang outlier\n",
    "print(tips_data[tips_data['total_bill'] > max_data]['total_bill'].sort_values().count())\n",
    "\n",
    "print(tips_data[tips_data['total_bill'] < min_data]['total_bill'].sort_values().count())"
   ]
  },
  {
   "cell_type": "code",
   "execution_count": null,
   "metadata": {},
   "outputs": [],
   "source": [
    "# Bersihin data dari outlier\n",
    "\n",
    "data_total_bill_clean = tips_data[tips_data['total_bill'] < max_data]['total_bill']\n",
    "\n",
    "data_total_bill_clean.sort_values()"
   ]
  },
  {
   "cell_type": "code",
   "execution_count": null,
   "metadata": {},
   "outputs": [],
   "source": [
    "# Menampilkan data melalui histogram\n",
    "\n",
    "data_total_bill_clean_histogram = sns.histplot(data=data_total_bill_clean)\n",
    "plt.show(data_total_bill_clean_histogram)"
   ]
  },
  {
   "cell_type": "code",
   "execution_count": null,
   "metadata": {},
   "outputs": [],
   "source": [
    "# Menampilkan data melalui boxplot\n",
    "\n",
    "data_total_bill_clean_boxplot = sns.boxplot(data=data_total_bill_clean, orient='y')\n",
    "plt.show(data_total_bill_clean_boxplot)"
   ]
  },
  {
   "cell_type": "code",
   "execution_count": null,
   "metadata": {},
   "outputs": [],
   "source": [
    "data_total_bill_clean.describe()"
   ]
  },
  {
   "cell_type": "code",
   "execution_count": null,
   "metadata": {},
   "outputs": [],
   "source": [
    "# Menghitung outlier\n",
    "\n",
    "q1_data_clean = data_total_bill_clean.quantile(q=0.25)\n",
    "q3_data_clean = data_total_bill_clean.quantile(q=0.75)\n",
    "\n",
    "interquartile_range_clean = q3_data_clean-q1_data_clean\n",
    "\n",
    "min_data_clean = q1_data_clean-(1.5*interquartile_range_clean)\n",
    "max_data_clean = q3_data_clean+(1.5*interquartile_range_clean)\n",
    "print(f\"min={min_data_clean} max={max_data_clean}\")"
   ]
  },
  {
   "cell_type": "code",
   "execution_count": null,
   "metadata": {},
   "outputs": [],
   "source": [
    "# Cleansing data lebih bersih\n",
    "\n",
    "data_total_bill_clean_banget = data_total_bill_clean[data_total_bill_clean < max_data_clean]\n",
    "\n",
    "data_total_bill_clean_banget.sort_values()"
   ]
  },
  {
   "cell_type": "code",
   "execution_count": null,
   "metadata": {},
   "outputs": [],
   "source": [
    "# Menampilkan data dalam bloxplot\n",
    "\n",
    "data_total_bill_clean_banget_histogram = sns.boxplot(data=data_total_bill_clean_banget, orient='y')\n",
    "plt.show(data_total_bill_clean_banget_histogram)"
   ]
  },
  {
   "cell_type": "code",
   "execution_count": null,
   "metadata": {},
   "outputs": [],
   "source": [
    "data_total_bill_clean_banget.describe()"
   ]
  },
  {
   "cell_type": "code",
   "execution_count": null,
   "metadata": {},
   "outputs": [],
   "source": [
    "# Melihat apakah data yang kita miliki terdistribusi normal atau tidak\n",
    "\n",
    "from scipy.stats import kstest\n",
    "\n",
    "kstest(tips_data['total_bill'] , 'norm')"
   ]
  },
  {
   "cell_type": "code",
   "execution_count": null,
   "metadata": {},
   "outputs": [],
   "source": [
    "from scipy.stats import kstest\n",
    "\n",
    "kstest(data_total_bill_clean , 'norm')"
   ]
  },
  {
   "cell_type": "code",
   "execution_count": null,
   "metadata": {},
   "outputs": [],
   "source": [
    "# Membuat summary dalam bentuk table\n",
    "\n",
    "tips_data.groupby(by='day', observed=True).aggregate('count')"
   ]
  },
  {
   "cell_type": "code",
   "execution_count": null,
   "metadata": {},
   "outputs": [],
   "source": [
    "tips_data.groupby(by=[pd.cut(tips_data['tip'], bins=[0, 2.5, 4, 5.5, 7])], observed=True).aggregate('count')"
   ]
  },
  {
   "cell_type": "code",
   "execution_count": null,
   "metadata": {},
   "outputs": [],
   "source": [
    "pd.crosstab(index=[tips_data['day'], tips_data['sex']], columns=['total_bill'], values='total_bill', aggfunc='count', normalize='columns')"
   ]
  },
  {
   "cell_type": "code",
   "execution_count": null,
   "metadata": {},
   "outputs": [],
   "source": [
    "scatterplot_data = sns.scatterplot(data=tips_data, x='total_bill', y='tip', hue='tip',style='day')\n",
    "plt.show(scatterplot_data)"
   ]
  },
  {
   "cell_type": "code",
   "execution_count": null,
   "metadata": {},
   "outputs": [],
   "source": [
    "# Belajar Hypothesis Testing untuk single population mean\n",
    "\n",
    "tips_data.describe()"
   ]
  },
  {
   "cell_type": "code",
   "execution_count": null,
   "metadata": {},
   "outputs": [
    {
     "name": "stdout",
     "output_type": "stream",
     "text": [
      "-3.884866483201325 0.00013206278606622297\n"
     ]
    }
   ],
   "source": [
    "from scipy import stats\n",
    "\n",
    "statistic, pvalue= stats.ttest_1samp(\n",
    "    a = tips_data['total_bill'],\n",
    "    popmean = 22,\n",
    "    alternative = 'two-sided'\n",
    ")\n",
    "\n",
    "print(statistic, pvalue)"
   ]
  },
  {
   "cell_type": "code",
   "execution_count": null,
   "metadata": {},
   "outputs": [
    {
     "data": {
      "text/plain": [
       "TtestResult(statistic=2.3733978410287073, pvalue=0.00928669742746085, df=199.8482620471115)"
      ]
     },
     "execution_count": 91,
     "metadata": {},
     "output_type": "execute_result"
    }
   ],
   "source": [
    "# Belajar Hypothesis Testing untuk independent multiple population mean\n",
    "# H0 adalah sebuah analisan yang ingin kita buktikan\n",
    "# Sebagai contoh, H0nya adalah: Rata-rata total_bill laki-laki > total_bill wanita\n",
    "\n",
    "\n",
    "data_laki_laki = tips_data[tips_data['sex'] == 'Male']\n",
    "data_perempuan = tips_data[tips_data['sex'] == 'Female']\n",
    "\n",
    "\n",
    "stats.ttest_ind(\n",
    "\n",
    "    a = data_laki_laki['total_bill'],\n",
    "    b = data_perempuan['total_bill'],\n",
    "    equal_var = False,\n",
    "    alternative = 'greater' # untuk melihat a > b, atau total bill laki2 > total bill perempuan\n",
    ")\n",
    "\n",
    "# Yang kita lihat cukup p-valuenya saja, kalau p-value < 0.05 artinya H0 ditolak\n",
    "# Kalau p-valuenya > 0.05 artinya H0 diterima"
   ]
  },
  {
   "cell_type": "code",
   "execution_count": 92,
   "metadata": {},
   "outputs": [
    {
     "data": {
      "text/plain": [
       "TtestResult(statistic=2.3733978410287073, pvalue=0.0185733948549217, df=199.8482620471115)"
      ]
     },
     "execution_count": 92,
     "metadata": {},
     "output_type": "execute_result"
    }
   ],
   "source": [
    "stats.ttest_ind(\n",
    "    a = data_laki_laki['total_bill'],\n",
    "    b = data_perempuan['total_bill'],\n",
    "    equal_var= False,\n",
    "    alternative = \"two-sided\"\n",
    ")"
   ]
  },
  {
   "cell_type": "code",
   "execution_count": null,
   "metadata": {},
   "outputs": [
    {
     "name": "stdout",
     "output_type": "stream",
     "text": [
      "     total_bill   tip     sex smoker  day    time  size\n",
      "0         16.99  1.01  Female     No  Sun  Dinner     2\n",
      "1         10.34  1.66    Male     No  Sun  Dinner     3\n",
      "2         21.01  3.50    Male     No  Sun  Dinner     3\n",
      "3         23.68  3.31    Male     No  Sun  Dinner     2\n",
      "4         24.59  3.61  Female     No  Sun  Dinner     4\n",
      "..          ...   ...     ...    ...  ...     ...   ...\n",
      "186       20.90  3.50  Female    Yes  Sun  Dinner     3\n",
      "187       30.46  2.00    Male    Yes  Sun  Dinner     5\n",
      "188       18.15  3.50  Female    Yes  Sun  Dinner     3\n",
      "189       23.10  4.00    Male    Yes  Sun  Dinner     3\n",
      "190       15.69  1.50    Male    Yes  Sun  Dinner     2\n",
      "\n",
      "[76 rows x 7 columns]\n"
     ]
    }
   ],
   "source": [
    "# Belajar Hypothesis Testing Mean dengan Anova F-Test\n",
    "# Anova F-Test digunakan untuk melakukan hipotesis testing menggunakan lebih dari 2 variable\n",
    "\n",
    "tips_data_sun = tips_data[tips_data['day'] == 'Sun']\n",
    "tips_data_sat = tips_data[tips_data['day'] == 'Sat']\n",
    "tips_data_fri = tips_data[tips_data['day'] == 'Fri']\n",
    "tips_data_thu = tips_data[tips_data['day'] == 'Thur']\n",
    "\n",
    "print(tips_data_sun)"
   ]
  },
  {
   "cell_type": "code",
   "execution_count": 101,
   "metadata": {},
   "outputs": [
    {
     "data": {
      "text/plain": [
       "F_onewayResult(statistic=1.6723551980998697, pvalue=0.17358855530405867)"
      ]
     },
     "execution_count": 101,
     "metadata": {},
     "output_type": "execute_result"
    }
   ],
   "source": [
    "stats.f_oneway(\n",
    "    tips_data_sun['tip'],\n",
    "    tips_data_sat['tip'],\n",
    "    tips_data_fri['tip'],\n",
    "    tips_data_thu['tip']\n",
    ")"
   ]
  }
 ],
 "metadata": {
  "kernelspec": {
   "display_name": "base",
   "language": "python",
   "name": "python3"
  },
  "language_info": {
   "codemirror_mode": {
    "name": "ipython",
    "version": 3
   },
   "file_extension": ".py",
   "mimetype": "text/x-python",
   "name": "python",
   "nbconvert_exporter": "python",
   "pygments_lexer": "ipython3",
   "version": "3.12.4"
  }
 },
 "nbformat": 4,
 "nbformat_minor": 2
}
