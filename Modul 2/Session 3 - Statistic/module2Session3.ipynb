{
 "cells": [
  {
   "cell_type": "code",
   "execution_count": null,
   "metadata": {},
   "outputs": [],
   "source": [
    "import numpy as np\n",
    "import pandas as pd\n",
    "import seaborn as sns\n",
    "import matplotlib.pyplot as plt"
   ]
  },
  {
   "cell_type": "code",
   "execution_count": null,
   "metadata": {},
   "outputs": [],
   "source": [
    "df_transjakarta = pd.read_csv(\n",
    "    filepath_or_buffer='Transjakarta.csv'\n",
    ")\n",
    "\n",
    "df_transjakarta"
   ]
  },
  {
   "cell_type": "code",
   "execution_count": null,
   "metadata": {},
   "outputs": [],
   "source": [
    "# Cara menghitung central tendency\n",
    "\n",
    "mean_data = df_transjakarta['payCardBirthDate'].mean()\n",
    "\n",
    "median_data = df_transjakarta['payCardBirthDate'].median()\n",
    "\n",
    "mode_data = df_transjakarta['payCardBirthDate'].mode()\n",
    "\n",
    "print(mean_data, median_data, mode_data)"
   ]
  },
  {
   "cell_type": "code",
   "execution_count": null,
   "metadata": {},
   "outputs": [],
   "source": [
    "# Cara gambar grafik pake python\n",
    "\n",
    "grafik_data = sns.histplot(data=df_transjakarta['payCardBirthDate'], kde=True)\n",
    "plt.show(grafik_data)"
   ]
  },
  {
   "cell_type": "code",
   "execution_count": null,
   "metadata": {},
   "outputs": [],
   "source": [
    "# Cara load data dari seaborn\n",
    "\n",
    "tips_data = sns.load_dataset(name='tips')\n",
    "tips_data.head()"
   ]
  },
  {
   "cell_type": "code",
   "execution_count": null,
   "metadata": {},
   "outputs": [],
   "source": [
    "# Describe semua kolom\n",
    "\n",
    "tips_data.describe(include='all')"
   ]
  },
  {
   "cell_type": "code",
   "execution_count": null,
   "metadata": {},
   "outputs": [],
   "source": [
    "# Jumlah_data dibawah mean\n",
    "\n",
    "print(len(tips_data[tips_data['total_bill'] < tips_data['total_bill'].mean()]['total_bill']))"
   ]
  },
  {
   "cell_type": "code",
   "execution_count": null,
   "metadata": {},
   "outputs": [],
   "source": [
    "# Jumlah_data diatas mean\n",
    "\n",
    "print(len(tips_data[tips_data['total_bill'] > tips_data['total_bill'].mean()]['total_bill']))"
   ]
  },
  {
   "cell_type": "code",
   "execution_count": null,
   "metadata": {},
   "outputs": [],
   "source": [
    "tips_data['total_bill'].value_counts()"
   ]
  },
  {
   "cell_type": "code",
   "execution_count": null,
   "metadata": {},
   "outputs": [],
   "source": [
    "tips_histogram = sns.histplot(data=tips_data['total_bill'], kde=True)\n",
    "plt.show(tips_histogram)"
   ]
  },
  {
   "cell_type": "code",
   "execution_count": null,
   "metadata": {},
   "outputs": [],
   "source": [
    "tips_boxplot = sns.boxplot(data=tips_data['total_bill'], orient='y')\n",
    "plt.show(tips_boxplot)"
   ]
  },
  {
   "cell_type": "code",
   "execution_count": null,
   "metadata": {},
   "outputs": [],
   "source": [
    "print(tips_data.groupby(by=['day', 'sex'],observed=True).aggregate('count'))"
   ]
  },
  {
   "cell_type": "code",
   "execution_count": null,
   "metadata": {},
   "outputs": [],
   "source": [
    "# Menghitung min/max secara statistic\n",
    "# Berguna untuk melihat outlier\n",
    "\n",
    "q1_data = tips_data['total_bill'].quantile(q=0.25)\n",
    "print(q1_data)\n",
    "q3_data = tips_data['total_bill'].quantile(q=0.75)\n",
    "\n",
    "interquartile_range = q3_data-q1_data\n",
    "\n",
    "min_data = q1_data-(1.5*interquartile_range)\n",
    "max_data = q3_data+(1.5*interquartile_range)\n",
    "print(f\"min={min_data} max={max_data}\")"
   ]
  },
  {
   "cell_type": "code",
   "execution_count": null,
   "metadata": {},
   "outputs": [],
   "source": [
    "# Melihat data-data yang outlier\n",
    "\n",
    "print(tips_data[tips_data['total_bill'] > max_data]['total_bill'].sort_values())\n",
    "\n",
    "# Mengetahui jumlah data yang outlier\n",
    "print(tips_data[tips_data['total_bill'] > max_data]['total_bill'].sort_values().count())\n",
    "\n",
    "print(tips_data[tips_data['total_bill'] < min_data]['total_bill'].sort_values().count())"
   ]
  },
  {
   "cell_type": "code",
   "execution_count": null,
   "metadata": {},
   "outputs": [],
   "source": [
    "# Bersihin data dari outlier\n",
    "\n",
    "data_total_bill_clean = tips_data[tips_data['total_bill'] < max_data]['total_bill']\n",
    "\n",
    "data_total_bill_clean.sort_values()"
   ]
  },
  {
   "cell_type": "code",
   "execution_count": null,
   "metadata": {},
   "outputs": [],
   "source": [
    "# Menampilkan data melalui histogram\n",
    "\n",
    "data_total_bill_clean_histogram = sns.histplot(data=data_total_bill_clean)\n",
    "plt.show(data_total_bill_clean_histogram)"
   ]
  },
  {
   "cell_type": "code",
   "execution_count": null,
   "metadata": {},
   "outputs": [],
   "source": [
    "# Menampilkan data melalui boxplot\n",
    "\n",
    "data_total_bill_clean_boxplot = sns.boxplot(data=data_total_bill_clean, orient='y')\n",
    "plt.show(data_total_bill_clean_boxplot)"
   ]
  },
  {
   "cell_type": "code",
   "execution_count": null,
   "metadata": {},
   "outputs": [],
   "source": [
    "data_total_bill_clean.describe()"
   ]
  },
  {
   "cell_type": "code",
   "execution_count": null,
   "metadata": {},
   "outputs": [],
   "source": [
    "# Menghitung outlier\n",
    "\n",
    "q1_data_clean = data_total_bill_clean.quantile(q=0.25)\n",
    "q3_data_clean = data_total_bill_clean.quantile(q=0.75)\n",
    "\n",
    "interquartile_range_clean = q3_data_clean-q1_data_clean\n",
    "\n",
    "min_data_clean = q1_data_clean-(1.5*interquartile_range_clean)\n",
    "max_data_clean = q3_data_clean+(1.5*interquartile_range_clean)\n",
    "print(f\"min={min_data_clean} max={max_data_clean}\")"
   ]
  },
  {
   "cell_type": "code",
   "execution_count": null,
   "metadata": {},
   "outputs": [],
   "source": [
    "# Cleansing data lebih bersih\n",
    "\n",
    "data_total_bill_clean_banget = data_total_bill_clean[data_total_bill_clean < max_data_clean]\n",
    "\n",
    "data_total_bill_clean_banget.sort_values()"
   ]
  },
  {
   "cell_type": "code",
   "execution_count": null,
   "metadata": {},
   "outputs": [],
   "source": [
    "# Menampilkan data dalam bloxplot\n",
    "\n",
    "data_total_bill_clean_banget_histogram = sns.boxplot(data=data_total_bill_clean_banget, orient='y')\n",
    "plt.show(data_total_bill_clean_banget_histogram)"
   ]
  },
  {
   "cell_type": "code",
   "execution_count": null,
   "metadata": {},
   "outputs": [],
   "source": [
    "data_total_bill_clean_banget.describe()"
   ]
  },
  {
   "cell_type": "code",
   "execution_count": null,
   "metadata": {},
   "outputs": [],
   "source": [
    "# Melihat apakah data yang kita miliki terdistribusi normal atau tidak\n",
    "\n",
    "from scipy.stats import kstest\n",
    "\n",
    "kstest(tips_data['total_bill'] , 'norm')"
   ]
  },
  {
   "cell_type": "code",
   "execution_count": null,
   "metadata": {},
   "outputs": [],
   "source": [
    "from scipy.stats import kstest\n",
    "\n",
    "kstest(data_total_bill_clean , 'norm')"
   ]
  },
  {
   "cell_type": "code",
   "execution_count": null,
   "metadata": {},
   "outputs": [],
   "source": [
    "# Membuat summary dalam bentuk table\n",
    "\n",
    "tips_data.groupby(by='day', observed=True).aggregate('count')"
   ]
  },
  {
   "cell_type": "code",
   "execution_count": null,
   "metadata": {},
   "outputs": [],
   "source": [
    "tips_data.groupby(by=[pd.cut(tips_data['tip'], bins=[0, 2.5, 4, 5.5, 7])], observed=True).aggregate('count')"
   ]
  },
  {
   "cell_type": "code",
   "execution_count": null,
   "metadata": {},
   "outputs": [],
   "source": [
    "pd.crosstab(index=[tips_data['day'], tips_data['sex']], columns=['total_bill'], values='total_bill', aggfunc='count', normalize='columns')"
   ]
  },
  {
   "cell_type": "code",
   "execution_count": null,
   "metadata": {},
   "outputs": [],
   "source": [
    "scatterplot_data = sns.scatterplot(data=tips_data, x='total_bill', y='tip', hue='tip',style='day')\n",
    "plt.show(scatterplot_data)"
   ]
  },
  {
   "cell_type": "code",
   "execution_count": null,
   "metadata": {},
   "outputs": [],
   "source": [
    "# Belajar Hypothesis Testing untuk single population mean\n",
    "\n",
    "tips_data.describe()"
   ]
  },
  {
   "cell_type": "code",
   "execution_count": null,
   "metadata": {},
   "outputs": [],
   "source": [
    "from scipy import stats\n",
    "\n",
    "statistic, pvalue= stats.ttest_1samp(\n",
    "    a = tips_data['total_bill'],\n",
    "    popmean = 22,\n",
    "    alternative = 'two-sided'\n",
    ")\n",
    "\n",
    "print(statistic, pvalue)"
   ]
  },
  {
   "cell_type": "code",
   "execution_count": null,
   "metadata": {},
   "outputs": [],
   "source": [
    "# Belajar Hypothesis Testing untuk independent multiple population mean\n",
    "# H0 adalah sebuah analisan yang ingin kita buktikan\n",
    "# Sebagai contoh, H0nya adalah: Rata-rata total_bill laki-laki > total_bill wanita\n",
    "\n",
    "\n",
    "data_laki_laki = tips_data[tips_data['sex'] == 'Male']\n",
    "data_perempuan = tips_data[tips_data['sex'] == 'Female']\n",
    "\n",
    "\n",
    "stats.ttest_ind(\n",
    "\n",
    "    a = data_laki_laki['total_bill'],\n",
    "    b = data_perempuan['total_bill'],\n",
    "    equal_var = False,\n",
    "    alternative = 'greater' # untuk melihat a > b, atau total bill laki2 > total bill perempuan\n",
    ")\n",
    "\n",
    "# Yang kita lihat cukup p-valuenya saja, kalau p-value < 0.05 artinya H0 ditolak\n",
    "# Kalau p-valuenya > 0.05 artinya H0 diterima"
   ]
  },
  {
   "cell_type": "code",
   "execution_count": null,
   "metadata": {},
   "outputs": [],
   "source": [
    "stats.ttest_ind(\n",
    "    a = data_laki_laki['total_bill'],\n",
    "    b = data_perempuan['total_bill'],\n",
    "    equal_var= False,\n",
    "    alternative = \"two-sided\"\n",
    ")"
   ]
  },
  {
   "cell_type": "code",
   "execution_count": null,
   "metadata": {},
   "outputs": [],
   "source": [
    "# Belajar Hypothesis Testing Mean dengan Anova F-Test\n",
    "# Anova F-Test digunakan untuk melakukan hipotesis testing menggunakan lebih dari 2 variable\n",
    "\n",
    "tips_data_sun = tips_data[tips_data['day'] == 'Sun']\n",
    "tips_data_sat = tips_data[tips_data['day'] == 'Sat']\n",
    "tips_data_fri = tips_data[tips_data['day'] == 'Fri']\n",
    "tips_data_thu = tips_data[tips_data['day'] == 'Thur']\n",
    "\n",
    "print(tips_data_sun)"
   ]
  },
  {
   "cell_type": "code",
   "execution_count": null,
   "metadata": {},
   "outputs": [],
   "source": [
    "stats.f_oneway(\n",
    "    tips_data_sun['tip'],\n",
    "    tips_data_sat['tip'],\n",
    "    tips_data_fri['tip'],\n",
    "    tips_data_thu['tip']\n",
    ")"
   ]
  },
  {
   "cell_type": "code",
   "execution_count": null,
   "metadata": {},
   "outputs": [],
   "source": [
    "# Uji Z Test for proportion single population\n",
    "# H0: proporsi orang suka makan padang = 0.6\n",
    "# H1: proporsi orang suka masakan padang != 0.6\n",
    "\n",
    "from statsmodels.stats.proportion import proportions_ztest\n",
    "\n",
    "z_stat, p_value = proportions_ztest(\n",
    "    count = 30, # jumlah data yang suka masakan padang (p0)\n",
    "    nobs = 50, # jumlah sample keseluruhan\n",
    "    value = 0.6, #hipotesa awal proporsi pada populasi\n",
    "    alternative = 'two-sided'\n",
    ")\n",
    "\n",
    "print(z_stat, p_value)"
   ]
  },
  {
   "cell_type": "code",
   "execution_count": 46,
   "metadata": {},
   "outputs": [],
   "source": [
    "# Chi-squared test: apakah 2 variable saling tidak terhubung atau terhubung\n",
    "# H0: 2 variable saling tidak terhubung\n",
    "# H1: 2 variable saling terhubung\n",
    "\n",
    "from sklearn.preprocessing import LabelEncoder\n",
    "\n",
    "smoker_encoder = LabelEncoder()"
   ]
  },
  {
   "cell_type": "code",
   "execution_count": 47,
   "metadata": {},
   "outputs": [],
   "source": [
    "tips_data['smoker_encoded'] = smoker_encoder.fit_transform(tips_data['smoker'])"
   ]
  },
  {
   "cell_type": "code",
   "execution_count": 51,
   "metadata": {},
   "outputs": [
    {
     "data": {
      "text/html": [
       "<div>\n",
       "<style scoped>\n",
       "    .dataframe tbody tr th:only-of-type {\n",
       "        vertical-align: middle;\n",
       "    }\n",
       "\n",
       "    .dataframe tbody tr th {\n",
       "        vertical-align: top;\n",
       "    }\n",
       "\n",
       "    .dataframe thead th {\n",
       "        text-align: right;\n",
       "    }\n",
       "</style>\n",
       "<table border=\"1\" class=\"dataframe\">\n",
       "  <thead>\n",
       "    <tr style=\"text-align: right;\">\n",
       "      <th></th>\n",
       "      <th>smoker</th>\n",
       "      <th>smoker_encoded</th>\n",
       "    </tr>\n",
       "  </thead>\n",
       "  <tbody>\n",
       "    <tr>\n",
       "      <th>0</th>\n",
       "      <td>No</td>\n",
       "      <td>0</td>\n",
       "    </tr>\n",
       "    <tr>\n",
       "      <th>1</th>\n",
       "      <td>No</td>\n",
       "      <td>0</td>\n",
       "    </tr>\n",
       "    <tr>\n",
       "      <th>2</th>\n",
       "      <td>No</td>\n",
       "      <td>0</td>\n",
       "    </tr>\n",
       "    <tr>\n",
       "      <th>3</th>\n",
       "      <td>No</td>\n",
       "      <td>0</td>\n",
       "    </tr>\n",
       "    <tr>\n",
       "      <th>4</th>\n",
       "      <td>No</td>\n",
       "      <td>0</td>\n",
       "    </tr>\n",
       "    <tr>\n",
       "      <th>...</th>\n",
       "      <td>...</td>\n",
       "      <td>...</td>\n",
       "    </tr>\n",
       "    <tr>\n",
       "      <th>239</th>\n",
       "      <td>No</td>\n",
       "      <td>0</td>\n",
       "    </tr>\n",
       "    <tr>\n",
       "      <th>240</th>\n",
       "      <td>Yes</td>\n",
       "      <td>1</td>\n",
       "    </tr>\n",
       "    <tr>\n",
       "      <th>241</th>\n",
       "      <td>Yes</td>\n",
       "      <td>1</td>\n",
       "    </tr>\n",
       "    <tr>\n",
       "      <th>242</th>\n",
       "      <td>No</td>\n",
       "      <td>0</td>\n",
       "    </tr>\n",
       "    <tr>\n",
       "      <th>243</th>\n",
       "      <td>No</td>\n",
       "      <td>0</td>\n",
       "    </tr>\n",
       "  </tbody>\n",
       "</table>\n",
       "<p>244 rows × 2 columns</p>\n",
       "</div>"
      ],
      "text/plain": [
       "    smoker  smoker_encoded\n",
       "0       No               0\n",
       "1       No               0\n",
       "2       No               0\n",
       "3       No               0\n",
       "4       No               0\n",
       "..     ...             ...\n",
       "239     No               0\n",
       "240    Yes               1\n",
       "241    Yes               1\n",
       "242     No               0\n",
       "243     No               0\n",
       "\n",
       "[244 rows x 2 columns]"
      ]
     },
     "execution_count": 51,
     "metadata": {},
     "output_type": "execute_result"
    }
   ],
   "source": [
    "tips_data[['smoker', 'smoker_encoded']]"
   ]
  },
  {
   "cell_type": "code",
   "execution_count": null,
   "metadata": {},
   "outputs": [
    {
     "name": "stdout",
     "output_type": "stream",
     "text": [
      "0.9999998202463211\n",
      "independent variable\n"
     ]
    }
   ],
   "source": [
    "# Uji Chi-Square \n",
    "# Variablenya harus numerikal\n",
    "# Untuk menguji apakah korelasi antara 2 variable saling berkaitan atau tidak\n",
    "\n",
    "from scipy.stats import chi2_contingency\n",
    "\n",
    "data_agresasi = [tips_data['size'].values.tolist(), tips_data['smoker_encoded']]\n",
    "\n",
    "stat, p, dof, expected = chi2_contingency(observed=data_agresasi)\n",
    "\n",
    "print(p)\n",
    "\n",
    "if p > 0.05:\n",
    "    print('independent variable')\n",
    "else:\n",
    "    print('dependent variable')"
   ]
  },
  {
   "cell_type": "code",
   "execution_count": null,
   "metadata": {},
   "outputs": [
    {
     "name": "stdout",
     "output_type": "stream",
     "text": [
      "                    size  smoker_encoded\n",
      "size            1.000000       -0.129651\n",
      "smoker_encoded -0.129651        1.000000\n",
      "-0.1296510151206985\n"
     ]
    }
   ],
   "source": [
    "# Uji Korelasi pakai metode spearmen\n",
    "# Pakai spearmen kalau datanya tidak terdistribusi normal\n",
    "# Contoh: Menilai hubungan antara peringkat kepuasan pelanggan dan peringkat layanan\n",
    "\n",
    "print(tips_data[['size', 'smoker_encoded']].corr(method='spearman'))\n",
    "\n",
    "# Contoh kode lainnya\n",
    "print(tips_data['size'].corr(tips_data['smoker_encoded'], method='spearman'))"
   ]
  },
  {
   "cell_type": "code",
   "execution_count": null,
   "metadata": {},
   "outputs": [
    {
     "name": "stdout",
     "output_type": "stream",
     "text": [
      "                    size  smoker_encoded\n",
      "size            1.000000       -0.133178\n",
      "smoker_encoded -0.133178        1.000000\n",
      "-0.1296510151206985\n"
     ]
    }
   ],
   "source": [
    "# Uji Korelasi pakai metode pearson\n",
    "# Pakai pearson kalau datanya terdistribusi normal\n",
    "# Contoh: Menilai hubungan (korelasi) antara tinggi badan dan berat badan dalam populasi normal\n",
    "\n",
    "print(tips_data[['size', 'smoker_encoded']].corr(method='pearson'))\n",
    "\n",
    "print(tips_data['size'].corr(tips_data['smoker_encoded'], method='spearman'))"
   ]
  }
 ],
 "metadata": {
  "kernelspec": {
   "display_name": "base",
   "language": "python",
   "name": "python3"
  },
  "language_info": {
   "codemirror_mode": {
    "name": "ipython",
    "version": 3
   },
   "file_extension": ".py",
   "mimetype": "text/x-python",
   "name": "python",
   "nbconvert_exporter": "python",
   "pygments_lexer": "ipython3",
   "version": "3.12.4"
  }
 },
 "nbformat": 4,
 "nbformat_minor": 2
}
