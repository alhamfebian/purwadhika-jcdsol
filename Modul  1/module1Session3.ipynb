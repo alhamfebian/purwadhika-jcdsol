{
 "cells": [
  {
   "cell_type": "markdown",
   "metadata": {},
   "source": [
    "Module 1 Session 3: Python Variable, Data Types and User Input"
   ]
  },
  {
   "cell_type": "code",
   "execution_count": 1,
   "metadata": {},
   "outputs": [
    {
     "name": "stdout",
     "output_type": "stream",
     "text": [
      "Alham\n"
     ]
    }
   ],
   "source": [
    "# Ini contoh variable string\n",
    "nama = 'Alham'\n",
    "print(nama)"
   ]
  },
  {
   "cell_type": "code",
   "execution_count": null,
   "metadata": {},
   "outputs": [],
   "source": [
    "# -> ini buat comment bro di python, mantap ya! \n",
    "print('This is Python!')"
   ]
  },
  {
   "cell_type": "code",
   "execution_count": null,
   "metadata": {},
   "outputs": [],
   "source": [
    "# Ini contoh variable integer\n",
    "a = 10\n",
    "b = 11\n",
    "print(a + b)"
   ]
  },
  {
   "cell_type": "code",
   "execution_count": null,
   "metadata": {},
   "outputs": [],
   "source": [
    "# cara import library di python\n",
    "import math\n",
    "\n",
    "# Ini cara gunain library math di python bro!\n",
    "print(math.sqrt(16))\n",
    "print(math.ceil(2.3))"
   ]
  },
  {
   "cell_type": "code",
   "execution_count": null,
   "metadata": {},
   "outputs": [],
   "source": [
    "# Ini contoh variable list\n",
    "list = ['apple', 'banana', 'kiwi']"
   ]
  },
  {
   "cell_type": "code",
   "execution_count": null,
   "metadata": {},
   "outputs": [],
   "source": [
    "# Ini contoh variable tuple\n",
    "tuple = ('apple', 'banana', 'kiwi')"
   ]
  },
  {
   "cell_type": "code",
   "execution_count": null,
   "metadata": {},
   "outputs": [],
   "source": [
    "# Ini contoh variable dictionary\n",
    "dictionary = {'buah1' : 'mangga', 'buah2':'banana', 'buah3':'kiwi'}"
   ]
  },
  {
   "cell_type": "code",
   "execution_count": null,
   "metadata": {},
   "outputs": [],
   "source": [
    "# Ini cara casting value di python bro!\n",
    "string = '100'\n",
    "stringCastingToNumber = int(string)\n",
    "print(stringCastingToNumber + 10)"
   ]
  },
  {
   "cell_type": "code",
   "execution_count": null,
   "metadata": {},
   "outputs": [],
   "source": [
    "# Catatan tambahan buat casting\n",
    "# yang bisa & mudah untuk di casting:\n",
    "# string angka tanpa koma -> int atau float bisa\n",
    "# string angka dengan koma -> float\n",
    "# int -> float"
   ]
  },
  {
   "cell_type": "code",
   "execution_count": null,
   "metadata": {},
   "outputs": [],
   "source": [
    "# Ini cara slicing string di python bro!\n",
    "text = \"I'm Baron, Nice to meet you\"\n",
    "print(text[3:6])"
   ]
  },
  {
   "cell_type": "code",
   "execution_count": null,
   "metadata": {},
   "outputs": [],
   "source": [
    "# Ini ada contoh String Format\n",
    "text = \"asdf\"\n",
    "print(text)"
   ]
  },
  {
   "cell_type": "code",
   "execution_count": null,
   "metadata": {},
   "outputs": [],
   "source": [
    "# Fungsi input di python\n",
    "inputValue = input(\"Input Number:\")\n",
    "print(int(inputValue)**2)"
   ]
  },
  {
   "cell_type": "code",
   "execution_count": 4,
   "metadata": {},
   "outputs": [
    {
     "name": "stdout",
     "output_type": "stream",
     "text": [
      "0.6944444444444445\n"
     ]
    }
   ],
   "source": [
    "# Excercise Session 3: Soal 1\n",
    "x = 4\n",
    "y = 3\n",
    "z = 2\n",
    "\n",
    "result = ((x + (y * z)) / (x * y)) ** 2\n",
    "\n",
    "print(result)"
   ]
  },
  {
   "cell_type": "code",
   "execution_count": 5,
   "metadata": {},
   "outputs": [
    {
     "name": "stdout",
     "output_type": "stream",
     "text": [
      "Kuadrat dari 5 = 25\n"
     ]
    }
   ],
   "source": [
    "# Excercise Session 3: Soal 2 \n",
    "userInput = int(input('Silahkan masukkan angka berapapun: '))\n",
    "print(f'Kuadrat dari {userInput} = {userInput**2}')"
   ]
  },
  {
   "cell_type": "code",
   "execution_count": 26,
   "metadata": {},
   "outputs": [
    {
     "name": "stdout",
     "output_type": "stream",
     "text": [
      "5\n",
      "1 Tahun, 0 Bulan, 0 Minggu, 5 Hari\n"
     ]
    }
   ],
   "source": [
    "# Excercise Session 3: Soal 3\n",
    "satuTahun = 360\n",
    "satuBulan = 30\n",
    "satuMinggu = 7\n",
    "\n",
    "x = 365\n",
    "a = x // satuTahun\n",
    "b = (x - satuTahun) // satuBulan\n",
    "c = (x - satuTahun) % satuBulan\n",
    "d = c // satuMinggu\n",
    "e = c % satuMinggu\n",
    "\n",
    "print(e)\n",
    "print(f'{a} Tahun, {b} Bulan, {d} Minggu, {e} Hari')"
   ]
  },
  {
   "cell_type": "code",
   "execution_count": 30,
   "metadata": {},
   "outputs": [
    {
     "name": "stdout",
     "output_type": "stream",
     "text": [
      "\n",
      "Detail Belanja\n",
      "\n",
      "Apel : 2 x 10000 = 20000\n",
      "\n",
      "Jeruk : 3 x 15000 = 45000\n",
      "\n",
      "Anggur : 5 x 20000 = 100000\n",
      "\n",
      "Total Belanja : 165000\n"
     ]
    }
   ],
   "source": [
    "# Exercise Session 3: Soal 4\n",
    "hargaApel = 10000\n",
    "hargaJeruk = 15000\n",
    "hargaAnggur = 20000\n",
    "\n",
    "jumlahApel = int(input(\"Masukan Jumlah Apel : \"))\n",
    "jumlahJeruk = int(input(\"Masukan Jumlah Jeruk : \"))\n",
    "jumlahAnggur = int(input(\"Masukan Jumlah Anggur : \"))\n",
    "\n",
    "print('\\nDetail Belanja\\n')\n",
    "\n",
    "totalBelanjaApel = jumlahApel * hargaApel\n",
    "totalBelanjaJeruk = jumlahJeruk * hargaJeruk\n",
    "totalBelanjaAnggur = jumlahAnggur * hargaAnggur\n",
    "totalSeluruhBelanja = totalBelanjaApel + totalBelanjaJeruk + totalBelanjaAnggur\n",
    "\n",
    "print(f'Apel : {jumlahApel} x {hargaApel} = {jumlahApel * hargaApel}\\n')\n",
    "print(f'Jeruk : {jumlahJeruk} x {hargaJeruk} = {jumlahJeruk * hargaJeruk}\\n')\n",
    "print(f'Anggur : {jumlahAnggur} x {hargaAnggur} = {jumlahAnggur * hargaAnggur}\\n')\n",
    "\n",
    "print(\"Total Belanja : {totalBelanja}\".format(totalBelanja = totalSeluruhBelanja)) "
   ]
  }
 ],
 "metadata": {
  "kernelspec": {
   "display_name": "base",
   "language": "python",
   "name": "python3"
  },
  "language_info": {
   "codemirror_mode": {
    "name": "ipython",
    "version": 3
   },
   "file_extension": ".py",
   "mimetype": "text/x-python",
   "name": "python",
   "nbconvert_exporter": "python",
   "pygments_lexer": "ipython3",
   "version": "3.12.4"
  }
 },
 "nbformat": 4,
 "nbformat_minor": 2
}
